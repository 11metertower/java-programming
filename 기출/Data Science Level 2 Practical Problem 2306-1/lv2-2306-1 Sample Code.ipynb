{
 "cells": [
  {
   "cell_type": "markdown",
   "id": "993aa6ec",
   "metadata": {},
   "source": [
    "#  Data Science Level 2 Practical Problem 2306-1 "
   ]
  },
  {
   "cell_type": "code",
   "execution_count": 1,
   "id": "60ca70bb",
   "metadata": {},
   "outputs": [],
   "source": [
    "import pandas as pd\n",
    "import numpy as np"
   ]
  },
  {
   "cell_type": "code",
   "execution_count": 2,
   "id": "a55ca399",
   "metadata": {
    "scrolled": true
   },
   "outputs": [
    {
     "data": {
      "text/html": [
       "<div>\n",
       "<style scoped>\n",
       "    .dataframe tbody tr th:only-of-type {\n",
       "        vertical-align: middle;\n",
       "    }\n",
       "\n",
       "    .dataframe tbody tr th {\n",
       "        vertical-align: top;\n",
       "    }\n",
       "\n",
       "    .dataframe thead th {\n",
       "        text-align: right;\n",
       "    }\n",
       "</style>\n",
       "<table border=\"1\" class=\"dataframe\">\n",
       "  <thead>\n",
       "    <tr style=\"text-align: right;\">\n",
       "      <th></th>\n",
       "      <th>PRD_ID</th>\n",
       "      <th>DEVICE_BRAND</th>\n",
       "      <th>OS</th>\n",
       "      <th>SCREEN_SIZE</th>\n",
       "      <th>NET_4G</th>\n",
       "      <th>NET_5G</th>\n",
       "      <th>REAR_CAMERA_MP</th>\n",
       "      <th>FRONT_CAMERA_MP</th>\n",
       "      <th>INTERNAL_MEMORY</th>\n",
       "      <th>RAM</th>\n",
       "      <th>BATTERY</th>\n",
       "      <th>WEIGHT</th>\n",
       "      <th>RELEASE_YEAR</th>\n",
       "      <th>DAYS_USED</th>\n",
       "      <th>NORMALIZED_USED_PRICE</th>\n",
       "      <th>NORMALIZED_NEW_PRICE</th>\n",
       "    </tr>\n",
       "  </thead>\n",
       "  <tbody>\n",
       "    <tr>\n",
       "      <td>3250</td>\n",
       "      <td>3251</td>\n",
       "      <td>Alcatel</td>\n",
       "      <td>Android</td>\n",
       "      <td>15.80</td>\n",
       "      <td>yes</td>\n",
       "      <td>no</td>\n",
       "      <td>13.0</td>\n",
       "      <td>5.0</td>\n",
       "      <td>32.0</td>\n",
       "      <td>3.0</td>\n",
       "      <td>4000.0</td>\n",
       "      <td>165.0</td>\n",
       "      <td>2020</td>\n",
       "      <td>201</td>\n",
       "      <td>4.357350</td>\n",
       "      <td>4.528829</td>\n",
       "    </tr>\n",
       "    <tr>\n",
       "      <td>3251</td>\n",
       "      <td>3252</td>\n",
       "      <td>Alcatel</td>\n",
       "      <td>Android</td>\n",
       "      <td>15.80</td>\n",
       "      <td>yes</td>\n",
       "      <td>no</td>\n",
       "      <td>13.0</td>\n",
       "      <td>5.0</td>\n",
       "      <td>32.0</td>\n",
       "      <td>2.0</td>\n",
       "      <td>4000.0</td>\n",
       "      <td>160.0</td>\n",
       "      <td>2020</td>\n",
       "      <td>149</td>\n",
       "      <td>4.349762</td>\n",
       "      <td>4.624188</td>\n",
       "    </tr>\n",
       "    <tr>\n",
       "      <td>3252</td>\n",
       "      <td>3253</td>\n",
       "      <td>Alcatel</td>\n",
       "      <td>Android</td>\n",
       "      <td>12.83</td>\n",
       "      <td>yes</td>\n",
       "      <td>no</td>\n",
       "      <td>13.0</td>\n",
       "      <td>5.0</td>\n",
       "      <td>16.0</td>\n",
       "      <td>2.0</td>\n",
       "      <td>4000.0</td>\n",
       "      <td>168.0</td>\n",
       "      <td>2020</td>\n",
       "      <td>176</td>\n",
       "      <td>4.132122</td>\n",
       "      <td>4.279994</td>\n",
       "    </tr>\n",
       "  </tbody>\n",
       "</table>\n",
       "</div>"
      ],
      "text/plain": [
       "      PRD_ID DEVICE_BRAND       OS  SCREEN_SIZE NET_4G NET_5G  REAR_CAMERA_MP  \\\n",
       "3250    3251      Alcatel  Android        15.80    yes     no            13.0   \n",
       "3251    3252      Alcatel  Android        15.80    yes     no            13.0   \n",
       "3252    3253      Alcatel  Android        12.83    yes     no            13.0   \n",
       "\n",
       "      FRONT_CAMERA_MP  INTERNAL_MEMORY  RAM  BATTERY  WEIGHT  RELEASE_YEAR  \\\n",
       "3250              5.0             32.0  3.0   4000.0   165.0          2020   \n",
       "3251              5.0             32.0  2.0   4000.0   160.0          2020   \n",
       "3252              5.0             16.0  2.0   4000.0   168.0          2020   \n",
       "\n",
       "      DAYS_USED  NORMALIZED_USED_PRICE  NORMALIZED_NEW_PRICE  \n",
       "3250        201               4.357350              4.528829  \n",
       "3251        149               4.349762              4.624188  \n",
       "3252        176               4.132122              4.279994  "
      ]
     },
     "execution_count": 2,
     "metadata": {},
     "output_type": "execute_result"
    }
   ],
   "source": [
    "df_raw02 = pd.read_csv('lv2-2306-1.csv')\n",
    "df_raw02.tail(3)"
   ]
  },
  {
   "cell_type": "code",
   "execution_count": 3,
   "id": "93986676",
   "metadata": {},
   "outputs": [
    {
     "name": "stdout",
     "output_type": "stream",
     "text": [
      "<class 'pandas.core.frame.DataFrame'>\n",
      "RangeIndex: 3253 entries, 0 to 3252\n",
      "Data columns (total 16 columns):\n",
      "PRD_ID                   3253 non-null int64\n",
      "DEVICE_BRAND             3253 non-null object\n",
      "OS                       3253 non-null object\n",
      "SCREEN_SIZE              3253 non-null float64\n",
      "NET_4G                   3253 non-null object\n",
      "NET_5G                   3253 non-null object\n",
      "REAR_CAMERA_MP           3253 non-null float64\n",
      "FRONT_CAMERA_MP          3253 non-null float64\n",
      "INTERNAL_MEMORY          3253 non-null float64\n",
      "RAM                      3253 non-null float64\n",
      "BATTERY                  3253 non-null float64\n",
      "WEIGHT                   3253 non-null float64\n",
      "RELEASE_YEAR             3253 non-null int64\n",
      "DAYS_USED                3253 non-null int64\n",
      "NORMALIZED_USED_PRICE    3253 non-null float64\n",
      "NORMALIZED_NEW_PRICE     3253 non-null float64\n",
      "dtypes: float64(9), int64(3), object(4)\n",
      "memory usage: 406.8+ KB\n"
     ]
    }
   ],
   "source": [
    "df_raw02.info()"
   ]
  },
  {
   "cell_type": "code",
   "execution_count": 4,
   "id": "032c6034",
   "metadata": {},
   "outputs": [
    {
     "data": {
      "text/plain": [
       "(3253, 16)"
      ]
     },
     "execution_count": 4,
     "metadata": {},
     "output_type": "execute_result"
    }
   ],
   "source": [
    "df_raw02.shape"
   ]
  },
  {
   "cell_type": "markdown",
   "id": "6ca4f492",
   "metadata": {},
   "source": [
    "### 1."
   ]
  },
  {
   "cell_type": "code",
   "execution_count": 5,
   "id": "e30d566a",
   "metadata": {},
   "outputs": [],
   "source": [
    "df240 = df_raw02.copy()"
   ]
  },
  {
   "cell_type": "code",
   "execution_count": 6,
   "id": "98a62135",
   "metadata": {},
   "outputs": [
    {
     "data": {
      "text/html": [
       "<div>\n",
       "<style scoped>\n",
       "    .dataframe tbody tr th:only-of-type {\n",
       "        vertical-align: middle;\n",
       "    }\n",
       "\n",
       "    .dataframe tbody tr th {\n",
       "        vertical-align: top;\n",
       "    }\n",
       "\n",
       "    .dataframe thead th {\n",
       "        text-align: right;\n",
       "    }\n",
       "</style>\n",
       "<table border=\"1\" class=\"dataframe\">\n",
       "  <thead>\n",
       "    <tr style=\"text-align: right;\">\n",
       "      <th></th>\n",
       "      <th>PRD_ID</th>\n",
       "      <th>DEVICE_BRAND</th>\n",
       "      <th>OS</th>\n",
       "      <th>SCREEN_SIZE</th>\n",
       "      <th>NET_4G</th>\n",
       "      <th>NET_5G</th>\n",
       "      <th>REAR_CAMERA_MP</th>\n",
       "      <th>FRONT_CAMERA_MP</th>\n",
       "      <th>INTERNAL_MEMORY</th>\n",
       "      <th>RAM</th>\n",
       "      <th>BATTERY</th>\n",
       "      <th>WEIGHT</th>\n",
       "      <th>RELEASE_YEAR</th>\n",
       "      <th>DAYS_USED</th>\n",
       "      <th>NORMALIZED_USED_PRICE</th>\n",
       "      <th>NORMALIZED_NEW_PRICE</th>\n",
       "    </tr>\n",
       "  </thead>\n",
       "  <tbody>\n",
       "    <tr>\n",
       "      <td>0</td>\n",
       "      <td>1</td>\n",
       "      <td>Honor</td>\n",
       "      <td>Android</td>\n",
       "      <td>14.50</td>\n",
       "      <td>yes</td>\n",
       "      <td>no</td>\n",
       "      <td>13.0</td>\n",
       "      <td>5.0</td>\n",
       "      <td>64.0</td>\n",
       "      <td>3.0</td>\n",
       "      <td>3020.0</td>\n",
       "      <td>146.0</td>\n",
       "      <td>2020</td>\n",
       "      <td>127</td>\n",
       "      <td>4.307572</td>\n",
       "      <td>4.715100</td>\n",
       "    </tr>\n",
       "    <tr>\n",
       "      <td>1</td>\n",
       "      <td>2</td>\n",
       "      <td>Honor</td>\n",
       "      <td>Android</td>\n",
       "      <td>17.30</td>\n",
       "      <td>yes</td>\n",
       "      <td>yes</td>\n",
       "      <td>13.0</td>\n",
       "      <td>16.0</td>\n",
       "      <td>128.0</td>\n",
       "      <td>8.0</td>\n",
       "      <td>4300.0</td>\n",
       "      <td>213.0</td>\n",
       "      <td>2020</td>\n",
       "      <td>325</td>\n",
       "      <td>5.162097</td>\n",
       "      <td>5.519018</td>\n",
       "    </tr>\n",
       "    <tr>\n",
       "      <td>2</td>\n",
       "      <td>3</td>\n",
       "      <td>Honor</td>\n",
       "      <td>Android</td>\n",
       "      <td>16.69</td>\n",
       "      <td>yes</td>\n",
       "      <td>yes</td>\n",
       "      <td>13.0</td>\n",
       "      <td>8.0</td>\n",
       "      <td>128.0</td>\n",
       "      <td>8.0</td>\n",
       "      <td>4200.0</td>\n",
       "      <td>213.0</td>\n",
       "      <td>2020</td>\n",
       "      <td>162</td>\n",
       "      <td>5.111084</td>\n",
       "      <td>5.884631</td>\n",
       "    </tr>\n",
       "    <tr>\n",
       "      <td>3</td>\n",
       "      <td>4</td>\n",
       "      <td>Honor</td>\n",
       "      <td>Android</td>\n",
       "      <td>25.50</td>\n",
       "      <td>yes</td>\n",
       "      <td>yes</td>\n",
       "      <td>13.0</td>\n",
       "      <td>8.0</td>\n",
       "      <td>64.0</td>\n",
       "      <td>6.0</td>\n",
       "      <td>7250.0</td>\n",
       "      <td>480.0</td>\n",
       "      <td>2020</td>\n",
       "      <td>345</td>\n",
       "      <td>5.135387</td>\n",
       "      <td>5.630961</td>\n",
       "    </tr>\n",
       "    <tr>\n",
       "      <td>4</td>\n",
       "      <td>5</td>\n",
       "      <td>Honor</td>\n",
       "      <td>Android</td>\n",
       "      <td>15.32</td>\n",
       "      <td>yes</td>\n",
       "      <td>no</td>\n",
       "      <td>13.0</td>\n",
       "      <td>8.0</td>\n",
       "      <td>64.0</td>\n",
       "      <td>3.0</td>\n",
       "      <td>5000.0</td>\n",
       "      <td>185.0</td>\n",
       "      <td>2020</td>\n",
       "      <td>293</td>\n",
       "      <td>4.389995</td>\n",
       "      <td>4.947837</td>\n",
       "    </tr>\n",
       "    <tr>\n",
       "      <td>...</td>\n",
       "      <td>...</td>\n",
       "      <td>...</td>\n",
       "      <td>...</td>\n",
       "      <td>...</td>\n",
       "      <td>...</td>\n",
       "      <td>...</td>\n",
       "      <td>...</td>\n",
       "      <td>...</td>\n",
       "      <td>...</td>\n",
       "      <td>...</td>\n",
       "      <td>...</td>\n",
       "      <td>...</td>\n",
       "      <td>...</td>\n",
       "      <td>...</td>\n",
       "      <td>...</td>\n",
       "      <td>...</td>\n",
       "    </tr>\n",
       "    <tr>\n",
       "      <td>3248</td>\n",
       "      <td>3249</td>\n",
       "      <td>Apple</td>\n",
       "      <td>iOS</td>\n",
       "      <td>15.27</td>\n",
       "      <td>yes</td>\n",
       "      <td>no</td>\n",
       "      <td>8.0</td>\n",
       "      <td>7.0</td>\n",
       "      <td>64.0</td>\n",
       "      <td>4.0</td>\n",
       "      <td>3110.0</td>\n",
       "      <td>194.0</td>\n",
       "      <td>2019</td>\n",
       "      <td>208</td>\n",
       "      <td>5.100902</td>\n",
       "      <td>6.287933</td>\n",
       "    </tr>\n",
       "    <tr>\n",
       "      <td>3249</td>\n",
       "      <td>3250</td>\n",
       "      <td>Asus</td>\n",
       "      <td>Android</td>\n",
       "      <td>15.24</td>\n",
       "      <td>yes</td>\n",
       "      <td>no</td>\n",
       "      <td>13.0</td>\n",
       "      <td>8.0</td>\n",
       "      <td>128.0</td>\n",
       "      <td>8.0</td>\n",
       "      <td>4000.0</td>\n",
       "      <td>200.0</td>\n",
       "      <td>2018</td>\n",
       "      <td>541</td>\n",
       "      <td>5.037732</td>\n",
       "      <td>6.251538</td>\n",
       "    </tr>\n",
       "    <tr>\n",
       "      <td>3250</td>\n",
       "      <td>3251</td>\n",
       "      <td>Alcatel</td>\n",
       "      <td>Android</td>\n",
       "      <td>15.80</td>\n",
       "      <td>yes</td>\n",
       "      <td>no</td>\n",
       "      <td>13.0</td>\n",
       "      <td>5.0</td>\n",
       "      <td>32.0</td>\n",
       "      <td>3.0</td>\n",
       "      <td>4000.0</td>\n",
       "      <td>165.0</td>\n",
       "      <td>2020</td>\n",
       "      <td>201</td>\n",
       "      <td>4.357350</td>\n",
       "      <td>4.528829</td>\n",
       "    </tr>\n",
       "    <tr>\n",
       "      <td>3251</td>\n",
       "      <td>3252</td>\n",
       "      <td>Alcatel</td>\n",
       "      <td>Android</td>\n",
       "      <td>15.80</td>\n",
       "      <td>yes</td>\n",
       "      <td>no</td>\n",
       "      <td>13.0</td>\n",
       "      <td>5.0</td>\n",
       "      <td>32.0</td>\n",
       "      <td>2.0</td>\n",
       "      <td>4000.0</td>\n",
       "      <td>160.0</td>\n",
       "      <td>2020</td>\n",
       "      <td>149</td>\n",
       "      <td>4.349762</td>\n",
       "      <td>4.624188</td>\n",
       "    </tr>\n",
       "    <tr>\n",
       "      <td>3252</td>\n",
       "      <td>3253</td>\n",
       "      <td>Alcatel</td>\n",
       "      <td>Android</td>\n",
       "      <td>12.83</td>\n",
       "      <td>yes</td>\n",
       "      <td>no</td>\n",
       "      <td>13.0</td>\n",
       "      <td>5.0</td>\n",
       "      <td>16.0</td>\n",
       "      <td>2.0</td>\n",
       "      <td>4000.0</td>\n",
       "      <td>168.0</td>\n",
       "      <td>2020</td>\n",
       "      <td>176</td>\n",
       "      <td>4.132122</td>\n",
       "      <td>4.279994</td>\n",
       "    </tr>\n",
       "  </tbody>\n",
       "</table>\n",
       "<p>3253 rows × 16 columns</p>\n",
       "</div>"
      ],
      "text/plain": [
       "      PRD_ID DEVICE_BRAND       OS  SCREEN_SIZE NET_4G NET_5G  REAR_CAMERA_MP  \\\n",
       "0          1        Honor  Android        14.50    yes     no            13.0   \n",
       "1          2        Honor  Android        17.30    yes    yes            13.0   \n",
       "2          3        Honor  Android        16.69    yes    yes            13.0   \n",
       "3          4        Honor  Android        25.50    yes    yes            13.0   \n",
       "4          5        Honor  Android        15.32    yes     no            13.0   \n",
       "...      ...          ...      ...          ...    ...    ...             ...   \n",
       "3248    3249        Apple      iOS        15.27    yes     no             8.0   \n",
       "3249    3250         Asus  Android        15.24    yes     no            13.0   \n",
       "3250    3251      Alcatel  Android        15.80    yes     no            13.0   \n",
       "3251    3252      Alcatel  Android        15.80    yes     no            13.0   \n",
       "3252    3253      Alcatel  Android        12.83    yes     no            13.0   \n",
       "\n",
       "      FRONT_CAMERA_MP  INTERNAL_MEMORY  RAM  BATTERY  WEIGHT  RELEASE_YEAR  \\\n",
       "0                 5.0             64.0  3.0   3020.0   146.0          2020   \n",
       "1                16.0            128.0  8.0   4300.0   213.0          2020   \n",
       "2                 8.0            128.0  8.0   4200.0   213.0          2020   \n",
       "3                 8.0             64.0  6.0   7250.0   480.0          2020   \n",
       "4                 8.0             64.0  3.0   5000.0   185.0          2020   \n",
       "...               ...              ...  ...      ...     ...           ...   \n",
       "3248              7.0             64.0  4.0   3110.0   194.0          2019   \n",
       "3249              8.0            128.0  8.0   4000.0   200.0          2018   \n",
       "3250              5.0             32.0  3.0   4000.0   165.0          2020   \n",
       "3251              5.0             32.0  2.0   4000.0   160.0          2020   \n",
       "3252              5.0             16.0  2.0   4000.0   168.0          2020   \n",
       "\n",
       "      DAYS_USED  NORMALIZED_USED_PRICE  NORMALIZED_NEW_PRICE  \n",
       "0           127               4.307572              4.715100  \n",
       "1           325               5.162097              5.519018  \n",
       "2           162               5.111084              5.884631  \n",
       "3           345               5.135387              5.630961  \n",
       "4           293               4.389995              4.947837  \n",
       "...         ...                    ...                   ...  \n",
       "3248        208               5.100902              6.287933  \n",
       "3249        541               5.037732              6.251538  \n",
       "3250        201               4.357350              4.528829  \n",
       "3251        149               4.349762              4.624188  \n",
       "3252        176               4.132122              4.279994  \n",
       "\n",
       "[3253 rows x 16 columns]"
      ]
     },
     "execution_count": 6,
     "metadata": {},
     "output_type": "execute_result"
    }
   ],
   "source": [
    "df240"
   ]
  },
  {
   "cell_type": "code",
   "execution_count": 7,
   "id": "fa3136f7",
   "metadata": {},
   "outputs": [
    {
     "name": "stdout",
     "output_type": "stream",
     "text": [
      "0.3711762238467857\n",
      "0.371\n"
     ]
    }
   ],
   "source": [
    "from sklearn.linear_model import LinearRegression\n",
    "LR00 = LinearRegression()\n",
    "list_num = ['SCREEN_SIZE','REAR_CAMERA_MP','FRONT_CAMERA_MP','INTERNAL_MEMORY','BATTERY','WEIGHT']\n",
    "list_rsq = []\n",
    "for col in list_num:\n",
    "    arr_x = np.array(df240[col]).reshape(-1, 1)\n",
    "    arr_y = np.array(df240['NORMALIZED_USED_PRICE'])\n",
    "    LR00.fit(arr_x, arr_y)\n",
    "    arr_pred = LR00.predict(arr_x)\n",
    "    num_rsq = 1 - (((arr_y - arr_pred)**2).sum()/((arr_y - arr_y.mean())**2).sum())    \n",
    "    list_rsq.append(num_rsq)\n",
    "    \n",
    "print(np.max(list_rsq))\n",
    "ans21 = np.round(np.max(list_rsq), 3)\n",
    "print(ans21)"
   ]
  },
  {
   "cell_type": "markdown",
   "id": "383f0d03",
   "metadata": {},
   "source": [
    "### 2."
   ]
  },
  {
   "cell_type": "code",
   "execution_count": 8,
   "id": "2642a31f",
   "metadata": {},
   "outputs": [],
   "source": [
    "df250 = df_raw02.copy()"
   ]
  },
  {
   "cell_type": "markdown",
   "id": "d466682a",
   "metadata": {},
   "source": [
    "2-1"
   ]
  },
  {
   "cell_type": "code",
   "execution_count": 9,
   "id": "4900fcb2",
   "metadata": {},
   "outputs": [
    {
     "data": {
      "text/plain": [
       "(552, 16)"
      ]
     },
     "execution_count": 9,
     "metadata": {},
     "output_type": "execute_result"
    }
   ],
   "source": [
    "df251 = df250[df250['RELEASE_YEAR'].isin([2019,2020])].copy()\n",
    "df251.shape"
   ]
  },
  {
   "cell_type": "markdown",
   "id": "01790fc4",
   "metadata": {},
   "source": [
    "2-2"
   ]
  },
  {
   "cell_type": "code",
   "execution_count": 10,
   "id": "8bd45377",
   "metadata": {},
   "outputs": [
    {
     "name": "stdout",
     "output_type": "stream",
     "text": [
      "['Huawei', 'Honor', 'Samsung', 'LG']\n"
     ]
    },
    {
     "data": {
      "text/plain": [
       "(282, 16)"
      ]
     },
     "execution_count": 10,
     "metadata": {},
     "output_type": "execute_result"
    }
   ],
   "source": [
    "srs_tmp = df_raw02.loc[df_raw02['RELEASE_YEAR'].isin([2020, 2019]), 'DEVICE_BRAND'].value_counts()\n",
    "list_brd = list(srs_tmp[srs_tmp>=45].index)\n",
    "print(list_brd)\n",
    "df252 = df251[df251['DEVICE_BRAND'].isin(list_brd)].copy()\n",
    "df252.shape"
   ]
  },
  {
   "cell_type": "markdown",
   "id": "00c80da4",
   "metadata": {},
   "source": [
    "2-3"
   ]
  },
  {
   "cell_type": "code",
   "execution_count": 11,
   "id": "9b66d281",
   "metadata": {},
   "outputs": [
    {
     "name": "stdout",
     "output_type": "stream",
     "text": [
      "[0.7500170690879439, 0.6704834529046316, 0.5269432385456577, 0.819276789075001]\n"
     ]
    },
    {
     "data": {
      "text/plain": [
       "0.6916801374033086"
      ]
     },
     "execution_count": 11,
     "metadata": {},
     "output_type": "execute_result"
    }
   ],
   "source": [
    "list_tmp = []\n",
    "for brd in list_brd:\n",
    "    df_tmp = df252.loc[df252['DEVICE_BRAND']==brd, \\\n",
    "                       ['SCREEN_SIZE','REAR_CAMERA_MP','FRONT_CAMERA_MP',\\\n",
    "                        'INTERNAL_MEMORY','BATTERY','WEIGHT','NORMALIZED_USED_PRICE']].copy()\n",
    "    list_tmp.append(df_tmp.corr().loc[:'WEIGHT', 'NORMALIZED_USED_PRICE'].map(lambda x: abs(x)).max())\n",
    "\n",
    "print(list_tmp)\n",
    "np.mean(list_tmp)"
   ]
  },
  {
   "cell_type": "code",
   "execution_count": 12,
   "id": "64758699",
   "metadata": {},
   "outputs": [
    {
     "name": "stdout",
     "output_type": "stream",
     "text": [
      "0.692\n"
     ]
    }
   ],
   "source": [
    "ans22 = np.round(np.mean(list_tmp), 3)\n",
    "print(ans22)"
   ]
  },
  {
   "cell_type": "markdown",
   "id": "67ab41bf",
   "metadata": {},
   "source": [
    "### 3."
   ]
  },
  {
   "cell_type": "code",
   "execution_count": 13,
   "id": "2e7a6470",
   "metadata": {},
   "outputs": [],
   "source": [
    "df260 = df_raw02.copy()"
   ]
  },
  {
   "cell_type": "markdown",
   "id": "0ea4a34f",
   "metadata": {},
   "source": [
    "3-1"
   ]
  },
  {
   "cell_type": "code",
   "execution_count": 14,
   "id": "a9e651fe",
   "metadata": {},
   "outputs": [
    {
     "data": {
      "text/plain": [
       "count    3253.000000\n",
       "mean        7.233630\n",
       "std         2.187719\n",
       "min         3.000000\n",
       "25%         5.000000\n",
       "50%         8.000000\n",
       "75%         9.000000\n",
       "max        10.000000\n",
       "Name: PRD_AGE, dtype: float64"
      ]
     },
     "execution_count": 14,
     "metadata": {},
     "output_type": "execute_result"
    }
   ],
   "source": [
    "df260['PRD_AGE'] = 2023 - df260['RELEASE_YEAR']\n",
    "df260['PRD_AGE'].describe()"
   ]
  },
  {
   "cell_type": "markdown",
   "id": "bdf66f30",
   "metadata": {},
   "source": [
    "3-2"
   ]
  },
  {
   "cell_type": "code",
   "execution_count": 15,
   "id": "10c3eec8",
   "metadata": {},
   "outputs": [],
   "source": [
    "df_dum = pd.get_dummies(df260.loc[:, ['DEVICE_BRAND','OS','NET_4G','NET_5G']], drop_first=True)"
   ]
  },
  {
   "cell_type": "code",
   "execution_count": 16,
   "id": "6ef77bd8",
   "metadata": {},
   "outputs": [],
   "source": [
    "df261 = pd.concat([df260, df_dum], axis=1)"
   ]
  },
  {
   "cell_type": "markdown",
   "id": "149e1177",
   "metadata": {},
   "source": [
    "3-3"
   ]
  },
  {
   "cell_type": "code",
   "execution_count": 17,
   "id": "d9ac087c",
   "metadata": {},
   "outputs": [
    {
     "name": "stdout",
     "output_type": "stream",
     "text": [
      "(2603, 54) (650, 54)\n"
     ]
    }
   ],
   "source": [
    "train26 = df261[df261['PRD_ID']%5 != 0].copy()\n",
    "test26 = df261[df261['PRD_ID']%5 == 0].copy()\n",
    "print(train26.shape, test26.shape)"
   ]
  },
  {
   "cell_type": "markdown",
   "id": "10eedb30",
   "metadata": {},
   "source": [
    "3-4"
   ]
  },
  {
   "cell_type": "code",
   "execution_count": 18,
   "id": "3ab7c0a0",
   "metadata": {},
   "outputs": [
    {
     "data": {
      "text/plain": [
       "RandomForestRegressor(bootstrap=True, criterion='mse', max_depth=None,\n",
       "                      max_features='auto', max_leaf_nodes=None,\n",
       "                      min_impurity_decrease=0.0, min_impurity_split=None,\n",
       "                      min_samples_leaf=10, min_samples_split=2,\n",
       "                      min_weight_fraction_leaf=0.0, n_estimators=9, n_jobs=None,\n",
       "                      oob_score=False, random_state=2305, verbose=0,\n",
       "                      warm_start=False)"
      ]
     },
     "execution_count": 18,
     "metadata": {},
     "output_type": "execute_result"
    }
   ],
   "source": [
    "from sklearn.ensemble import RandomForestRegressor\n",
    "RF00 = RandomForestRegressor(random_state = 2305, n_estimators=9, min_samples_leaf=10)\n",
    "list_fts = ['SCREEN_SIZE','REAR_CAMERA_MP','FRONT_CAMERA_MP','INTERNAL_MEMORY','RAM','BATTERY',\\\n",
    "             'WEIGHT','DAYS_USED','NORMALIZED_NEW_PRICE','PRD_AGE'] + list(df_dum.columns)\n",
    "RF00.fit(train26.loc[:, list_fts], train26['NORMALIZED_USED_PRICE'])"
   ]
  },
  {
   "cell_type": "code",
   "execution_count": 19,
   "id": "647cc124",
   "metadata": {},
   "outputs": [
    {
     "data": {
      "text/plain": [
       "47"
      ]
     },
     "execution_count": 19,
     "metadata": {},
     "output_type": "execute_result"
    }
   ],
   "source": [
    "len(list_fts)"
   ]
  },
  {
   "cell_type": "code",
   "execution_count": 20,
   "id": "b95f8300",
   "metadata": {},
   "outputs": [
    {
     "name": "stdout",
     "output_type": "stream",
     "text": [
      "0.2325264045788036\n"
     ]
    },
    {
     "data": {
      "text/plain": [
       "0.233"
      ]
     },
     "execution_count": 20,
     "metadata": {},
     "output_type": "execute_result"
    }
   ],
   "source": [
    "arr_pred = RF00.predict(test26.loc[:, list_fts])\n",
    "arr_act = np.array(test26['NORMALIZED_USED_PRICE'])\n",
    "print(np.sqrt(((arr_pred - arr_act)**2).mean()))\n",
    "\n",
    "ans23 = np.round(np.sqrt(((arr_pred - arr_act)**2).mean()), 3)\n",
    "ans23"
   ]
  },
  {
   "cell_type": "code",
   "execution_count": null,
   "id": "e686f058",
   "metadata": {},
   "outputs": [],
   "source": []
  },
  {
   "cell_type": "markdown",
   "id": "e99362a5",
   "metadata": {},
   "source": [
    "### Summary"
   ]
  },
  {
   "cell_type": "code",
   "execution_count": 21,
   "id": "533a90e0",
   "metadata": {},
   "outputs": [
    {
     "name": "stdout",
     "output_type": "stream",
     "text": [
      "0.371\n",
      "0.692\n",
      "0.233\n"
     ]
    }
   ],
   "source": [
    "print(ans21)\n",
    "print(ans22)\n",
    "print(ans23)"
   ]
  },
  {
   "cell_type": "code",
   "execution_count": null,
   "id": "d9a5c393",
   "metadata": {},
   "outputs": [],
   "source": []
  }
 ],
 "metadata": {
  "kernelspec": {
   "display_name": "Python 3 (ipykernel)",
   "language": "python",
   "name": "python3"
  },
  "language_info": {
   "codemirror_mode": {
    "name": "ipython",
    "version": 3
   },
   "file_extension": ".py",
   "mimetype": "text/x-python",
   "name": "python",
   "nbconvert_exporter": "python",
   "pygments_lexer": "ipython3",
   "version": "3.7.4"
  }
 },
 "nbformat": 4,
 "nbformat_minor": 5
}
