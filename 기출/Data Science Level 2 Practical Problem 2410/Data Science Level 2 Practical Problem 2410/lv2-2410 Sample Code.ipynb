{
 "cells": [
  {
   "cell_type": "code",
   "execution_count": 1,
   "id": "1dd47f30",
   "metadata": {},
   "outputs": [
    {
     "name": "stdout",
     "output_type": "stream",
     "text": [
      "(7886, 13)\n",
      "<class 'pandas.core.frame.DataFrame'>\n",
      "RangeIndex: 7886 entries, 0 to 7885\n",
      "Data columns (total 13 columns):\n",
      "PID            7886 non-null int64\n",
      "MOTOR_SPEED    7886 non-null float64\n",
      "F1             7886 non-null float64\n",
      "F2             7886 non-null float64\n",
      "F3             7886 non-null float64\n",
      "F4             7886 non-null float64\n",
      "F5             7886 non-null float64\n",
      "F6             7886 non-null float64\n",
      "F7             7886 non-null float64\n",
      "F8             7886 non-null float64\n",
      "F9             7886 non-null float64\n",
      "F10            7886 non-null float64\n",
      "F11            7886 non-null float64\n",
      "dtypes: float64(12), int64(1)\n",
      "memory usage: 801.0 KB\n"
     ]
    }
   ],
   "source": [
    "import pandas as pd\n",
    "import numpy as np\n",
    "\n",
    "EXPT = pd.read_csv('lv2-2410.csv')\n",
    "print(EXPT.shape)\n",
    "EXPT.info()"
   ]
  },
  {
   "cell_type": "markdown",
   "id": "7542db77",
   "metadata": {},
   "source": [
    "### Question 1"
   ]
  },
  {
   "cell_type": "code",
   "execution_count": 2,
   "id": "eab4d626",
   "metadata": {},
   "outputs": [
    {
     "data": {
      "text/plain": [
       "MOTOR_SPEED   -11.775367\n",
       "F1              2.200450\n",
       "F2             -0.107802\n",
       "F3             -0.015835\n",
       "F4             -1.940193\n",
       "F5             12.051348\n",
       "F6             12.191746\n",
       "F7              2.254753\n",
       "F8             -0.431683\n",
       "F9             -0.190217\n",
       "F10            -0.327128\n",
       "F11            -0.480597\n",
       "dtype: float64"
      ]
     },
     "execution_count": 2,
     "metadata": {},
     "output_type": "execute_result"
    }
   ],
   "source": [
    "# 1-1\n",
    "cols = ['MOTOR_SPEED', 'F1', 'F2', 'F3', 'F4', 'F5', 'F6', 'F7', 'F8', 'F9', 'F10', 'F11']\n",
    "m = EXPT[cols].mean()\n",
    "s = EXPT[cols].std()\n",
    "cv = s / m\n",
    "cv"
   ]
  },
  {
   "cell_type": "code",
   "execution_count": 3,
   "id": "a536d5e7",
   "metadata": {},
   "outputs": [
    {
     "data": {
      "text/plain": [
       "12.191745772312975"
      ]
     },
     "execution_count": 3,
     "metadata": {},
     "output_type": "execute_result"
    }
   ],
   "source": [
    "# 1-2\n",
    "cv_abs = abs(cv)\n",
    "cv_abs.max()"
   ]
  },
  {
   "cell_type": "code",
   "execution_count": 4,
   "id": "fa7b2a3c",
   "metadata": {},
   "outputs": [
    {
     "name": "stdout",
     "output_type": "stream",
     "text": [
      "Answer: 12.191745772312975\n",
      "System answer: 12.19\n"
     ]
    }
   ],
   "source": [
    "# Answer 1\n",
    "ans24f = cv_abs.max()\n",
    "print(f\"Answer: {ans24f}\")\n",
    "\n",
    "ans24 = round(ans24f, 2)\n",
    "print(f\"System answer: {ans24}\")"
   ]
  },
  {
   "cell_type": "markdown",
   "id": "41058d1a",
   "metadata": {},
   "source": [
    "### Question 2"
   ]
  },
  {
   "cell_type": "code",
   "execution_count": 5,
   "id": "845c1201",
   "metadata": {},
   "outputs": [],
   "source": [
    "# 2-1\n",
    "DF25 = EXPT.copy()\n",
    "DF25['HIGH_SPEED'] = np.where(DF25['MOTOR_SPEED'] > 1, 1, 0)"
   ]
  },
  {
   "cell_type": "code",
   "execution_count": 6,
   "id": "e0153c0d",
   "metadata": {},
   "outputs": [
    {
     "name": "stdout",
     "output_type": "stream",
     "text": [
      "(6309, 14) (1577, 14)\n"
     ]
    }
   ],
   "source": [
    "# 2-2\n",
    "TRAIN25 = DF25[DF25['PID']%5!=0].copy()\n",
    "TEST25 = DF25[DF25['PID']%5==0].copy()\n",
    "print(TRAIN25.shape, TEST25.shape)"
   ]
  },
  {
   "cell_type": "code",
   "execution_count": 7,
   "id": "393e7bbf",
   "metadata": {},
   "outputs": [
    {
     "data": {
      "text/plain": [
       "DecisionTreeClassifier(class_weight=None, criterion='gini', max_depth=3,\n",
       "                       max_features=None, max_leaf_nodes=None,\n",
       "                       min_impurity_decrease=0.0, min_impurity_split=None,\n",
       "                       min_samples_leaf=1, min_samples_split=2,\n",
       "                       min_weight_fraction_leaf=0.0, presort=False,\n",
       "                       random_state=1234, splitter='best')"
      ]
     },
     "execution_count": 7,
     "metadata": {},
     "output_type": "execute_result"
    }
   ],
   "source": [
    "# 2-3\n",
    "from sklearn.tree import DecisionTreeClassifier\n",
    "feat25 = ['F1', 'F2', 'F3', 'F4', 'F5', 'F6', 'F7', 'F8', 'F9', 'F10', 'F11']\n",
    "mdl25 = DecisionTreeClassifier(random_state=1234, max_depth=3)\n",
    "mdl25.fit(TRAIN25[feat25], TRAIN25['HIGH_SPEED'])"
   ]
  },
  {
   "cell_type": "code",
   "execution_count": 8,
   "id": "c3afeece",
   "metadata": {},
   "outputs": [
    {
     "name": "stdout",
     "output_type": "stream",
     "text": [
      "PRED           0    1\n",
      "HIGH_SPEED           \n",
      "0           1399    0\n",
      "1             10  168\n",
      "Recall: 0.9438202247191011\n"
     ]
    }
   ],
   "source": [
    "# 2-4\n",
    "from sklearn.metrics import recall_score\n",
    "TEST25['PRED'] = mdl25.predict(TEST25[feat25])\n",
    "print(pd.crosstab(TEST25['HIGH_SPEED'], TEST25['PRED']))\n",
    "\n",
    "rec = recall_score(TEST25['HIGH_SPEED'], TEST25['PRED'], pos_label=1)\n",
    "print('Recall:',rec)"
   ]
  },
  {
   "cell_type": "code",
   "execution_count": 9,
   "id": "e5a5bf97",
   "metadata": {},
   "outputs": [
    {
     "name": "stdout",
     "output_type": "stream",
     "text": [
      "Answer: 0.9438202247191011\n",
      "System answer: 0.944\n"
     ]
    }
   ],
   "source": [
    "# Answer 2\n",
    "ans25f = rec\n",
    "ans25 = round(ans25f, 3)\n",
    "\n",
    "print(f\"Answer: {ans25f}\")\n",
    "print(f\"System answer: {ans25}\")"
   ]
  },
  {
   "cell_type": "markdown",
   "id": "f19b9aca",
   "metadata": {},
   "source": [
    "### Question 3"
   ]
  },
  {
   "cell_type": "code",
   "execution_count": 10,
   "id": "b17b0f84",
   "metadata": {},
   "outputs": [
    {
     "name": "stdout",
     "output_type": "stream",
     "text": [
      "(7018, 14)\n"
     ]
    }
   ],
   "source": [
    "# 3-1\n",
    "DF260 = EXPT.copy()\n",
    "cols = ['F1', 'F2', 'F3', 'F4', 'F5', 'F6', 'F7', 'F8', 'F9', 'F10', 'F11']\n",
    "DF260['OVER'] = (DF260[cols] > 1.5).sum(axis=1)\n",
    "DF26 = DF260[DF260['OVER'] == 0].copy()\n",
    "print(DF26.shape)"
   ]
  },
  {
   "cell_type": "code",
   "execution_count": 11,
   "id": "84249e2f",
   "metadata": {},
   "outputs": [
    {
     "name": "stdout",
     "output_type": "stream",
     "text": [
      "(5844, 14) (1174, 14)\n"
     ]
    }
   ],
   "source": [
    "# 3-2\n",
    "TRAIN26 = DF26[DF26['PID']%6!=0].copy()\n",
    "TEST26 = DF26[DF26['PID']%6==0].copy()\n",
    "print(TRAIN26.shape, TEST26.shape)"
   ]
  },
  {
   "cell_type": "code",
   "execution_count": 12,
   "id": "e414f7c6",
   "metadata": {},
   "outputs": [
    {
     "data": {
      "text/plain": [
       "LinearRegression(copy_X=True, fit_intercept=True, n_jobs=None, normalize=False)"
      ]
     },
     "execution_count": 12,
     "metadata": {},
     "output_type": "execute_result"
    }
   ],
   "source": [
    "# 3-3\n",
    "from sklearn.linear_model import LinearRegression\n",
    "feat26 = ['F1', 'F2', 'F3', 'F4', 'F5', 'F6', 'F7', 'F8', 'F9', 'F10', 'F11']\n",
    "X_train = TRAIN26[feat26]\n",
    "y_train = TRAIN26['MOTOR_SPEED']\n",
    "mdl26 = LinearRegression()\n",
    "mdl26.fit(X_train, y_train)"
   ]
  },
  {
   "cell_type": "code",
   "execution_count": 13,
   "id": "725a9b8e",
   "metadata": {},
   "outputs": [
    {
     "name": "stdout",
     "output_type": "stream",
     "text": [
      "0.11438522483446698\n"
     ]
    }
   ],
   "source": [
    "# 3-4\n",
    "X_test = TEST26[feat26]\n",
    "y_pred = mdl26.predict(X_test)\n",
    "\n",
    "MAE = np.mean(np.abs(y_pred - TEST26['MOTOR_SPEED'])); print(MAE)"
   ]
  },
  {
   "cell_type": "code",
   "execution_count": 14,
   "id": "c7cfb03c",
   "metadata": {},
   "outputs": [
    {
     "name": "stdout",
     "output_type": "stream",
     "text": [
      "Answer: 0.11438522483446698\n",
      "System answer: 0.114\n"
     ]
    }
   ],
   "source": [
    "# Answer 3\n",
    "ans26f = MAE\n",
    "ans26 = round(ans26f, 3)\n",
    "\n",
    "print(f\"Answer: {ans26f}\")\n",
    "print(f\"System answer: {ans26}\")"
   ]
  },
  {
   "cell_type": "markdown",
   "id": "1568dae7",
   "metadata": {},
   "source": [
    "## Summary"
   ]
  },
  {
   "cell_type": "code",
   "execution_count": 15,
   "id": "3102b967",
   "metadata": {},
   "outputs": [
    {
     "name": "stdout",
     "output_type": "stream",
     "text": [
      "12.19\n",
      "0.944\n",
      "0.114\n"
     ]
    }
   ],
   "source": [
    "print(ans24)\n",
    "print(ans25)\n",
    "print(ans26)"
   ]
  },
  {
   "cell_type": "code",
   "execution_count": null,
   "id": "ed78f95f",
   "metadata": {},
   "outputs": [],
   "source": []
  }
 ],
 "metadata": {
  "kernelspec": {
   "display_name": "Python 3 (ipykernel)",
   "language": "python",
   "name": "python3"
  },
  "language_info": {
   "codemirror_mode": {
    "name": "ipython",
    "version": 3
   },
   "file_extension": ".py",
   "mimetype": "text/x-python",
   "name": "python",
   "nbconvert_exporter": "python",
   "pygments_lexer": "ipython3",
   "version": "3.7.4"
  }
 },
 "nbformat": 4,
 "nbformat_minor": 5
}
