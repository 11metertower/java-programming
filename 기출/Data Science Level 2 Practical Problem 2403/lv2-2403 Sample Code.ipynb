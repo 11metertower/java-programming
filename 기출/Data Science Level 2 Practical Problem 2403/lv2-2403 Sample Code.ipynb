{
 "cells": [
  {
   "cell_type": "code",
   "execution_count": 2,
   "id": "baab1292",
   "metadata": {},
   "outputs": [
    {
     "name": "stdout",
     "output_type": "stream",
     "text": [
      "(11351, 11)\n",
      "<class 'pandas.core.frame.DataFrame'>\n",
      "RangeIndex: 11351 entries, 0 to 11350\n",
      "Data columns (total 11 columns):\n",
      "D_ID          11351 non-null int64\n",
      "HOBBY         11351 non-null int64\n",
      "OPENSOURCE    11351 non-null int64\n",
      "CORPORATE     11351 non-null int64\n",
      "YEARS         11351 non-null object\n",
      "SATIS         11351 non-null float64\n",
      "SALARY        8526 non-null float64\n",
      "MONITORS      11351 non-null int64\n",
      "TOOL          11351 non-null object\n",
      "GENDER        9705 non-null object\n",
      "AGE           11351 non-null object\n",
      "dtypes: float64(2), int64(5), object(4)\n",
      "memory usage: 975.6+ KB\n"
     ]
    }
   ],
   "source": [
    "import pandas as pd\n",
    "import numpy as np\n",
    "\n",
    "SURVEY = pd.read_csv('lv2-2403.csv')\n",
    "print(SURVEY.shape)\n",
    "SURVEY.info()"
   ]
  },
  {
   "cell_type": "markdown",
   "id": "60af4686",
   "metadata": {},
   "source": [
    "### Question 1"
   ]
  },
  {
   "cell_type": "code",
   "execution_count": 3,
   "id": "2fe6879d",
   "metadata": {},
   "outputs": [],
   "source": [
    "# 1-1\n",
    "df1 = SURVEY[SURVEY['SALARY'].isnull()==False].copy()"
   ]
  },
  {
   "cell_type": "code",
   "execution_count": 4,
   "id": "d4e6ef1f",
   "metadata": {},
   "outputs": [
    {
     "data": {
      "text/plain": [
       "98525.35186488388"
      ]
     },
     "execution_count": 4,
     "metadata": {},
     "output_type": "execute_result"
    }
   ],
   "source": [
    "# 1-2\n",
    "AVG1 = df1['SALARY'].mean()\n",
    "AVG1"
   ]
  },
  {
   "cell_type": "code",
   "execution_count": 5,
   "id": "0e5c022c",
   "metadata": {},
   "outputs": [
    {
     "name": "stdout",
     "output_type": "stream",
     "text": [
      "312\n",
      "8214\n"
     ]
    }
   ],
   "source": [
    "# 1-3\n",
    "df1['m'] = df1.groupby('YEARS').SALARY.transform('mean')\n",
    "df1['s'] = df1.groupby('YEARS').SALARY.transform('std')\n",
    "df1['out'] = 1*(df1['SALARY']<(df1['m']-1.5*df1['s'])) + 1*(df1['SALARY']>(df1['m']+1.5*df1['s'])) \n",
    "df1_2 = df1[df1['out']==0].copy()\n",
    "print(sum(df1['out']==1))\n",
    "print(df1_2.shape[0])"
   ]
  },
  {
   "cell_type": "code",
   "execution_count": 6,
   "id": "e0422a53",
   "metadata": {},
   "outputs": [
    {
     "data": {
      "text/plain": [
       "64055.169345020695"
      ]
     },
     "execution_count": 6,
     "metadata": {},
     "output_type": "execute_result"
    }
   ],
   "source": [
    "# 1-4\n",
    "AVG2 = df1_2['SALARY'].mean()\n",
    "AVG2"
   ]
  },
  {
   "cell_type": "code",
   "execution_count": 7,
   "id": "3e1da7cb",
   "metadata": {},
   "outputs": [
    {
     "name": "stdout",
     "output_type": "stream",
     "text": [
      "34470.182519863185\n"
     ]
    },
    {
     "data": {
      "text/plain": [
       "34470"
      ]
     },
     "execution_count": 7,
     "metadata": {},
     "output_type": "execute_result"
    }
   ],
   "source": [
    "# Answer 1\n",
    "print(abs(AVG1-AVG2))\n",
    "ans21 = round(abs(AVG1-AVG2)).astype('int')\n",
    "ans21"
   ]
  },
  {
   "cell_type": "markdown",
   "id": "7c175eb2",
   "metadata": {},
   "source": [
    "### Question 2"
   ]
  },
  {
   "cell_type": "code",
   "execution_count": 8,
   "id": "fd0ecef8",
   "metadata": {},
   "outputs": [
    {
     "data": {
      "text/plain": [
       "(6209, 12)"
      ]
     },
     "execution_count": 8,
     "metadata": {},
     "output_type": "execute_result"
    }
   ],
   "source": [
    "# 2-1\n",
    "DF2 = SURVEY[SURVEY['AGE']=='25-34 years old'].copy().reset_index()\n",
    "DF2.shape"
   ]
  },
  {
   "cell_type": "code",
   "execution_count": 9,
   "id": "a94b607f",
   "metadata": {
    "scrolled": true
   },
   "outputs": [],
   "source": [
    "# 2-2\n",
    "DF2['SALARY'] = DF2.groupby('YEARS')['SALARY'].apply(lambda x: x.fillna(x.median()))\n",
    "DF2 = DF2.sort_values(['D_ID'])"
   ]
  },
  {
   "cell_type": "code",
   "execution_count": 10,
   "id": "5944d92d",
   "metadata": {},
   "outputs": [],
   "source": [
    "# 2-3\n",
    "DF2['TOOL_CNT'] = DF2['TOOL'].str.count(';') + 1"
   ]
  },
  {
   "cell_type": "code",
   "execution_count": 11,
   "id": "6f744a4b",
   "metadata": {},
   "outputs": [
    {
     "data": {
      "text/plain": [
       "Index(['index', 'D_ID', 'HOBBY', 'OPENSOURCE', 'CORPORATE', 'YEARS', 'TOOL',\n",
       "       'GENDER', 'AGE', 'SATIS_S', 'SALARY_S', 'MONITORS_S', 'TOOL_CNT_S'],\n",
       "      dtype='object')"
      ]
     },
     "execution_count": 11,
     "metadata": {},
     "output_type": "execute_result"
    }
   ],
   "source": [
    "# 2-4\n",
    "from sklearn.preprocessing import StandardScaler\n",
    "SVAR = ['SATIS', 'SALARY', 'MONITORS', 'TOOL_CNT']\n",
    "SVAR_S = ['SATIS_S', 'SALARY_S', 'MONITORS_S', 'TOOL_CNT_S']\n",
    "scaler = StandardScaler()\n",
    "scaled = pd.DataFrame(scaler.fit_transform(DF2[SVAR]), columns = SVAR_S)\n",
    "DF2 = pd.concat([DF2.drop(columns=SVAR), scaled], axis=1)\n",
    "DF2.columns"
   ]
  },
  {
   "cell_type": "code",
   "execution_count": 12,
   "id": "60997144",
   "metadata": {},
   "outputs": [],
   "source": [
    "# 2-5\n",
    "from sklearn.cluster import KMeans \n",
    "DF2['clst'] = KMeans(n_clusters=2, random_state=1234).fit_predict(DF2[SVAR_S])"
   ]
  },
  {
   "cell_type": "code",
   "execution_count": 13,
   "id": "db20f37b",
   "metadata": {},
   "outputs": [
    {
     "data": {
      "text/html": [
       "<div>\n",
       "<style scoped>\n",
       "    .dataframe tbody tr th:only-of-type {\n",
       "        vertical-align: middle;\n",
       "    }\n",
       "\n",
       "    .dataframe tbody tr th {\n",
       "        vertical-align: top;\n",
       "    }\n",
       "\n",
       "    .dataframe thead th {\n",
       "        text-align: right;\n",
       "    }\n",
       "</style>\n",
       "<table border=\"1\" class=\"dataframe\">\n",
       "  <thead>\n",
       "    <tr style=\"text-align: right;\">\n",
       "      <th></th>\n",
       "      <th>clst</th>\n",
       "      <th>G</th>\n",
       "    </tr>\n",
       "  </thead>\n",
       "  <tbody>\n",
       "    <tr>\n",
       "      <td>0</td>\n",
       "      <td>0</td>\n",
       "      <td>188.310709</td>\n",
       "    </tr>\n",
       "    <tr>\n",
       "      <td>1</td>\n",
       "      <td>1</td>\n",
       "      <td>181.767956</td>\n",
       "    </tr>\n",
       "  </tbody>\n",
       "</table>\n",
       "</div>"
      ],
      "text/plain": [
       "   clst           G\n",
       "0     0  188.310709\n",
       "1     1  181.767956"
      ]
     },
     "execution_count": 13,
     "metadata": {},
     "output_type": "execute_result"
    }
   ],
   "source": [
    "# 2-6\n",
    "GRATIO = DF2.groupby('clst').apply(lambda x: (x['GENDER']=='Male').sum()/(x['GENDER']=='Female').sum()*100).reset_index(name='G')\n",
    "GRATIO"
   ]
  },
  {
   "cell_type": "code",
   "execution_count": 14,
   "id": "bf343a7a",
   "metadata": {},
   "outputs": [
    {
     "name": "stdout",
     "output_type": "stream",
     "text": [
      "6.542753097839238\n",
      "6.54\n"
     ]
    }
   ],
   "source": [
    "# Answer 2\n",
    "print(GRATIO.G.max()-GRATIO.G.min())\n",
    "ans22 = round(GRATIO.G.max()-GRATIO.G.min(), 2)\n",
    "print(ans22)"
   ]
  },
  {
   "cell_type": "markdown",
   "id": "f56735d8",
   "metadata": {},
   "source": [
    "### Question 3"
   ]
  },
  {
   "cell_type": "code",
   "execution_count": 15,
   "id": "db4396f4",
   "metadata": {},
   "outputs": [
    {
     "name": "stdout",
     "output_type": "stream",
     "text": [
      "(7431, 11)\n"
     ]
    }
   ],
   "source": [
    "# 3-1\n",
    "df3 = SURVEY.copy()\n",
    "df3 = df3[df3['GENDER'].isnull()==False]\n",
    "df3 = df3[df3['SALARY'].isnull()==False]\n",
    "print(df3.shape)"
   ]
  },
  {
   "cell_type": "code",
   "execution_count": 16,
   "id": "55476463",
   "metadata": {},
   "outputs": [],
   "source": [
    "# 3-2\n",
    "df3['GIT_YN']=df3['TOOL'].apply(lambda x : 1 if 'Git' in x else 0 )"
   ]
  },
  {
   "cell_type": "code",
   "execution_count": 17,
   "id": "15270d8d",
   "metadata": {},
   "outputs": [],
   "source": [
    "# 3-3\n",
    "dvar3 = ['YEARS', 'GENDER','AGE']\n",
    "dummy3 = pd.get_dummies(df3[dvar3], drop_first=False)\n",
    "df3d = pd.concat([df3,dummy3], axis=1)\n",
    "df3d.drop(['YEARS','TOOL','GENDER','AGE'], axis=1, inplace=True)"
   ]
  },
  {
   "cell_type": "code",
   "execution_count": 18,
   "id": "fbc3208e",
   "metadata": {},
   "outputs": [
    {
     "name": "stdout",
     "output_type": "stream",
     "text": [
      "(4917, 24) (2514, 24)\n"
     ]
    }
   ],
   "source": [
    "# 3-4\n",
    "trainset3 = df3d[df3d['D_ID']%3 !=0]\n",
    "testset3 = df3d[df3d['D_ID']%3==0]\n",
    "print(trainset3.shape, testset3.shape)"
   ]
  },
  {
   "cell_type": "code",
   "execution_count": 19,
   "id": "90ccb7eb",
   "metadata": {},
   "outputs": [],
   "source": [
    "# 3-5\n",
    "from sklearn.tree import DecisionTreeRegressor\n",
    "COL3 = ['HOBBY','OPENSOURCE','CORPORATE','SALARY','MONITORS','GIT_YN'] + dummy3.columns.tolist()\n",
    "MDL3 = DecisionTreeRegressor(max_depth=7, random_state=1234).fit(trainset3[COL3], trainset3['SATIS'])"
   ]
  },
  {
   "cell_type": "code",
   "execution_count": 20,
   "id": "2f6eb89c",
   "metadata": {},
   "outputs": [
    {
     "data": {
      "text/plain": [
       "51.33212768378126"
      ]
     },
     "execution_count": 20,
     "metadata": {},
     "output_type": "execute_result"
    }
   ],
   "source": [
    "# 3-6\n",
    "PRED3 = MDL3.predict(testset3[COL3])\n",
    "MAPE = np.mean(np.abs((PRED3 - testset3.SATIS)/testset3.SATIS))*100\n",
    "MAPE"
   ]
  },
  {
   "cell_type": "code",
   "execution_count": 21,
   "id": "9bd584e7",
   "metadata": {
    "scrolled": true
   },
   "outputs": [
    {
     "data": {
      "text/plain": [
       "51.3"
      ]
     },
     "execution_count": 21,
     "metadata": {},
     "output_type": "execute_result"
    }
   ],
   "source": [
    "# Answer 3\n",
    "ans23 = round(MAPE, 1)\n",
    "ans23"
   ]
  },
  {
   "cell_type": "markdown",
   "id": "b66fb505",
   "metadata": {},
   "source": [
    "## Summary"
   ]
  },
  {
   "cell_type": "code",
   "execution_count": 22,
   "id": "a1049994",
   "metadata": {
    "scrolled": true
   },
   "outputs": [
    {
     "name": "stdout",
     "output_type": "stream",
     "text": [
      "Q1:  34470\n",
      "Q2:  6.54\n",
      "Q3:  51.3\n"
     ]
    }
   ],
   "source": [
    "print('Q1: ', ans21)\n",
    "print('Q2: ', ans22)\n",
    "print('Q3: ', ans23)"
   ]
  },
  {
   "cell_type": "code",
   "execution_count": null,
   "id": "aa61fe65",
   "metadata": {},
   "outputs": [],
   "source": []
  }
 ],
 "metadata": {
  "kernelspec": {
   "display_name": "Python 3 (ipykernel)",
   "language": "python",
   "name": "python3"
  },
  "language_info": {
   "codemirror_mode": {
    "name": "ipython",
    "version": 3
   },
   "file_extension": ".py",
   "mimetype": "text/x-python",
   "name": "python",
   "nbconvert_exporter": "python",
   "pygments_lexer": "ipython3",
   "version": "3.7.4"
  }
 },
 "nbformat": 4,
 "nbformat_minor": 5
}
