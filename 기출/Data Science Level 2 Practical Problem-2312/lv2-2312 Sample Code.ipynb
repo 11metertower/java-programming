{
 "cells": [
  {
   "cell_type": "code",
   "execution_count": 1,
   "id": "30cfa5eb",
   "metadata": {},
   "outputs": [
    {
     "name": "stdout",
     "output_type": "stream",
     "text": [
      "(4762, 10)\n",
      "<class 'pandas.core.frame.DataFrame'>\n",
      "RangeIndex: 4762 entries, 0 to 4761\n",
      "Data columns (total 10 columns):\n",
      "TRNS_NO     4762 non-null int64\n",
      "TRNS_DT     4762 non-null object\n",
      "TRNS_TM     4762 non-null object\n",
      "TRNS_DOW    4762 non-null int64\n",
      "CAT_ID      4762 non-null object\n",
      "PRD_ID      4762 non-null int64\n",
      "STR_NM      4762 non-null object\n",
      "CUST_TP     4762 non-null object\n",
      "UPRC        4762 non-null int64\n",
      "QTY         4762 non-null int64\n",
      "dtypes: int64(5), object(5)\n",
      "memory usage: 372.2+ KB\n"
     ]
    }
   ],
   "source": [
    "import pandas as pd\n",
    "import numpy as np\n",
    "\n",
    "TRN = pd.read_csv('lv2-2312.csv')\n",
    "print(TRN.shape)\n",
    "TRN.info()"
   ]
  },
  {
   "cell_type": "markdown",
   "id": "579b1c18",
   "metadata": {},
   "source": [
    "### Question 1"
   ]
  },
  {
   "cell_type": "code",
   "execution_count": 2,
   "id": "74c01520",
   "metadata": {},
   "outputs": [],
   "source": [
    "# 1-1\n",
    "DF4 = TRN[TRN['CAT_ID']=='C16'].copy()"
   ]
  },
  {
   "cell_type": "code",
   "execution_count": 3,
   "id": "99389243",
   "metadata": {},
   "outputs": [],
   "source": [
    "# 1-2\n",
    "DF4['GPRC'] = np.ceil(DF4['UPRC']/100000)*100000"
   ]
  },
  {
   "cell_type": "code",
   "execution_count": 4,
   "id": "06a111bf",
   "metadata": {},
   "outputs": [],
   "source": [
    "# 1-3\n",
    "DF4 = DF4.groupby(['GPRC']).agg(SQTY=('QTY','sum')).reset_index()\n",
    "DF4 = DF4.sort_values(['GPRC'])"
   ]
  },
  {
   "cell_type": "code",
   "execution_count": 5,
   "id": "5b1add52",
   "metadata": {
    "scrolled": true
   },
   "outputs": [
    {
     "data": {
      "text/html": [
       "<div>\n",
       "<style scoped>\n",
       "    .dataframe tbody tr th:only-of-type {\n",
       "        vertical-align: middle;\n",
       "    }\n",
       "\n",
       "    .dataframe tbody tr th {\n",
       "        vertical-align: top;\n",
       "    }\n",
       "\n",
       "    .dataframe thead th {\n",
       "        text-align: right;\n",
       "    }\n",
       "</style>\n",
       "<table border=\"1\" class=\"dataframe\">\n",
       "  <thead>\n",
       "    <tr style=\"text-align: right;\">\n",
       "      <th></th>\n",
       "      <th>GPRC</th>\n",
       "      <th>SQTY</th>\n",
       "      <th>ELAS</th>\n",
       "    </tr>\n",
       "  </thead>\n",
       "  <tbody>\n",
       "    <tr>\n",
       "      <td>0</td>\n",
       "      <td>400000.0</td>\n",
       "      <td>53</td>\n",
       "      <td>-2.264151</td>\n",
       "    </tr>\n",
       "    <tr>\n",
       "      <td>1</td>\n",
       "      <td>500000.0</td>\n",
       "      <td>23</td>\n",
       "      <td>14.782609</td>\n",
       "    </tr>\n",
       "    <tr>\n",
       "      <td>2</td>\n",
       "      <td>600000.0</td>\n",
       "      <td>91</td>\n",
       "      <td>-2.967033</td>\n",
       "    </tr>\n",
       "    <tr>\n",
       "      <td>3</td>\n",
       "      <td>700000.0</td>\n",
       "      <td>46</td>\n",
       "      <td>-5.021739</td>\n",
       "    </tr>\n",
       "    <tr>\n",
       "      <td>4</td>\n",
       "      <td>800000.0</td>\n",
       "      <td>13</td>\n",
       "      <td>11.692308</td>\n",
       "    </tr>\n",
       "    <tr>\n",
       "      <td>5</td>\n",
       "      <td>900000.0</td>\n",
       "      <td>32</td>\n",
       "      <td>-0.281250</td>\n",
       "    </tr>\n",
       "    <tr>\n",
       "      <td>6</td>\n",
       "      <td>1000000.0</td>\n",
       "      <td>31</td>\n",
       "      <td>2.258065</td>\n",
       "    </tr>\n",
       "    <tr>\n",
       "      <td>7</td>\n",
       "      <td>1100000.0</td>\n",
       "      <td>38</td>\n",
       "      <td>-0.723684</td>\n",
       "    </tr>\n",
       "    <tr>\n",
       "      <td>8</td>\n",
       "      <td>1300000.0</td>\n",
       "      <td>33</td>\n",
       "      <td>0.590909</td>\n",
       "    </tr>\n",
       "    <tr>\n",
       "      <td>9</td>\n",
       "      <td>1500000.0</td>\n",
       "      <td>36</td>\n",
       "      <td>5.000000</td>\n",
       "    </tr>\n",
       "    <tr>\n",
       "      <td>10</td>\n",
       "      <td>1700000.0</td>\n",
       "      <td>60</td>\n",
       "      <td>NaN</td>\n",
       "    </tr>\n",
       "  </tbody>\n",
       "</table>\n",
       "</div>"
      ],
      "text/plain": [
       "         GPRC  SQTY       ELAS\n",
       "0    400000.0    53  -2.264151\n",
       "1    500000.0    23  14.782609\n",
       "2    600000.0    91  -2.967033\n",
       "3    700000.0    46  -5.021739\n",
       "4    800000.0    13  11.692308\n",
       "5    900000.0    32  -0.281250\n",
       "6   1000000.0    31   2.258065\n",
       "7   1100000.0    38  -0.723684\n",
       "8   1300000.0    33   0.590909\n",
       "9   1500000.0    36   5.000000\n",
       "10  1700000.0    60        NaN"
      ]
     },
     "execution_count": 5,
     "metadata": {},
     "output_type": "execute_result"
    }
   ],
   "source": [
    "# 1-4\n",
    "DF4['ELAS'] = ((DF4['SQTY'].shift(-1) - DF4['SQTY'])/DF4['SQTY'])/((DF4['GPRC'].shift(-1) - DF4['GPRC'])/DF4['GPRC'])\n",
    "DF4"
   ]
  },
  {
   "cell_type": "code",
   "execution_count": 6,
   "id": "2ae6b339",
   "metadata": {},
   "outputs": [
    {
     "name": "stdout",
     "output_type": "stream",
     "text": [
      "2.3066032743607696\n"
     ]
    }
   ],
   "source": [
    "# 1-5\n",
    "ELAS = DF4.ELAS.mean()\n",
    "print(ELAS)"
   ]
  },
  {
   "cell_type": "code",
   "execution_count": 7,
   "id": "e1281e56",
   "metadata": {},
   "outputs": [
    {
     "name": "stdout",
     "output_type": "stream",
     "text": [
      "ans1: 2.307\n"
     ]
    }
   ],
   "source": [
    "# Answer 1\n",
    "ans24 = round(np.abs(ELAS), 3)\n",
    "print('ans1:',ans24)"
   ]
  },
  {
   "cell_type": "markdown",
   "id": "ef2c89de",
   "metadata": {},
   "source": [
    "### Question 2"
   ]
  },
  {
   "cell_type": "code",
   "execution_count": 8,
   "id": "1ea5aef3",
   "metadata": {},
   "outputs": [
    {
     "data": {
      "text/plain": [
       "(205, 10)"
      ]
     },
     "execution_count": 8,
     "metadata": {},
     "output_type": "execute_result"
    }
   ],
   "source": [
    "# 2-1\n",
    "DF5 = TRN[(TRN['CUST_TP']=='NON-MEMBER')&(TRN['STR_NM']=='NORTH')].copy()\n",
    "DF5.shape"
   ]
  },
  {
   "cell_type": "code",
   "execution_count": 9,
   "id": "e0527f0f",
   "metadata": {},
   "outputs": [],
   "source": [
    "# 2-2\n",
    "DF5['TRNS_TM'] = DF5.TRNS_TM.str[0:2]"
   ]
  },
  {
   "cell_type": "code",
   "execution_count": 10,
   "id": "13dbd65a",
   "metadata": {
    "scrolled": true
   },
   "outputs": [
    {
     "name": "stdout",
     "output_type": "stream",
     "text": [
      "n: 73\n"
     ]
    }
   ],
   "source": [
    "# 2-3\n",
    "DF5 = DF5.groupby(['TRNS_DT','TRNS_TM']).TRNS_NO.count().reset_index()\n",
    "N5 = DF5.TRNS_NO.count()\n",
    "print('n:',N5)"
   ]
  },
  {
   "cell_type": "code",
   "execution_count": 11,
   "id": "bc18a354",
   "metadata": {},
   "outputs": [
    {
     "name": "stdout",
     "output_type": "stream",
     "text": [
      "λ: 2.8\n"
     ]
    }
   ],
   "source": [
    "# 2-4\n",
    "L5 = np.round(DF5.TRNS_NO.mean(),1)\n",
    "print('λ:',L5)"
   ]
  },
  {
   "cell_type": "code",
   "execution_count": 12,
   "id": "fc9e97f6",
   "metadata": {},
   "outputs": [
    {
     "name": "stdout",
     "output_type": "stream",
     "text": [
      "A5: 0.23837544549085438\n",
      "A5: 0.23837544549085443\n"
     ]
    }
   ],
   "source": [
    "# 2-5\n",
    "# Method 1\n",
    "from scipy.stats import poisson\n",
    "A5 = poisson.pmf(2, mu=L5)\n",
    "print('A5:',A5)\n",
    "\n",
    "# Method 2\n",
    "check_A5 = np.exp(-L5)*(L5**2)/np.math.factorial(2)\n",
    "print('A5:', check_A5)"
   ]
  },
  {
   "cell_type": "code",
   "execution_count": 13,
   "id": "6dded4c3",
   "metadata": {},
   "outputs": [
    {
     "name": "stdout",
     "output_type": "stream",
     "text": [
      "B5: 0.767721410658555\n"
     ]
    }
   ],
   "source": [
    "# 2-6\n",
    "UB = L5 + 1.96*np.sqrt(L5/N5)\n",
    "LB = L5 - 1.96*np.sqrt(L5/N5)\n",
    "B5 = np.abs(UB-LB)\n",
    "print('B5:',B5)"
   ]
  },
  {
   "cell_type": "code",
   "execution_count": 14,
   "id": "1dabc1c9",
   "metadata": {},
   "outputs": [
    {
     "name": "stdout",
     "output_type": "stream",
     "text": [
      "A5+B5: 1.0060968561494095\n",
      "ans2: 1.006\n"
     ]
    }
   ],
   "source": [
    "# Answer 2\n",
    "print('A5+B5:',A5+B5)\n",
    "ans25 = round(A5+B5, 3)\n",
    "print('ans2:', ans25)"
   ]
  },
  {
   "cell_type": "markdown",
   "id": "1576cdee",
   "metadata": {},
   "source": [
    "### Question 3"
   ]
  },
  {
   "cell_type": "code",
   "execution_count": 15,
   "id": "437f293f",
   "metadata": {},
   "outputs": [],
   "source": [
    "# 3-1\n",
    "TRN['AMT'] = TRN['UPRC'] * TRN['QTY']"
   ]
  },
  {
   "cell_type": "code",
   "execution_count": 16,
   "id": "d6cf08ee",
   "metadata": {},
   "outputs": [
    {
     "data": {
      "text/plain": [
       "(335, 5)"
      ]
     },
     "execution_count": 16,
     "metadata": {},
     "output_type": "execute_result"
    }
   ],
   "source": [
    "# 3-2\n",
    "DF6 = TRN.groupby(['TRNS_DT','TRNS_DOW','STR_NM','CAT_ID']).agg(SAMT=('AMT', sum)).reset_index()\n",
    "DF6 = DF6.sort_values(['TRNS_DT','STR_NM','CAT_ID'])\n",
    "DF6.shape"
   ]
  },
  {
   "cell_type": "code",
   "execution_count": 17,
   "id": "6d06dde4",
   "metadata": {},
   "outputs": [],
   "source": [
    "# 3-3\n",
    "DF6['SMED'] = DF6.groupby(['CAT_ID']).SAMT.transform('median')\n",
    "DF6['TAMT'] = np.where(DF6['SAMT']>DF6['SMED'],'H','L')"
   ]
  },
  {
   "cell_type": "code",
   "execution_count": 18,
   "id": "09c0f069",
   "metadata": {},
   "outputs": [
    {
     "name": "stdout",
     "output_type": "stream",
     "text": [
      "23\n"
     ]
    }
   ],
   "source": [
    "# 3-4\n",
    "DF6['TRNS_DOW'] = DF6['TRNS_DOW'].astype('str')\n",
    "DF6['CAT_ID'] = DF6['CAT_ID'].astype('str')\n",
    "dvar=['TRNS_DOW','STR_NM','CAT_ID']\n",
    "dummed = pd.get_dummies(DF6[dvar])\n",
    "print(len(dummed.columns))\n",
    "DF6 = pd.concat([DF6,dummed], axis=1) #.drop(columns=dvar)"
   ]
  },
  {
   "cell_type": "code",
   "execution_count": 19,
   "id": "5a95a7b0",
   "metadata": {},
   "outputs": [
    {
     "name": "stdout",
     "output_type": "stream",
     "text": [
      "(280, 31) (55, 31)\n"
     ]
    }
   ],
   "source": [
    "# 3-5\n",
    "DF6['RN'] = np.array(range(len(DF6)))+1\n",
    "TRAIN6 = DF6[DF6['RN']%6!=0].copy()\n",
    "TEST6 = DF6[DF6['RN']%6==0].copy()\n",
    "print(TRAIN6.shape, TEST6.shape)"
   ]
  },
  {
   "cell_type": "code",
   "execution_count": 20,
   "id": "600527e0",
   "metadata": {},
   "outputs": [
    {
     "name": "stdout",
     "output_type": "stream",
     "text": [
      "23\n",
      "Input col: ['TRNS_DOW_0', 'TRNS_DOW_1', 'TRNS_DOW_2', 'TRNS_DOW_3', 'TRNS_DOW_4', 'TRNS_DOW_5', 'TRNS_DOW_6', 'STR_NM_EAST', 'STR_NM_NORTH', 'STR_NM_SOUTH', 'STR_NM_WEST', 'CAT_ID_C11', 'CAT_ID_C12', 'CAT_ID_C13', 'CAT_ID_C14', 'CAT_ID_C15', 'CAT_ID_C16', 'CAT_ID_C17', 'CAT_ID_C18', 'CAT_ID_C19', 'CAT_ID_C20', 'CAT_ID_C21', 'CAT_ID_C22']\n"
     ]
    },
    {
     "data": {
      "text/plain": [
       "MultinomialNB(alpha=1.0, class_prior=None, fit_prior=True)"
      ]
     },
     "execution_count": 20,
     "metadata": {},
     "output_type": "execute_result"
    }
   ],
   "source": [
    "# 3-6\n",
    "input6 = dummed.columns.tolist().copy()\n",
    "print(len(input6))\n",
    "print('Input col:',input6)\n",
    "\n",
    "from sklearn.naive_bayes import MultinomialNB \n",
    "MDL6 = MultinomialNB().fit(TRAIN6[input6],TRAIN6['TAMT'])\n",
    "MDL6"
   ]
  },
  {
   "cell_type": "code",
   "execution_count": 21,
   "id": "6eea23a2",
   "metadata": {},
   "outputs": [
    {
     "data": {
      "text/plain": [
       "47.27272727272727"
      ]
     },
     "execution_count": 21,
     "metadata": {},
     "output_type": "execute_result"
    }
   ],
   "source": [
    "# 3-7\n",
    "TEST6['PRED'] = MDL6.predict(TEST6[input6])\n",
    "TEST6['RES'] = 100.*(TEST6['TAMT']==TEST6['PRED'])\n",
    "ACC6 = TEST6.RES.mean()\n",
    "ACC6"
   ]
  },
  {
   "cell_type": "code",
   "execution_count": 22,
   "id": "bed43a15",
   "metadata": {},
   "outputs": [
    {
     "name": "stdout",
     "output_type": "stream",
     "text": [
      "Accuracy: 47.27272727272727\n",
      "ans3: 47.27\n"
     ]
    }
   ],
   "source": [
    "# Answer 3\n",
    "print('Accuracy:', ACC6)\n",
    "ans26 = round(ACC6, 2)\n",
    "print('ans3:', ans26)"
   ]
  },
  {
   "cell_type": "markdown",
   "id": "35388aca",
   "metadata": {},
   "source": [
    "### Summary"
   ]
  },
  {
   "cell_type": "code",
   "execution_count": 23,
   "id": "bfaba031",
   "metadata": {},
   "outputs": [
    {
     "name": "stdout",
     "output_type": "stream",
     "text": [
      "ans1: 2.307\n",
      "ans2: 1.006\n",
      "ans3: 47.27\n"
     ]
    }
   ],
   "source": [
    "print('ans1:', ans24)\n",
    "print('ans2:', ans25)\n",
    "print('ans3:', ans26)"
   ]
  },
  {
   "cell_type": "code",
   "execution_count": null,
   "id": "35e96f63",
   "metadata": {},
   "outputs": [],
   "source": []
  }
 ],
 "metadata": {
  "kernelspec": {
   "display_name": "Python 3 (ipykernel)",
   "language": "python",
   "name": "python3"
  },
  "language_info": {
   "codemirror_mode": {
    "name": "ipython",
    "version": 3
   },
   "file_extension": ".py",
   "mimetype": "text/x-python",
   "name": "python",
   "nbconvert_exporter": "python",
   "pygments_lexer": "ipython3",
   "version": "3.7.4"
  }
 },
 "nbformat": 4,
 "nbformat_minor": 5
}
