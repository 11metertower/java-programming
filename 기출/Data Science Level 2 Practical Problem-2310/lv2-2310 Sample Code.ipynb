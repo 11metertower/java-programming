{
 "cells": [
  {
   "cell_type": "code",
   "execution_count": 1,
   "id": "746eae84",
   "metadata": {},
   "outputs": [],
   "source": [
    "import pandas as pd\n",
    "import numpy as np"
   ]
  },
  {
   "cell_type": "code",
   "execution_count": 2,
   "id": "62f6b129",
   "metadata": {},
   "outputs": [],
   "source": [
    "set2 = pd.read_csv('lv2-2310.csv')"
   ]
  },
  {
   "cell_type": "code",
   "execution_count": 3,
   "id": "0ee82b8e",
   "metadata": {},
   "outputs": [
    {
     "name": "stdout",
     "output_type": "stream",
     "text": [
      "<class 'pandas.core.frame.DataFrame'>\n",
      "RangeIndex: 1352 entries, 0 to 1351\n",
      "Data columns (total 6 columns):\n",
      "SEQ       1352 non-null int64\n",
      "DATE      1352 non-null object\n",
      "PRICE     1352 non-null float64\n",
      "VOLUME    1352 non-null float64\n",
      "TYPE      1352 non-null object\n",
      "REGION    1352 non-null object\n",
      "dtypes: float64(2), int64(1), object(3)\n",
      "memory usage: 63.5+ KB\n"
     ]
    }
   ],
   "source": [
    "set2.info()"
   ]
  },
  {
   "cell_type": "markdown",
   "id": "d5128952",
   "metadata": {},
   "source": [
    "### Q1"
   ]
  },
  {
   "cell_type": "code",
   "execution_count": 4,
   "id": "9c33f053",
   "metadata": {},
   "outputs": [
    {
     "name": "stderr",
     "output_type": "stream",
     "text": [
      "c:\\dstest\\python374\\lib\\site-packages\\ipykernel_launcher.py:17: SettingWithCopyWarning: \n",
      "A value is trying to be set on a copy of a slice from a DataFrame.\n",
      "Try using .loc[row_indexer,col_indexer] = value instead\n",
      "\n",
      "See the caveats in the documentation: http://pandas.pydata.org/pandas-docs/stable/user_guide/indexing.html#returning-a-view-versus-a-copy\n",
      "  app.launch_new_instance()\n"
     ]
    }
   ],
   "source": [
    "df4 = set2.copy()\n",
    "\n",
    "# 1-1\n",
    "# X_j가 이상치 ⇔ (X_j<Q1-1.5 X IQR) 또는 (X_j>Q3+1.5×IQR)\n",
    "q1 = df4['VOLUME'].quantile(0.25)\n",
    "q3 = df4['VOLUME'].quantile(0.75)\n",
    "iqr = q3-q1\n",
    "df4['outlier1']=df4['VOLUME'].apply(lambda x : 1 if (x<q1-1.5*iqr)|(x>q3+1.5*iqr) else 0)\n",
    "\n",
    "q1 = df4['PRICE'].quantile(0.25)\n",
    "q3 = df4['PRICE'].quantile(0.75)\n",
    "iqr = q3-q1\n",
    "df4['outlier2']=df4['PRICE'].apply(lambda x : 1 if (x<q1-1.5*iqr)|(x>q3+1.5*iqr) else 0)\n",
    "df41 = df4[(df4['outlier1']==0) & (df4['outlier2']==0)]\n",
    "\n",
    "# 1-2.\n",
    "df41['YEAR']=df41['DATE'].str[0:4].astype('int')\n",
    "\n",
    "# 1-3.\n",
    "AVG21 = df41.groupby(['YEAR','TYPE'])['VOLUME','PRICE'].mean().reset_index()"
   ]
  },
  {
   "cell_type": "code",
   "execution_count": 5,
   "id": "3ab05727",
   "metadata": {},
   "outputs": [
    {
     "name": "stdout",
     "output_type": "stream",
     "text": [
      "0.335687653983975\n",
      "-0.032470798522706464\n"
     ]
    }
   ],
   "source": [
    "# 1-4. \n",
    "ratio1=(AVG21[(AVG21['TYPE']=='class1')&(AVG21['YEAR']==2018)]['VOLUME'].iloc[0]\\\n",
    " -AVG21[(AVG21['TYPE']=='class1')&(AVG21['YEAR']==2017)]['VOLUME'].iloc[0])\\\n",
    "/AVG21[(AVG21['TYPE']=='class1')&(AVG21['YEAR']==2017)]['VOLUME'].iloc[0]\n",
    "print(ratio1)\n",
    "ratio2=(AVG21[(AVG21['TYPE']=='class2')&(AVG21['YEAR']==2019)]['VOLUME'].iloc[0]\\\n",
    " -AVG21[(AVG21['TYPE']=='class2')&(AVG21['YEAR']==2018)]['VOLUME'].iloc[0])\\\n",
    "/AVG21[(AVG21['TYPE']=='class2')&(AVG21['YEAR']==2018)]['VOLUME'].iloc[0]\n",
    "print(ratio2)"
   ]
  },
  {
   "cell_type": "code",
   "execution_count": 6,
   "id": "5debc4b7",
   "metadata": {},
   "outputs": [
    {
     "name": "stdout",
     "output_type": "stream",
     "text": [
      "0.011823071567816914\n",
      "0.0543866481299469\n"
     ]
    }
   ],
   "source": [
    "# 1-5.\n",
    "ratio3=(AVG21[(AVG21['TYPE']=='class1')&(AVG21['YEAR']==2018)]['PRICE'].iloc[0]\\\n",
    " -AVG21[(AVG21['TYPE']=='class1')&(AVG21['YEAR']==2017)]['PRICE'].iloc[0])\\\n",
    "/AVG21[(AVG21['TYPE']=='class1')&(AVG21['YEAR']==2017)]['PRICE'].iloc[0]\n",
    "print(ratio3)\n",
    "ratio4=(AVG21[(AVG21['TYPE']=='class2')&(AVG21['YEAR']==2019)]['PRICE'].iloc[0]\\\n",
    " -AVG21[(AVG21['TYPE']=='class2')&(AVG21['YEAR']==2018)]['PRICE'].iloc[0])\\\n",
    "/AVG21[(AVG21['TYPE']=='class2')&(AVG21['YEAR']==2018)]['PRICE'].iloc[0]\n",
    "print(ratio4)"
   ]
  },
  {
   "cell_type": "code",
   "execution_count": 7,
   "id": "3b6456bf",
   "metadata": {},
   "outputs": [
    {
     "name": "stdout",
     "output_type": "stream",
     "text": [
      "Q1:  0.3694265751590324\n"
     ]
    }
   ],
   "source": [
    "ans24 = ratio1+ratio2+ratio3+ratio4\n",
    "print('Q1: ', ans24)"
   ]
  },
  {
   "cell_type": "markdown",
   "id": "c0d35614",
   "metadata": {},
   "source": [
    "### Q2"
   ]
  },
  {
   "cell_type": "code",
   "execution_count": 8,
   "id": "8a82d9da",
   "metadata": {},
   "outputs": [
    {
     "name": "stdout",
     "output_type": "stream",
     "text": [
      "(872, 6)\n",
      "(480, 6)\n"
     ]
    }
   ],
   "source": [
    "# 2-1.\n",
    "df5 = set2.copy()\n",
    "\n",
    "var5 = ['PRICE','VOLUME']\n",
    "from sklearn.preprocessing import MinMaxScaler\n",
    "df5n = pd.DataFrame(MinMaxScaler().fit(df5[var5]).transform(df5[var5]), columns=var5)\n",
    "\n",
    "# 2-2.\n",
    "dummy5 = pd.get_dummies(df5['REGION'], drop_first=True)\n",
    "df51 = pd.concat([df5[['DATE','TYPE']],df5n, dummy5], axis=1)\n",
    "\n",
    "# 2-3.\n",
    "trainset5 = df51[df51['DATE']<='2019-01-31'].sort_values('DATE').drop('DATE',axis=1)\n",
    "print(trainset5.shape)\n",
    "testset5 = df51[df51['DATE']>='2019-02-01'].sort_values('DATE').drop('DATE',axis=1)\n",
    "print(testset5.shape)"
   ]
  },
  {
   "cell_type": "code",
   "execution_count": 9,
   "id": "004215a6",
   "metadata": {},
   "outputs": [
    {
     "name": "stdout",
     "output_type": "stream",
     "text": [
      "5 :  0.9895833333333334\n",
      "7 :  0.9875\n",
      "9 :  0.9833333333333333\n",
      "5\n",
      "0.9895833333333334\n",
      "Q2:  5.989583333333333\n"
     ]
    }
   ],
   "source": [
    "# 2-4.\n",
    "ivar5 = trainset5.iloc[:,1:].columns\n",
    "from sklearn.neighbors import KNeighborsClassifier\n",
    "from sklearn.metrics import accuracy_score\n",
    "\n",
    "n_n = 0\n",
    "max_acc = 0\n",
    "for i in range(5,11,2):\n",
    "    pred5 = KNeighborsClassifier(metric='euclidean', n_neighbors=i).fit(trainset5[ivar5], trainset5['TYPE']).predict(testset5[ivar5])\n",
    "    acc5 = accuracy_score(testset5['TYPE'], pred5)\n",
    "    print(i, \": \", acc5)\n",
    "    if(acc5>max_acc):\n",
    "        max_acc = acc5\n",
    "        n_n = i\n",
    "print(n_n)\n",
    "print(max_acc)\n",
    "ans25 = n_n + max_acc\n",
    "print('Q2: ', ans25)"
   ]
  },
  {
   "cell_type": "markdown",
   "id": "4af79a94",
   "metadata": {},
   "source": [
    "### Q3"
   ]
  },
  {
   "cell_type": "code",
   "execution_count": 10,
   "id": "b5cd5224",
   "metadata": {},
   "outputs": [],
   "source": [
    "df6 = set2.copy()\n",
    "# 3-1.\n",
    "df6['imsi']=df6['DATE'].str[0:4].astype('int')\n",
    "dict6 = {2017:1, 2018:2, 2019:3, 2020:4}\n",
    "df6['YEAR_NUM']=df6['imsi'].map(dict6)\n",
    "df6.drop('imsi',axis=1, inplace=True)\n",
    "df6['MONTH']=df6['DATE'].str[5:7].astype('int')"
   ]
  },
  {
   "cell_type": "code",
   "execution_count": 11,
   "id": "f335bc89",
   "metadata": {},
   "outputs": [
    {
     "name": "stdout",
     "output_type": "stream",
     "text": [
      "Index(['VOLUME', 'YEAR_NUM', 'MONTH', 'REGION_B', 'REGION_C', 'REGION_D',\n",
      "       'TYPE_class2', 'const'],\n",
      "      dtype='object')\n"
     ]
    }
   ],
   "source": [
    "# 3-2.\n",
    "df61 = pd.concat([df6,pd.get_dummies(df6[['REGION','TYPE']], drop_first=True)], axis=1).drop(['REGION','DATE','TYPE'],axis=1)\n",
    "df61['const']=1\n",
    "var6 = df61.iloc[:,2:].columns\n",
    "print(var6)"
   ]
  },
  {
   "cell_type": "markdown",
   "id": "eb5a6546",
   "metadata": {},
   "source": [
    "##### OLS"
   ]
  },
  {
   "cell_type": "code",
   "execution_count": 12,
   "id": "49be6020",
   "metadata": {},
   "outputs": [],
   "source": [
    "# 3-3.\n",
    "from statsmodels.api import OLS\n",
    "lr6_3 = OLS(df61['PRICE'], df61[var6]).fit()\n",
    "pred6 = lr6_3.predict(df61[var6])"
   ]
  },
  {
   "cell_type": "code",
   "execution_count": 13,
   "id": "d9537ada",
   "metadata": {},
   "outputs": [
    {
     "name": "stdout",
     "output_type": "stream",
     "text": [
      "738.8776128583872\n"
     ]
    }
   ],
   "source": [
    "# 3-4.\n",
    "import numpy as np\n",
    "from sklearn.metrics import mean_squared_error\n",
    "rmse1 = np.sqrt(mean_squared_error(df61['PRICE'],pred6))\n",
    "print(rmse1)"
   ]
  },
  {
   "cell_type": "code",
   "execution_count": 14,
   "id": "1a9742f0",
   "metadata": {},
   "outputs": [
    {
     "name": "stdout",
     "output_type": "stream",
     "text": [
      "VOLUME\n"
     ]
    },
    {
     "data": {
      "text/plain": [
       "0       59.682\n",
       "1       64.268\n",
       "2       61.951\n",
       "3       64.914\n",
       "4       54.580\n",
       "         ...  \n",
       "1347     2.807\n",
       "1348     2.033\n",
       "1349     2.792\n",
       "1350     3.735\n",
       "1351     2.015\n",
       "Name: VOLUME, Length: 1352, dtype: float64"
      ]
     },
     "execution_count": 14,
     "metadata": {},
     "output_type": "execute_result"
    }
   ],
   "source": [
    "#3-5.\n",
    "var26 = df61.iloc[:,1:5].corr()['PRICE'].abs().sort_values(ascending=False).index[1]\n",
    "print(var26)\n",
    "df61[var26]"
   ]
  },
  {
   "cell_type": "code",
   "execution_count": 15,
   "id": "c29bf75b",
   "metadata": {},
   "outputs": [
    {
     "name": "stdout",
     "output_type": "stream",
     "text": [
      "1047.7694386870744\n"
     ]
    }
   ],
   "source": [
    "# 3-6.\n",
    "from statsmodels.api import OLS\n",
    "xtrain6 = df61[['VOLUME','const']]\n",
    "ytrain6 = df61['PRICE']\n",
    "lr6_6 = OLS(ytrain6, xtrain6).fit()\n",
    "predict6 = lr6_6.predict(xtrain6)\n",
    "#26-7.\n",
    "from sklearn.metrics import mean_squared_error\n",
    "rmse2 = np.sqrt(mean_squared_error(df61['PRICE'],predict6))\n",
    "print(rmse2)"
   ]
  },
  {
   "cell_type": "code",
   "execution_count": 16,
   "id": "57ec9694",
   "metadata": {},
   "outputs": [
    {
     "name": "stdout",
     "output_type": "stream",
     "text": [
      "-18.773672408158138\n"
     ]
    }
   ],
   "source": [
    "# 3-8.\n",
    "val26=lr6_6.params[var26]\n",
    "print(val26)"
   ]
  },
  {
   "cell_type": "code",
   "execution_count": 17,
   "id": "29525f4a",
   "metadata": {},
   "outputs": [
    {
     "name": "stdout",
     "output_type": "stream",
     "text": [
      "Q3:  327.6654982368453\n"
     ]
    }
   ],
   "source": [
    "ans26 = abs(rmse1-rmse2)+abs(val26)\n",
    "print('Q3: ', ans26)"
   ]
  },
  {
   "cell_type": "markdown",
   "id": "ff0d8609",
   "metadata": {},
   "source": [
    "##### sklearn Linear Regression"
   ]
  },
  {
   "cell_type": "code",
   "execution_count": 18,
   "id": "f0c8a6bf",
   "metadata": {},
   "outputs": [
    {
     "name": "stdout",
     "output_type": "stream",
     "text": [
      "738.8776128583871\n",
      "VOLUME\n",
      "1047.7694386870744\n",
      "-18.77367240815805\n",
      "Q3:  327.66549823684534\n"
     ]
    }
   ],
   "source": [
    "# 3-3.\n",
    "from sklearn.linear_model import LinearRegression\n",
    "lr6_3 = LinearRegression().fit(df61[var6], df61['PRICE'])\n",
    "pred6 = lr6_3.predict(df61[var6])\n",
    "\n",
    "# 3-4.\n",
    "import numpy as np\n",
    "from sklearn.metrics import mean_squared_error\n",
    "rmse1 = np.sqrt(mean_squared_error(df61['PRICE'],pred6))\n",
    "print(rmse1)\n",
    "\n",
    "# 3-5.\n",
    "var26 = df61.iloc[:,1:5].corr()['PRICE'].abs().sort_values(ascending=False).index[1]\n",
    "print(var26)\n",
    "df61[var26]\n",
    "\n",
    "# 3-6.\n",
    "xtrain6 = df61[['VOLUME','const']]\n",
    "ytrain6 = df61['PRICE']\n",
    "lr6_6 = LinearRegression().fit(xtrain6, ytrain6)\n",
    "predict6 = lr6_6.predict(xtrain6)\n",
    "\n",
    "# 3-7.\n",
    "rmse2 = np.sqrt(mean_squared_error(df61['PRICE'],predict6))\n",
    "print(rmse2)\n",
    "\n",
    "# 3-8.\n",
    "val26=lr6_6.coef_[0]\n",
    "print(val26)\n",
    "\n",
    "ans26 = abs(rmse1-rmse2)+abs(val26)\n",
    "print('Q3: ', ans26)\n",
    "\n",
    "#738.8776128583871\n",
    "#VOLUME\n",
    "#1047.7694386870744\n",
    "#-18.77367240815827\n",
    "#327.66549823684556"
   ]
  },
  {
   "cell_type": "markdown",
   "id": "5b1777b0",
   "metadata": {},
   "source": [
    "### Answer Summary"
   ]
  },
  {
   "cell_type": "code",
   "execution_count": 19,
   "id": "38848f33",
   "metadata": {},
   "outputs": [
    {
     "name": "stdout",
     "output_type": "stream",
     "text": [
      "Q1:  0.3694265751590324\n",
      "Q2:  5.989583333333333\n",
      "Q3:  327.66549823684534\n"
     ]
    }
   ],
   "source": [
    "print('Q1: ', ans24)\n",
    "print('Q2: ', ans25)\n",
    "print('Q3: ', ans26)"
   ]
  },
  {
   "cell_type": "code",
   "execution_count": 20,
   "id": "3a9f86de",
   "metadata": {},
   "outputs": [
    {
     "name": "stdout",
     "output_type": "stream",
     "text": [
      "0.369\n",
      "5.99\n",
      "327.67\n"
     ]
    }
   ],
   "source": [
    "print(round(ans24, 3))\n",
    "print(round(ans25, 2))\n",
    "print(round(ans26, 2))"
   ]
  },
  {
   "cell_type": "code",
   "execution_count": null,
   "id": "3f5a06f3",
   "metadata": {},
   "outputs": [],
   "source": []
  }
 ],
 "metadata": {
  "kernelspec": {
   "display_name": "Python 3 (ipykernel)",
   "language": "python",
   "name": "python3"
  },
  "language_info": {
   "codemirror_mode": {
    "name": "ipython",
    "version": 3
   },
   "file_extension": ".py",
   "mimetype": "text/x-python",
   "name": "python",
   "nbconvert_exporter": "python",
   "pygments_lexer": "ipython3",
   "version": "3.7.4"
  }
 },
 "nbformat": 4,
 "nbformat_minor": 5
}
