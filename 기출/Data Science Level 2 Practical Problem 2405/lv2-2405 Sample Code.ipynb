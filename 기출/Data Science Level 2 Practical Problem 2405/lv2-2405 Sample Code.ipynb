{
 "cells": [
  {
   "cell_type": "code",
   "execution_count": 1,
   "id": "ca774298",
   "metadata": {},
   "outputs": [
    {
     "name": "stdout",
     "output_type": "stream",
     "text": [
      "(1006, 7)\n",
      "<class 'pandas.core.frame.DataFrame'>\n",
      "RangeIndex: 1006 entries, 0 to 1005\n",
      "Data columns (total 7 columns):\n",
      "PRD_ID       1006 non-null int64\n",
      "ROT_SPD      991 non-null float64\n",
      "TRQ_PWR      1006 non-null int64\n",
      "DUR          1006 non-null int64\n",
      "NS           1006 non-null int64\n",
      "TEMP_DIFF    1006 non-null float64\n",
      "FAIL_YN      1006 non-null int64\n",
      "dtypes: float64(2), int64(5)\n",
      "memory usage: 55.1 KB\n"
     ]
    }
   ],
   "source": [
    "import pandas as pd\n",
    "import numpy as np\n",
    "FAC = pd.read_csv('lv2-2405.csv')\n",
    "print(FAC.shape)\n",
    "FAC.info()"
   ]
  },
  {
   "cell_type": "markdown",
   "id": "2a146925",
   "metadata": {},
   "source": [
    "### Question 1"
   ]
  },
  {
   "cell_type": "code",
   "execution_count": 2,
   "id": "b2e3d8d9",
   "metadata": {},
   "outputs": [
    {
     "name": "stdout",
     "output_type": "stream",
     "text": [
      "(965, 7) (41, 7)\n"
     ]
    }
   ],
   "source": [
    "# 1-1\n",
    "FAC0 = FAC[FAC['FAIL_YN']==0].copy()\n",
    "FAC1 = FAC[FAC['FAIL_YN']==1].copy()\n",
    "print(FAC0.shape, FAC1.shape)"
   ]
  },
  {
   "cell_type": "code",
   "execution_count": 3,
   "id": "025f09d1",
   "metadata": {},
   "outputs": [
    {
     "name": "stdout",
     "output_type": "stream",
     "text": [
      "TRQ_PWR      0.231706\n",
      "DUR          0.566948\n",
      "NS           0.116885\n",
      "TEMP_DIFF    0.092719\n",
      "dtype: float64\n",
      "TRQ_PWR      0.433642\n",
      "DUR          0.552811\n",
      "NS           0.128271\n",
      "TEMP_DIFF    0.130327\n",
      "dtype: float64\n"
     ]
    }
   ],
   "source": [
    "# 1-2\n",
    "cvval = ['TRQ_PWR','DUR','NS','TEMP_DIFF']\n",
    "CV0 = FAC0[cvval].apply(lambda x: x.std() / x.mean())\n",
    "CV1 = FAC1[cvval].apply(lambda x: x.std() / x.mean())\n",
    "print(CV0)\n",
    "print(CV1)"
   ]
  },
  {
   "cell_type": "code",
   "execution_count": 4,
   "id": "a591e6ca",
   "metadata": {},
   "outputs": [
    {
     "name": "stdout",
     "output_type": "stream",
     "text": [
      "TRQ_PWR      0.201936\n",
      "DUR          0.014137\n",
      "NS           0.011386\n",
      "TEMP_DIFF    0.037607\n",
      "dtype: float64\n",
      "max: 0.20193552889678829\n"
     ]
    }
   ],
   "source": [
    "# 1-3\n",
    "CV_diff = abs(CV0-CV1)\n",
    "print(CV_diff)\n",
    "diff_max = max(CV_diff)\n",
    "print('max:',diff_max)"
   ]
  },
  {
   "cell_type": "code",
   "execution_count": 5,
   "id": "041250c2",
   "metadata": {},
   "outputs": [
    {
     "data": {
      "text/plain": [
       "0.202"
      ]
     },
     "execution_count": 5,
     "metadata": {},
     "output_type": "execute_result"
    }
   ],
   "source": [
    "# Answer 1\n",
    "ans24 = round(diff_max, 3)\n",
    "ans24"
   ]
  },
  {
   "cell_type": "markdown",
   "id": "e3ebbbf0",
   "metadata": {},
   "source": [
    "### Question 2"
   ]
  },
  {
   "cell_type": "code",
   "execution_count": 6,
   "id": "c44c13eb",
   "metadata": {},
   "outputs": [
    {
     "name": "stdout",
     "output_type": "stream",
     "text": [
      "(991, 7)\n"
     ]
    }
   ],
   "source": [
    "# 2-1\n",
    "DF5 = FAC.dropna(subset=['ROT_SPD']).copy()\n",
    "print(DF5.shape)"
   ]
  },
  {
   "cell_type": "code",
   "execution_count": 7,
   "id": "c90dd9f0",
   "metadata": {},
   "outputs": [
    {
     "data": {
      "text/html": [
       "<div>\n",
       "<style scoped>\n",
       "    .dataframe tbody tr th:only-of-type {\n",
       "        vertical-align: middle;\n",
       "    }\n",
       "\n",
       "    .dataframe tbody tr th {\n",
       "        vertical-align: top;\n",
       "    }\n",
       "\n",
       "    .dataframe thead th {\n",
       "        text-align: right;\n",
       "    }\n",
       "</style>\n",
       "<table border=\"1\" class=\"dataframe\">\n",
       "  <thead>\n",
       "    <tr style=\"text-align: right;\">\n",
       "      <th></th>\n",
       "      <th>ROT_SPD_S</th>\n",
       "      <th>TRQ_PWR_S</th>\n",
       "      <th>DUR_S</th>\n",
       "      <th>NS_S</th>\n",
       "      <th>TEMP_DIFF_S</th>\n",
       "    </tr>\n",
       "  </thead>\n",
       "  <tbody>\n",
       "    <tr>\n",
       "      <td>0</td>\n",
       "      <td>-0.511206</td>\n",
       "      <td>0.893629</td>\n",
       "      <td>0.867364</td>\n",
       "      <td>-0.771185</td>\n",
       "      <td>-0.001684</td>\n",
       "    </tr>\n",
       "    <tr>\n",
       "      <td>1</td>\n",
       "      <td>0.760403</td>\n",
       "      <td>-0.916769</td>\n",
       "      <td>-0.502271</td>\n",
       "      <td>-1.248242</td>\n",
       "      <td>0.109599</td>\n",
       "    </tr>\n",
       "    <tr>\n",
       "      <td>2</td>\n",
       "      <td>-0.242934</td>\n",
       "      <td>0.089008</td>\n",
       "      <td>0.628474</td>\n",
       "      <td>-0.850695</td>\n",
       "      <td>0.109599</td>\n",
       "    </tr>\n",
       "    <tr>\n",
       "      <td>3</td>\n",
       "      <td>-0.210741</td>\n",
       "      <td>0.692474</td>\n",
       "      <td>1.408848</td>\n",
       "      <td>0.262437</td>\n",
       "      <td>1.333715</td>\n",
       "    </tr>\n",
       "    <tr>\n",
       "      <td>4</td>\n",
       "      <td>-0.865325</td>\n",
       "      <td>0.591896</td>\n",
       "      <td>1.584034</td>\n",
       "      <td>-0.055600</td>\n",
       "      <td>-1.114517</td>\n",
       "    </tr>\n",
       "  </tbody>\n",
       "</table>\n",
       "</div>"
      ],
      "text/plain": [
       "   ROT_SPD_S  TRQ_PWR_S     DUR_S      NS_S  TEMP_DIFF_S\n",
       "0  -0.511206   0.893629  0.867364 -0.771185    -0.001684\n",
       "1   0.760403  -0.916769 -0.502271 -1.248242     0.109599\n",
       "2  -0.242934   0.089008  0.628474 -0.850695     0.109599\n",
       "3  -0.210741   0.692474  1.408848  0.262437     1.333715\n",
       "4  -0.865325   0.591896  1.584034 -0.055600    -1.114517"
      ]
     },
     "execution_count": 7,
     "metadata": {},
     "output_type": "execute_result"
    }
   ],
   "source": [
    "# 2-2\n",
    "from sklearn.preprocessing import StandardScaler\n",
    "SVAR = ['ROT_SPD','TRQ_PWR','DUR','NS','TEMP_DIFF']\n",
    "DF5s = StandardScaler().fit_transform(DF5[SVAR])\n",
    "SVARS = [var + '_S' for var in SVAR]\n",
    "DF5s = pd.DataFrame(DF5s, columns=SVARS)\n",
    "DF5s.head()"
   ]
  },
  {
   "cell_type": "code",
   "execution_count": 8,
   "id": "dec887b6",
   "metadata": {},
   "outputs": [],
   "source": [
    "# 2-3\n",
    "from sklearn.cluster import KMeans\n",
    "km = KMeans(n_clusters=3, random_state=1234, init='random', n_init=5).fit(DF5s)\n",
    "DF5['clst'] = km.labels_"
   ]
  },
  {
   "cell_type": "code",
   "execution_count": 9,
   "id": "10568fb1",
   "metadata": {},
   "outputs": [
    {
     "name": "stdout",
     "output_type": "stream",
     "text": [
      "   clst   FAIL_RT    N\n",
      "0     0  1.459854  411\n",
      "1     1  6.469003  371\n",
      "2     2  5.263158  209\n",
      "Diff: 5.00914868081925\n"
     ]
    }
   ],
   "source": [
    "# 2-4\n",
    "DF5o = DF5.groupby(['clst']).agg(FAIL_RT=('FAIL_YN', 'mean'),\n",
    "                                 N = ('FAIL_YN', 'count')).reset_index()\n",
    "DF5o.FAIL_RT = 100*DF5o.FAIL_RT\n",
    "print(DF5o)\n",
    "FAIL_RT_DIFF = abs(max(DF5o.FAIL_RT) - min(DF5o.FAIL_RT))\n",
    "print('Diff:',FAIL_RT_DIFF)"
   ]
  },
  {
   "cell_type": "code",
   "execution_count": 10,
   "id": "bc11319a",
   "metadata": {},
   "outputs": [
    {
     "data": {
      "text/plain": [
       "5.01"
      ]
     },
     "execution_count": 10,
     "metadata": {},
     "output_type": "execute_result"
    }
   ],
   "source": [
    "# Answer 2\n",
    "ans25 = round(FAIL_RT_DIFF, 2)\n",
    "ans25"
   ]
  },
  {
   "cell_type": "markdown",
   "id": "23e5690d",
   "metadata": {},
   "source": [
    "### Question 3"
   ]
  },
  {
   "cell_type": "code",
   "execution_count": 11,
   "id": "1b57915c",
   "metadata": {},
   "outputs": [],
   "source": [
    "# 3-1\n",
    "DF6 = FAC.copy()\n",
    "median_value = FAC['ROT_SPD'].median()\n",
    "DF6['ROT_SPD'].fillna(median_value, inplace=True)"
   ]
  },
  {
   "cell_type": "code",
   "execution_count": 12,
   "id": "c9c9ae29",
   "metadata": {},
   "outputs": [
    {
     "name": "stdout",
     "output_type": "stream",
     "text": [
      "(671, 7) (335, 7)\n"
     ]
    }
   ],
   "source": [
    "# 3-2\n",
    "TRAIN6 = DF6[DF6['PRD_ID']%3!=0].copy()\n",
    "TEST6 = DF6[DF6['PRD_ID']%3==0].copy()\n",
    "print(TRAIN6.shape, TEST6.shape)"
   ]
  },
  {
   "cell_type": "code",
   "execution_count": 13,
   "id": "81aa6436",
   "metadata": {},
   "outputs": [],
   "source": [
    "# 3-3\n",
    "from sklearn.tree import DecisionTreeClassifier\n",
    "VAR6 = ['ROT_SPD','TRQ_PWR','DUR','NS','TEMP_DIFF']\n",
    "DT3 = DecisionTreeClassifier(random_state=1234, max_depth=3, min_samples_split=3).fit(TRAIN6[VAR6], TRAIN6.FAIL_YN)\n",
    "DT5 = DecisionTreeClassifier(random_state=1234, max_depth=5, min_samples_split=3).fit(TRAIN6[VAR6], TRAIN6.FAIL_YN)\n",
    "DT7 = DecisionTreeClassifier(random_state=1234, max_depth=7, min_samples_split=3).fit(TRAIN6[VAR6], TRAIN6.FAIL_YN)\n",
    "DTS = [DT3, DT5, DT7]"
   ]
  },
  {
   "cell_type": "code",
   "execution_count": 14,
   "id": "7b7b553e",
   "metadata": {},
   "outputs": [
    {
     "name": "stdout",
     "output_type": "stream",
     "text": [
      "[0.37037037037037035, 0.6296296296296297, 0.7407407407407407]\n",
      "DecisionTreeClassifier(class_weight=None, criterion='gini', max_depth=7,\n",
      "                       max_features=None, max_leaf_nodes=None,\n",
      "                       min_impurity_decrease=0.0, min_impurity_split=None,\n",
      "                       min_samples_leaf=1, min_samples_split=3,\n",
      "                       min_weight_fraction_leaf=0.0, presort=False,\n",
      "                       random_state=1234, splitter='best')\n"
     ]
    }
   ],
   "source": [
    "# 3-4\n",
    "TRAIN6['PRED3'] = DT3.predict(TRAIN6[VAR6])\n",
    "TRAIN6['PRED5'] = DT5.predict(TRAIN6[VAR6])\n",
    "TRAIN6['PRED7'] = DT7.predict(TRAIN6[VAR6])\n",
    "RECALLS = [np.mean(TRAIN6[TRAIN6['FAIL_YN']==1].PRED3==1),\n",
    "           np.mean(TRAIN6[TRAIN6['FAIL_YN']==1].PRED5==1),\n",
    "           np.mean(TRAIN6[TRAIN6['FAIL_YN']==1].PRED7==1)]\n",
    "print(RECALLS)\n",
    "DT_FIN = DTS[np.argmax(RECALLS)]\n",
    "print(DT_FIN)"
   ]
  },
  {
   "cell_type": "code",
   "execution_count": 15,
   "id": "e9ff822b",
   "metadata": {},
   "outputs": [
    {
     "data": {
      "text/plain": [
       "0.6428571428571429"
      ]
     },
     "execution_count": 15,
     "metadata": {},
     "output_type": "execute_result"
    }
   ],
   "source": [
    "# 3-5\n",
    "TEST6['PRED'] = DT_FIN.predict(TEST6[VAR6])\n",
    "RECALL6 = np.mean(TEST6[TEST6['FAIL_YN']==1].PRED==1)\n",
    "RECALL6"
   ]
  },
  {
   "cell_type": "code",
   "execution_count": 16,
   "id": "02ece2eb",
   "metadata": {},
   "outputs": [
    {
     "data": {
      "text/plain": [
       "0.643"
      ]
     },
     "execution_count": 16,
     "metadata": {},
     "output_type": "execute_result"
    }
   ],
   "source": [
    "# Answer 3\n",
    "ans26 = round(RECALL6, 3)\n",
    "ans26"
   ]
  },
  {
   "cell_type": "markdown",
   "id": "ae725a4d",
   "metadata": {},
   "source": [
    "## Summary"
   ]
  },
  {
   "cell_type": "code",
   "execution_count": 17,
   "id": "5d5a71f0",
   "metadata": {},
   "outputs": [
    {
     "name": "stdout",
     "output_type": "stream",
     "text": [
      "ans24: 0.202\n",
      "ans25: 5.01\n",
      "ans26: 0.643\n"
     ]
    }
   ],
   "source": [
    "print('ans24:',ans24)\n",
    "print('ans25:',ans25)\n",
    "print('ans26:',ans26)"
   ]
  },
  {
   "cell_type": "code",
   "execution_count": null,
   "id": "0fa24d00",
   "metadata": {},
   "outputs": [],
   "source": []
  }
 ],
 "metadata": {
  "kernelspec": {
   "display_name": "Python 3 (ipykernel)",
   "language": "python",
   "name": "python3"
  },
  "language_info": {
   "codemirror_mode": {
    "name": "ipython",
    "version": 3
   },
   "file_extension": ".py",
   "mimetype": "text/x-python",
   "name": "python",
   "nbconvert_exporter": "python",
   "pygments_lexer": "ipython3",
   "version": "3.7.4"
  }
 },
 "nbformat": 4,
 "nbformat_minor": 5
}
