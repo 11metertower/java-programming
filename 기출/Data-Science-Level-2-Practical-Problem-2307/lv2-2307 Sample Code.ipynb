{
 "cells": [
  {
   "cell_type": "code",
   "execution_count": null,
   "id": "d6c62ceb",
   "metadata": {},
   "outputs": [],
   "source": [
    "import pandas as pd\n",
    "import numpy as np"
   ]
  },
  {
   "cell_type": "code",
   "execution_count": null,
   "id": "bc31c5e2",
   "metadata": {},
   "outputs": [],
   "source": [
    "df = pd.read_csv('lv2-2307.csv')"
   ]
  },
  {
   "cell_type": "code",
   "execution_count": null,
   "id": "20d7b188",
   "metadata": {},
   "outputs": [],
   "source": [
    "df.info()"
   ]
  },
  {
   "cell_type": "markdown",
   "id": "b559ead4",
   "metadata": {},
   "source": [
    "#### Q1"
   ]
  },
  {
   "cell_type": "code",
   "execution_count": null,
   "id": "c092ad3f",
   "metadata": {},
   "outputs": [],
   "source": [
    "df4 = df.copy()"
   ]
  },
  {
   "cell_type": "code",
   "execution_count": null,
   "id": "b0843169",
   "metadata": {},
   "outputs": [],
   "source": [
    "from datetime import datetime\n",
    "df4['DAY'] = df4['SIG_DATE'].apply(lambda x: datetime.strptime(x, '%Y-%m-%d').strftime('%w') )\n",
    "df4['WEEKEND'] = df4['DAY'].apply(lambda x : 'Yes' if (x=='6')|(x=='0') else 'No')"
   ]
  },
  {
   "cell_type": "code",
   "execution_count": null,
   "id": "1a089097",
   "metadata": {},
   "outputs": [],
   "source": [
    "q1 = df4['SIGNAL'].quantile(0.25)\n",
    "q3 = df4['SIGNAL'].quantile(0.75)\n",
    "iqr = q3 - q1"
   ]
  },
  {
   "cell_type": "code",
   "execution_count": null,
   "id": "70dfdd9b",
   "metadata": {},
   "outputs": [],
   "source": [
    "df4['OUTLIER'] = df4['SIGNAL'].apply(lambda x : 0 if (x >= q1 - 1.5*iqr) & (x <= q3 + 1.5*iqr) else 1)"
   ]
  },
  {
   "cell_type": "code",
   "execution_count": null,
   "id": "70a9eac8",
   "metadata": {},
   "outputs": [],
   "source": [
    "A = len(df4[(df4['WEEKEND'] == 'Yes') & (df4['OUTLIER'] == 1)]) / len(df4[df4['WEEKEND'] == 'Yes'])\n",
    "B = len(df4[(df4['WEEKEND'] == 'No') & (df4['OUTLIER'] == 1)]) / len(df4[df4['WEEKEND'] == 'No'])"
   ]
  },
  {
   "cell_type": "code",
   "execution_count": null,
   "id": "de1889f8",
   "metadata": {},
   "outputs": [],
   "source": [
    "ans1 = A / B"
   ]
  },
  {
   "cell_type": "code",
   "execution_count": null,
   "id": "12f0ea2b",
   "metadata": {},
   "outputs": [],
   "source": [
    "print('Q1 Result: ', ans1)\n",
    "print('Q1 Answer: ', round(ans1,3))"
   ]
  },
  {
   "cell_type": "markdown",
   "id": "dd1ea606",
   "metadata": {},
   "source": [
    "#### Q2"
   ]
  },
  {
   "cell_type": "code",
   "execution_count": null,
   "id": "0e9b301e",
   "metadata": {},
   "outputs": [],
   "source": [
    "df5 = df.copy()"
   ]
  },
  {
   "cell_type": "code",
   "execution_count": null,
   "id": "1449bf52",
   "metadata": {},
   "outputs": [],
   "source": [
    "df5_1 = df5[df5['SETUP'] != 0]"
   ]
  },
  {
   "cell_type": "code",
   "execution_count": null,
   "id": "0699d23c",
   "metadata": {},
   "outputs": [],
   "source": [
    "tec_mean = df5_1.groupby(['TECHNOLOGY'])['SETUP'].mean().reset_index()\n",
    "df5_1 = df5.merge(tec_mean, how='left', on='TECHNOLOGY')"
   ]
  },
  {
   "cell_type": "code",
   "execution_count": null,
   "id": "52ed1f90",
   "metadata": {},
   "outputs": [],
   "source": [
    "def aa(x):\n",
    "    if x[7] == 0:\n",
    "        x[7] = x[9]\n",
    "    return x"
   ]
  },
  {
   "cell_type": "code",
   "execution_count": null,
   "id": "b4ac8898",
   "metadata": {},
   "outputs": [],
   "source": [
    "df5_2 = df5_1.apply(aa, axis=1)\n",
    "df5_2.rename(columns = {'SETUP_x':'SETUP'}, inplace=True)\n",
    "D = df5_2['SETUP'].mean() + 1.96 * df5_2['SETUP'].std() / (len(df5_2) ** 0.5)\n",
    "C = df5_2['SETUP'].mean() - 1.96 * df5_2['SETUP'].std() / (len(df5_2) ** 0.5)\n",
    "B = df5['SETUP'].mean() + 1.96 * df5['SETUP'].std() / (len(df5) ** 0.5)\n",
    "A = df5['SETUP'].mean() - 1.96 * df5['SETUP'].std() / (len(df5) ** 0.5)"
   ]
  },
  {
   "cell_type": "code",
   "execution_count": null,
   "id": "2dc6c8da",
   "metadata": {},
   "outputs": [],
   "source": [
    "ans2 = abs(D-A)"
   ]
  },
  {
   "cell_type": "code",
   "execution_count": null,
   "id": "778d74ca",
   "metadata": {},
   "outputs": [],
   "source": [
    "print('Q2 Result: ', ans2)\n",
    "print('Q2 Answer: ', round(ans2, 3))"
   ]
  },
  {
   "cell_type": "markdown",
   "id": "15293572",
   "metadata": {},
   "source": [
    "#### Q3"
   ]
  },
  {
   "cell_type": "code",
   "execution_count": null,
   "id": "f500a667",
   "metadata": {},
   "outputs": [],
   "source": [
    "df6 = df.copy()"
   ]
  },
  {
   "cell_type": "code",
   "execution_count": null,
   "id": "2b822daa",
   "metadata": {},
   "outputs": [],
   "source": [
    "from sklearn.linear_model import LinearRegression"
   ]
  },
  {
   "cell_type": "code",
   "execution_count": null,
   "id": "691e00a8",
   "metadata": {},
   "outputs": [],
   "source": [
    "t_list = df6['TECHNOLOGY'].unique()"
   ]
  },
  {
   "cell_type": "code",
   "execution_count": null,
   "id": "02fe289d",
   "metadata": {},
   "outputs": [],
   "source": [
    "def bb (x):\n",
    "    if x[3] <= 0:\n",
    "        x[3] = x[2] * b\n",
    "    return x"
   ]
  },
  {
   "cell_type": "code",
   "execution_count": null,
   "id": "38e739b4",
   "metadata": {},
   "outputs": [],
   "source": [
    "# sklearn\n",
    "for t in t_list:\n",
    "    tmp = df6[df6['TECHNOLOGY'] == t]\n",
    "    tmp1 = tmp[tmp['SPEED'] > 0]\n",
    "    lr = LinearRegression(fit_intercept=False)\n",
    "    lr.fit(tmp1[['SIGNAL']], tmp1[['SPEED']])\n",
    "    b = lr.coef_[0][0]\n",
    "    b = round(b, 3)\n",
    "    tmp = tmp.apply(bb, axis=1)\n",
    "    tmp.set_index(['SIG_ID'], inplace=True)\n",
    "    df6.set_index(['SIG_ID'], inplace=True)\n",
    "    df6.loc[tmp.index, 'SPEED'] = tmp['SPEED']\n",
    "    df6.reset_index(inplace=True)\n",
    "    print(t)\n",
    "    print(b)"
   ]
  },
  {
   "cell_type": "code",
   "execution_count": null,
   "id": "50c88468",
   "metadata": {},
   "outputs": [],
   "source": [
    "import statsmodels.api as sm\n",
    "# OLS 로 계산\n",
    "for t in t_list:\n",
    "    tmp = df6[df6['TECHNOLOGY'] == t]\n",
    "    tmp1 = tmp[tmp['SPEED'] > 0]\n",
    "    ols = sm.OLS(tmp1[['SPEED']], tmp1[['SIGNAL']]).fit()\n",
    "    b = ols.params[0]\n",
    "    b = round(b, 3)\n",
    "    tmp = tmp.apply(bb, axis=1)\n",
    "    tmp.set_index(['SIG_ID'], inplace=True)\n",
    "    df6.set_index(['SIG_ID'], inplace=True)\n",
    "    df6.loc[tmp.index, 'SPEED'] = tmp['SPEED']\n",
    "    df6.reset_index(inplace=True)\n",
    "    print(t)\n",
    "    print(b)"
   ]
  },
  {
   "cell_type": "code",
   "execution_count": null,
   "id": "b84109e3",
   "metadata": {},
   "outputs": [],
   "source": [
    "df6['TARGET'] = df6['MOS'].apply(lambda x : 1 if x >= 4 else 0)"
   ]
  },
  {
   "cell_type": "code",
   "execution_count": null,
   "id": "14ad0596",
   "metadata": {},
   "outputs": [],
   "source": [
    "train = df6[df6['SIG_ID'] % 4 != 0]\n",
    "test = df6[df6['SIG_ID'] % 4 == 0]\n",
    "train_x = train.drop(columns = ['SIG_ID', 'SIG_DATE', 'RESULT', 'TECHNOLOGY','SETUP','MOS','TARGET'])\n",
    "train_y = train[['TARGET']]\n",
    "test_x = test.drop(columns = ['SIG_ID', 'SIG_DATE', 'RESULT', 'TECHNOLOGY','SETUP','MOS','TARGET'])\n",
    "test_y = test[['TARGET']]"
   ]
  },
  {
   "cell_type": "code",
   "execution_count": null,
   "id": "9c1dc217",
   "metadata": {},
   "outputs": [],
   "source": [
    "from sklearn.linear_model import LogisticRegression"
   ]
  },
  {
   "cell_type": "code",
   "execution_count": null,
   "id": "43e90281",
   "metadata": {},
   "outputs": [],
   "source": [
    "lr = LogisticRegression(solver = 'lbfgs', C = 100000, random_state = 1234)\n",
    "lr.fit(train_x, train_y)"
   ]
  },
  {
   "cell_type": "code",
   "execution_count": null,
   "id": "6528f0b4",
   "metadata": {},
   "outputs": [],
   "source": [
    "test_y['prd'] = lr.predict(test_x)"
   ]
  },
  {
   "cell_type": "code",
   "execution_count": null,
   "id": "6dfa7309",
   "metadata": {},
   "outputs": [],
   "source": [
    "from sklearn.metrics import accuracy_score"
   ]
  },
  {
   "cell_type": "code",
   "execution_count": null,
   "id": "3c5be907",
   "metadata": {},
   "outputs": [],
   "source": [
    "ans3 = accuracy_score(test_y['TARGET'], test_y['prd'])"
   ]
  },
  {
   "cell_type": "code",
   "execution_count": null,
   "id": "27e0e08c",
   "metadata": {},
   "outputs": [],
   "source": [
    "print('Q3 Result: ', ans3)\n",
    "print('Q3 Answer: ', round(ans3,3))"
   ]
  },
  {
   "cell_type": "code",
   "execution_count": null,
   "id": "80d5390a",
   "metadata": {},
   "outputs": [],
   "source": []
  }
 ],
 "metadata": {
  "kernelspec": {
   "display_name": "Python 3 (ipykernel)",
   "language": "python",
   "name": "python3"
  },
  "language_info": {
   "codemirror_mode": {
    "name": "ipython",
    "version": 3
   },
   "file_extension": ".py",
   "mimetype": "text/x-python",
   "name": "python",
   "nbconvert_exporter": "python",
   "pygments_lexer": "ipython3",
   "version": "3.7.4"
  }
 },
 "nbformat": 4,
 "nbformat_minor": 5
}
