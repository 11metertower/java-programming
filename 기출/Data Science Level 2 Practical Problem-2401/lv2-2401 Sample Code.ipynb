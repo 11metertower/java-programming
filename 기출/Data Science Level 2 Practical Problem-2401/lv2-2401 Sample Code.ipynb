{
 "cells": [
  {
   "cell_type": "code",
   "execution_count": 1,
   "id": "12b7958f",
   "metadata": {},
   "outputs": [],
   "source": [
    "import pandas as pd\n",
    "import numpy as np"
   ]
  },
  {
   "cell_type": "code",
   "execution_count": 2,
   "id": "0ff57ef1",
   "metadata": {},
   "outputs": [
    {
     "data": {
      "text/html": [
       "<div>\n",
       "<style scoped>\n",
       "    .dataframe tbody tr th:only-of-type {\n",
       "        vertical-align: middle;\n",
       "    }\n",
       "\n",
       "    .dataframe tbody tr th {\n",
       "        vertical-align: top;\n",
       "    }\n",
       "\n",
       "    .dataframe thead th {\n",
       "        text-align: right;\n",
       "    }\n",
       "</style>\n",
       "<table border=\"1\" class=\"dataframe\">\n",
       "  <thead>\n",
       "    <tr style=\"text-align: right;\">\n",
       "      <th></th>\n",
       "      <th>C_ID</th>\n",
       "      <th>GENDER</th>\n",
       "      <th>AGE</th>\n",
       "      <th>INCOME</th>\n",
       "      <th>JOB</th>\n",
       "      <th>WORK_EXP</th>\n",
       "      <th>FAMILY</th>\n",
       "      <th>SPENDING</th>\n",
       "      <th>GRADE</th>\n",
       "    </tr>\n",
       "  </thead>\n",
       "  <tbody>\n",
       "    <tr>\n",
       "      <td>0</td>\n",
       "      <td>1</td>\n",
       "      <td>Male</td>\n",
       "      <td>19</td>\n",
       "      <td>15000</td>\n",
       "      <td>B</td>\n",
       "      <td>1</td>\n",
       "      <td>4</td>\n",
       "      <td>11.7</td>\n",
       "      <td>prestige</td>\n",
       "    </tr>\n",
       "    <tr>\n",
       "      <td>1</td>\n",
       "      <td>2</td>\n",
       "      <td>Male</td>\n",
       "      <td>21</td>\n",
       "      <td>35000</td>\n",
       "      <td>D</td>\n",
       "      <td>3</td>\n",
       "      <td>3</td>\n",
       "      <td>24.3</td>\n",
       "      <td>royal blue</td>\n",
       "    </tr>\n",
       "    <tr>\n",
       "      <td>2</td>\n",
       "      <td>3</td>\n",
       "      <td>Female</td>\n",
       "      <td>20</td>\n",
       "      <td>86000</td>\n",
       "      <td>D</td>\n",
       "      <td>1</td>\n",
       "      <td>1</td>\n",
       "      <td>1.8</td>\n",
       "      <td>general</td>\n",
       "    </tr>\n",
       "    <tr>\n",
       "      <td>3</td>\n",
       "      <td>4</td>\n",
       "      <td>Female</td>\n",
       "      <td>23</td>\n",
       "      <td>59000</td>\n",
       "      <td>G</td>\n",
       "      <td>0</td>\n",
       "      <td>2</td>\n",
       "      <td>23.1</td>\n",
       "      <td>royal blue</td>\n",
       "    </tr>\n",
       "    <tr>\n",
       "      <td>4</td>\n",
       "      <td>5</td>\n",
       "      <td>Female</td>\n",
       "      <td>31</td>\n",
       "      <td>38000</td>\n",
       "      <td>C</td>\n",
       "      <td>2</td>\n",
       "      <td>6</td>\n",
       "      <td>12.0</td>\n",
       "      <td>prestige</td>\n",
       "    </tr>\n",
       "    <tr>\n",
       "      <td>...</td>\n",
       "      <td>...</td>\n",
       "      <td>...</td>\n",
       "      <td>...</td>\n",
       "      <td>...</td>\n",
       "      <td>...</td>\n",
       "      <td>...</td>\n",
       "      <td>...</td>\n",
       "      <td>...</td>\n",
       "      <td>...</td>\n",
       "    </tr>\n",
       "    <tr>\n",
       "      <td>1995</td>\n",
       "      <td>1996</td>\n",
       "      <td>Female</td>\n",
       "      <td>41</td>\n",
       "      <td>184387</td>\n",
       "      <td>A</td>\n",
       "      <td>8</td>\n",
       "      <td>7</td>\n",
       "      <td>12.0</td>\n",
       "      <td>prestige</td>\n",
       "    </tr>\n",
       "    <tr>\n",
       "      <td>1996</td>\n",
       "      <td>1997</td>\n",
       "      <td>Female</td>\n",
       "      <td>61</td>\n",
       "      <td>73158</td>\n",
       "      <td>E</td>\n",
       "      <td>7</td>\n",
       "      <td>7</td>\n",
       "      <td>9.6</td>\n",
       "      <td>star</td>\n",
       "    </tr>\n",
       "    <tr>\n",
       "      <td>1997</td>\n",
       "      <td>1998</td>\n",
       "      <td>Male</td>\n",
       "      <td>57</td>\n",
       "      <td>90961</td>\n",
       "      <td>B</td>\n",
       "      <td>9</td>\n",
       "      <td>2</td>\n",
       "      <td>4.2</td>\n",
       "      <td>star</td>\n",
       "    </tr>\n",
       "    <tr>\n",
       "      <td>1998</td>\n",
       "      <td>1999</td>\n",
       "      <td>Male</td>\n",
       "      <td>47</td>\n",
       "      <td>182109</td>\n",
       "      <td>F</td>\n",
       "      <td>7</td>\n",
       "      <td>2</td>\n",
       "      <td>1.2</td>\n",
       "      <td>general</td>\n",
       "    </tr>\n",
       "    <tr>\n",
       "      <td>1999</td>\n",
       "      <td>2000</td>\n",
       "      <td>Male</td>\n",
       "      <td>60</td>\n",
       "      <td>110610</td>\n",
       "      <td>C</td>\n",
       "      <td>5</td>\n",
       "      <td>2</td>\n",
       "      <td>15.6</td>\n",
       "      <td>prestige</td>\n",
       "    </tr>\n",
       "  </tbody>\n",
       "</table>\n",
       "<p>2000 rows × 9 columns</p>\n",
       "</div>"
      ],
      "text/plain": [
       "      C_ID  GENDER  AGE  INCOME JOB  WORK_EXP  FAMILY  SPENDING       GRADE\n",
       "0        1    Male   19   15000   B         1       4      11.7    prestige\n",
       "1        2    Male   21   35000   D         3       3      24.3  royal blue\n",
       "2        3  Female   20   86000   D         1       1       1.8     general\n",
       "3        4  Female   23   59000   G         0       2      23.1  royal blue\n",
       "4        5  Female   31   38000   C         2       6      12.0    prestige\n",
       "...    ...     ...  ...     ...  ..       ...     ...       ...         ...\n",
       "1995  1996  Female   41  184387   A         8       7      12.0    prestige\n",
       "1996  1997  Female   61   73158   E         7       7       9.6        star\n",
       "1997  1998    Male   57   90961   B         9       2       4.2        star\n",
       "1998  1999    Male   47  182109   F         7       2       1.2     general\n",
       "1999  2000    Male   60  110610   C         5       2      15.6    prestige\n",
       "\n",
       "[2000 rows x 9 columns]"
      ]
     },
     "execution_count": 2,
     "metadata": {},
     "output_type": "execute_result"
    }
   ],
   "source": [
    "set2 = pd.read_csv('lv2-2401.csv')\n",
    "set2"
   ]
  },
  {
   "cell_type": "code",
   "execution_count": 4,
   "id": "0da7d23d",
   "metadata": {},
   "outputs": [
    {
     "name": "stdout",
     "output_type": "stream",
     "text": [
      "<class 'pandas.core.frame.DataFrame'>\n",
      "RangeIndex: 2000 entries, 0 to 1999\n",
      "Data columns (total 9 columns):\n",
      "C_ID        2000 non-null int64\n",
      "GENDER      2000 non-null object\n",
      "AGE         2000 non-null int64\n",
      "INCOME      2000 non-null int64\n",
      "JOB         1965 non-null object\n",
      "WORK_EXP    2000 non-null int64\n",
      "FAMILY      2000 non-null int64\n",
      "SPENDING    2000 non-null float64\n",
      "GRADE       2000 non-null object\n",
      "dtypes: float64(1), int64(5), object(3)\n",
      "memory usage: 140.8+ KB\n"
     ]
    }
   ],
   "source": [
    "set2.info()"
   ]
  },
  {
   "cell_type": "markdown",
   "id": "22fcef70",
   "metadata": {},
   "source": [
    "### Q1"
   ]
  },
  {
   "cell_type": "code",
   "execution_count": 5,
   "id": "7abcc256",
   "metadata": {},
   "outputs": [],
   "source": [
    "df4 = set2.copy()\n",
    "\n",
    "# 1-1.\n",
    "df4['AGE_P']=df4['AGE'].apply(lambda x : '10s' if x<20 else ('20s' if (x>=20)&(x<30) else ('30s' if (x>=30)&(x<40)\\\n",
    "                                                                                              else ('40s' if (x>=40)&(x<50)\\\n",
    "                                                                                                   else ('other' if x>=60 else '50s')))))"
   ]
  },
  {
   "cell_type": "code",
   "execution_count": 6,
   "id": "7d7c844c",
   "metadata": {},
   "outputs": [
    {
     "data": {
      "text/html": [
       "<div>\n",
       "<style scoped>\n",
       "    .dataframe tbody tr th:only-of-type {\n",
       "        vertical-align: middle;\n",
       "    }\n",
       "\n",
       "    .dataframe tbody tr th {\n",
       "        vertical-align: top;\n",
       "    }\n",
       "\n",
       "    .dataframe thead th {\n",
       "        text-align: right;\n",
       "    }\n",
       "</style>\n",
       "<table border=\"1\" class=\"dataframe\">\n",
       "  <thead>\n",
       "    <tr style=\"text-align: right;\">\n",
       "      <th></th>\n",
       "      <th>AGE_P</th>\n",
       "      <th>AVG_SPEND</th>\n",
       "      <th>CUST_CNT</th>\n",
       "    </tr>\n",
       "  </thead>\n",
       "  <tbody>\n",
       "    <tr>\n",
       "      <td>0</td>\n",
       "      <td>10s</td>\n",
       "      <td>16.125789</td>\n",
       "      <td>380</td>\n",
       "    </tr>\n",
       "    <tr>\n",
       "      <td>1</td>\n",
       "      <td>20s</td>\n",
       "      <td>15.665403</td>\n",
       "      <td>211</td>\n",
       "    </tr>\n",
       "    <tr>\n",
       "      <td>2</td>\n",
       "      <td>30s</td>\n",
       "      <td>15.134440</td>\n",
       "      <td>241</td>\n",
       "    </tr>\n",
       "    <tr>\n",
       "      <td>3</td>\n",
       "      <td>40s</td>\n",
       "      <td>14.432320</td>\n",
       "      <td>362</td>\n",
       "    </tr>\n",
       "    <tr>\n",
       "      <td>4</td>\n",
       "      <td>50s</td>\n",
       "      <td>15.314179</td>\n",
       "      <td>402</td>\n",
       "    </tr>\n",
       "    <tr>\n",
       "      <td>5</td>\n",
       "      <td>other</td>\n",
       "      <td>15.138861</td>\n",
       "      <td>404</td>\n",
       "    </tr>\n",
       "  </tbody>\n",
       "</table>\n",
       "</div>"
      ],
      "text/plain": [
       "   AGE_P  AVG_SPEND  CUST_CNT\n",
       "0    10s  16.125789       380\n",
       "1    20s  15.665403       211\n",
       "2    30s  15.134440       241\n",
       "3    40s  14.432320       362\n",
       "4    50s  15.314179       402\n",
       "5  other  15.138861       404"
      ]
     },
     "execution_count": 6,
     "metadata": {},
     "output_type": "execute_result"
    }
   ],
   "source": [
    "agg240 = df4.groupby(['AGE_P'])['SPENDING'].mean().reset_index()\n",
    "agg241 = df4.groupby(['AGE_P'])['C_ID'].count().reset_index()\n",
    "Agg24 = agg240.merge(agg241, on='AGE_P')\n",
    "Agg24.columns = ['AGE_P','AVG_SPEND','CUST_CNT']\n",
    "Agg24"
   ]
  },
  {
   "cell_type": "code",
   "execution_count": 7,
   "id": "a8510735",
   "metadata": {},
   "outputs": [
    {
     "name": "stdout",
     "output_type": "stream",
     "text": [
      "Q1 Answer: 380\n"
     ]
    }
   ],
   "source": [
    "# 1-5\n",
    "ans24 = Agg24.iloc[Agg24.AVG_SPEND.idxmax()].CUST_CNT\n",
    "\n",
    "print('Q1 Answer:',ans24)"
   ]
  },
  {
   "cell_type": "markdown",
   "id": "c1101bb1",
   "metadata": {},
   "source": [
    "### Q2"
   ]
  },
  {
   "cell_type": "code",
   "execution_count": 8,
   "id": "67197798",
   "metadata": {},
   "outputs": [],
   "source": [
    "df5 = set2.copy()\n",
    "df5=df5.sort_values(by='C_ID')\n",
    "\n",
    "# 2-1.\n",
    "var5 = ['AGE', 'INCOME', 'WORK_EXP', 'FAMILY', 'SPENDING']\n",
    "\n",
    "from sklearn.preprocessing import StandardScaler\n",
    "\n",
    "df5s = pd.DataFrame(StandardScaler().fit(df5[var5]).transform(df5[var5]), columns=var5)\n",
    "df5s['GRADE']=df5['GRADE']\n",
    "\n"
   ]
  },
  {
   "cell_type": "code",
   "execution_count": 9,
   "id": "6567225a",
   "metadata": {},
   "outputs": [
    {
     "name": "stdout",
     "output_type": "stream",
     "text": [
      "3 : 0.15775962870715157\n",
      "4 : 0.15510749408111774\n",
      "Q2 Result: 0.15775962870715157\n",
      "Q2 Answer: 0.158\n"
     ]
    }
   ],
   "source": [
    "# 2-2, 2-3\n",
    "from sklearn.cluster import KMeans\n",
    "from sklearn.metrics import silhouette_score\n",
    "\n",
    "res5 = []\n",
    "for i in range(3,5):\n",
    "    pred = KMeans(random_state=1234, init='random', n_clusters=i).fit(df5s[var5]).predict(df5s[var5])\n",
    "    ss = silhouette_score(df5s[var5], pred)\n",
    "    print(i,':', ss)\n",
    "    res5.append([i,ss])\n",
    "\n",
    "res5_df = pd.DataFrame(res5, columns=['i','ss']).sort_values('ss', ascending=False)\n",
    "max_sil = res5_df.iloc[0].ss\n",
    "ans25 = round(max_sil, 3)\n",
    "\n",
    "print('Q2 Result:',max_sil)\n",
    "print('Q2 Answer:', ans25)"
   ]
  },
  {
   "cell_type": "markdown",
   "id": "e4ee1d75",
   "metadata": {},
   "source": [
    "### Q3"
   ]
  },
  {
   "cell_type": "code",
   "execution_count": 10,
   "id": "07a26926",
   "metadata": {},
   "outputs": [
    {
     "name": "stdout",
     "output_type": "stream",
     "text": [
      "(1714, 9)\n"
     ]
    }
   ],
   "source": [
    "# 3-1.\n",
    "df6=set2.copy()\n",
    "\n",
    "df6f = df6[df6['AGE']>=14]\n",
    "df6f = df6f[~df6f['JOB'].isnull()]\n",
    "print(df6f.shape)"
   ]
  },
  {
   "cell_type": "code",
   "execution_count": 11,
   "id": "94deb201",
   "metadata": {},
   "outputs": [
    {
     "name": "stdout",
     "output_type": "stream",
     "text": [
      "(1714, 16)\n"
     ]
    }
   ],
   "source": [
    "# 3-2.\n",
    "df6d = pd.concat([df6f, pd.get_dummies(df6f[['GENDER', 'JOB']], drop_first=True)], axis=1).drop(['GENDER','JOB'], axis=1)\n",
    "print(df6d.shape)"
   ]
  },
  {
   "cell_type": "code",
   "execution_count": 12,
   "id": "ce50dbbf",
   "metadata": {},
   "outputs": [
    {
     "name": "stdout",
     "output_type": "stream",
     "text": [
      "(1148, 16)\n",
      "(566, 16)\n"
     ]
    }
   ],
   "source": [
    "# 3-3.\n",
    "train6 = df6d[df6d['C_ID']%3!=0]\n",
    "test6 = df6d[df6d['C_ID']%3==0]\n",
    "print(train6.shape)\n",
    "print(test6.shape)\n",
    "\n",
    "xtrain6 = train6.drop(['C_ID','GRADE', 'SPENDING'], axis=1)\n",
    "ytrain6 = train6['GRADE']\n",
    "xtest6 = test6.drop(['C_ID','GRADE', 'SPENDING'], axis=1)\n",
    "ytest6 = test6['GRADE']"
   ]
  },
  {
   "cell_type": "code",
   "execution_count": 14,
   "id": "24523e09",
   "metadata": {},
   "outputs": [
    {
     "name": "stdout",
     "output_type": "stream",
     "text": [
      "Q3 Result: 33.215547703180206\n",
      "Q3 Answer: 33.22\n"
     ]
    }
   ],
   "source": [
    "from sklearn.tree import DecisionTreeClassifier\n",
    "from sklearn.metrics import accuracy_score\n",
    "\n",
    "# 3-4.\n",
    "dt6 = DecisionTreeClassifier(random_state=1234, criterion='gini', max_depth=5).fit(xtrain6, ytrain6)\n",
    "\n",
    "# 3-5.\n",
    "pred6 = dt6.predict(xtest6)\n",
    "a6 = accuracy_score(ytest6, pred6)*100\n",
    "ans26 = round(a6, 2)\n",
    "\n",
    "print('Q3 Result:',a6)\n",
    "print('Q3 Answer:', ans26)"
   ]
  },
  {
   "cell_type": "markdown",
   "id": "ff0818de",
   "metadata": {},
   "source": [
    "### Answer Summary"
   ]
  },
  {
   "cell_type": "code",
   "execution_count": 15,
   "id": "6a61e719",
   "metadata": {},
   "outputs": [
    {
     "name": "stdout",
     "output_type": "stream",
     "text": [
      "380\n",
      "0.158\n",
      "33.22\n"
     ]
    }
   ],
   "source": [
    "print(ans24)\n",
    "print(ans25)\n",
    "print(ans26)"
   ]
  },
  {
   "cell_type": "code",
   "execution_count": null,
   "id": "a98e3088",
   "metadata": {},
   "outputs": [],
   "source": []
  }
 ],
 "metadata": {
  "kernelspec": {
   "display_name": "Python 3 (ipykernel)",
   "language": "python",
   "name": "python3"
  },
  "language_info": {
   "codemirror_mode": {
    "name": "ipython",
    "version": 3
   },
   "file_extension": ".py",
   "mimetype": "text/x-python",
   "name": "python",
   "nbconvert_exporter": "python",
   "pygments_lexer": "ipython3",
   "version": "3.7.4"
  }
 },
 "nbformat": 4,
 "nbformat_minor": 5
}
