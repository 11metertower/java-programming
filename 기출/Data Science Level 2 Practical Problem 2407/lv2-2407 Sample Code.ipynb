{
 "cells": [
  {
   "cell_type": "code",
   "execution_count": 1,
   "id": "ff705254",
   "metadata": {
    "scrolled": false
   },
   "outputs": [
    {
     "name": "stdout",
     "output_type": "stream",
     "text": [
      "(1524, 11)\n",
      "<class 'pandas.core.frame.DataFrame'>\n",
      "RangeIndex: 1524 entries, 0 to 1523\n",
      "Data columns (total 11 columns):\n",
      "C_ID             1524 non-null int64\n",
      "NEMP             1524 non-null int64\n",
      "NEMP_PER_HEAD    1524 non-null float64\n",
      "INT_RATIO        1524 non-null int64\n",
      "F_RATIO          1524 non-null int64\n",
      "S1               1524 non-null float64\n",
      "S2               1524 non-null float64\n",
      "S3               1524 non-null float64\n",
      "S4               1524 non-null float64\n",
      "S5               1524 non-null float64\n",
      "SCORE            1524 non-null float64\n",
      "dtypes: float64(7), int64(4)\n",
      "memory usage: 131.1 KB\n",
      "None\n"
     ]
    }
   ],
   "source": [
    "import pandas as pd\n",
    "import numpy as np\n",
    "\n",
    "CULTURE = pd.read_csv('lv2-2407.csv')\n",
    "print(CULTURE.shape)\n",
    "print(CULTURE.info())"
   ]
  },
  {
   "cell_type": "code",
   "execution_count": 2,
   "id": "a5b88a19",
   "metadata": {},
   "outputs": [
    {
     "data": {
      "text/html": [
       "<div>\n",
       "<style scoped>\n",
       "    .dataframe tbody tr th:only-of-type {\n",
       "        vertical-align: middle;\n",
       "    }\n",
       "\n",
       "    .dataframe tbody tr th {\n",
       "        vertical-align: top;\n",
       "    }\n",
       "\n",
       "    .dataframe thead th {\n",
       "        text-align: right;\n",
       "    }\n",
       "</style>\n",
       "<table border=\"1\" class=\"dataframe\">\n",
       "  <thead>\n",
       "    <tr style=\"text-align: right;\">\n",
       "      <th></th>\n",
       "      <th>C_ID</th>\n",
       "      <th>NEMP</th>\n",
       "      <th>NEMP_PER_HEAD</th>\n",
       "      <th>INT_RATIO</th>\n",
       "      <th>F_RATIO</th>\n",
       "      <th>S1</th>\n",
       "      <th>S2</th>\n",
       "      <th>S3</th>\n",
       "      <th>S4</th>\n",
       "      <th>S5</th>\n",
       "      <th>SCORE</th>\n",
       "    </tr>\n",
       "  </thead>\n",
       "  <tbody>\n",
       "    <tr>\n",
       "      <td>0</td>\n",
       "      <td>1</td>\n",
       "      <td>20965</td>\n",
       "      <td>10.6</td>\n",
       "      <td>42</td>\n",
       "      <td>48</td>\n",
       "      <td>92.3</td>\n",
       "      <td>99.7</td>\n",
       "      <td>99.0</td>\n",
       "      <td>74.9</td>\n",
       "      <td>96.2</td>\n",
       "      <td>96.40</td>\n",
       "    </tr>\n",
       "    <tr>\n",
       "      <td>1</td>\n",
       "      <td>2</td>\n",
       "      <td>21887</td>\n",
       "      <td>9.6</td>\n",
       "      <td>25</td>\n",
       "      <td>50</td>\n",
       "      <td>94.8</td>\n",
       "      <td>99.0</td>\n",
       "      <td>99.3</td>\n",
       "      <td>49.5</td>\n",
       "      <td>80.5</td>\n",
       "      <td>95.20</td>\n",
       "    </tr>\n",
       "    <tr>\n",
       "      <td>2</td>\n",
       "      <td>3</td>\n",
       "      <td>20185</td>\n",
       "      <td>11.3</td>\n",
       "      <td>39</td>\n",
       "      <td>47</td>\n",
       "      <td>90.9</td>\n",
       "      <td>99.5</td>\n",
       "      <td>97.0</td>\n",
       "      <td>54.2</td>\n",
       "      <td>95.8</td>\n",
       "      <td>94.80</td>\n",
       "    </tr>\n",
       "    <tr>\n",
       "      <td>3</td>\n",
       "      <td>4</td>\n",
       "      <td>16164</td>\n",
       "      <td>7.1</td>\n",
       "      <td>24</td>\n",
       "      <td>46</td>\n",
       "      <td>94.2</td>\n",
       "      <td>96.7</td>\n",
       "      <td>99.8</td>\n",
       "      <td>65.0</td>\n",
       "      <td>79.8</td>\n",
       "      <td>94.80</td>\n",
       "    </tr>\n",
       "    <tr>\n",
       "      <td>4</td>\n",
       "      <td>5</td>\n",
       "      <td>11415</td>\n",
       "      <td>8.2</td>\n",
       "      <td>33</td>\n",
       "      <td>40</td>\n",
       "      <td>90.7</td>\n",
       "      <td>93.6</td>\n",
       "      <td>99.8</td>\n",
       "      <td>90.9</td>\n",
       "      <td>89.3</td>\n",
       "      <td>94.20</td>\n",
       "    </tr>\n",
       "    <tr>\n",
       "      <td>...</td>\n",
       "      <td>...</td>\n",
       "      <td>...</td>\n",
       "      <td>...</td>\n",
       "      <td>...</td>\n",
       "      <td>...</td>\n",
       "      <td>...</td>\n",
       "      <td>...</td>\n",
       "      <td>...</td>\n",
       "      <td>...</td>\n",
       "      <td>...</td>\n",
       "      <td>...</td>\n",
       "    </tr>\n",
       "    <tr>\n",
       "      <td>1519</td>\n",
       "      <td>1520</td>\n",
       "      <td>23657</td>\n",
       "      <td>20.3</td>\n",
       "      <td>6</td>\n",
       "      <td>35</td>\n",
       "      <td>17.9</td>\n",
       "      <td>16.0</td>\n",
       "      <td>14.9</td>\n",
       "      <td>45.5</td>\n",
       "      <td>27.3</td>\n",
       "      <td>14.35</td>\n",
       "    </tr>\n",
       "    <tr>\n",
       "      <td>1520</td>\n",
       "      <td>1521</td>\n",
       "      <td>10724</td>\n",
       "      <td>11.1</td>\n",
       "      <td>7</td>\n",
       "      <td>38</td>\n",
       "      <td>21.3</td>\n",
       "      <td>12.3</td>\n",
       "      <td>13.9</td>\n",
       "      <td>43.8</td>\n",
       "      <td>30.4</td>\n",
       "      <td>14.35</td>\n",
       "    </tr>\n",
       "    <tr>\n",
       "      <td>1521</td>\n",
       "      <td>1522</td>\n",
       "      <td>38649</td>\n",
       "      <td>13.2</td>\n",
       "      <td>1</td>\n",
       "      <td>39</td>\n",
       "      <td>17.2</td>\n",
       "      <td>10.9</td>\n",
       "      <td>18.3</td>\n",
       "      <td>46.9</td>\n",
       "      <td>17.0</td>\n",
       "      <td>14.35</td>\n",
       "    </tr>\n",
       "    <tr>\n",
       "      <td>1522</td>\n",
       "      <td>1523</td>\n",
       "      <td>17038</td>\n",
       "      <td>28.2</td>\n",
       "      <td>5</td>\n",
       "      <td>55</td>\n",
       "      <td>18.8</td>\n",
       "      <td>12.2</td>\n",
       "      <td>10.5</td>\n",
       "      <td>65.7</td>\n",
       "      <td>29.6</td>\n",
       "      <td>14.35</td>\n",
       "    </tr>\n",
       "    <tr>\n",
       "      <td>1523</td>\n",
       "      <td>1524</td>\n",
       "      <td>28319</td>\n",
       "      <td>25.4</td>\n",
       "      <td>8</td>\n",
       "      <td>47</td>\n",
       "      <td>13.2</td>\n",
       "      <td>8.2</td>\n",
       "      <td>23.5</td>\n",
       "      <td>38.9</td>\n",
       "      <td>23.1</td>\n",
       "      <td>14.35</td>\n",
       "    </tr>\n",
       "  </tbody>\n",
       "</table>\n",
       "<p>1524 rows × 11 columns</p>\n",
       "</div>"
      ],
      "text/plain": [
       "      C_ID   NEMP  NEMP_PER_HEAD  INT_RATIO  F_RATIO    S1    S2    S3    S4  \\\n",
       "0        1  20965           10.6         42       48  92.3  99.7  99.0  74.9   \n",
       "1        2  21887            9.6         25       50  94.8  99.0  99.3  49.5   \n",
       "2        3  20185           11.3         39       47  90.9  99.5  97.0  54.2   \n",
       "3        4  16164            7.1         24       46  94.2  96.7  99.8  65.0   \n",
       "4        5  11415            8.2         33       40  90.7  93.6  99.8  90.9   \n",
       "...    ...    ...            ...        ...      ...   ...   ...   ...   ...   \n",
       "1519  1520  23657           20.3          6       35  17.9  16.0  14.9  45.5   \n",
       "1520  1521  10724           11.1          7       38  21.3  12.3  13.9  43.8   \n",
       "1521  1522  38649           13.2          1       39  17.2  10.9  18.3  46.9   \n",
       "1522  1523  17038           28.2          5       55  18.8  12.2  10.5  65.7   \n",
       "1523  1524  28319           25.4          8       47  13.2   8.2  23.5  38.9   \n",
       "\n",
       "        S5  SCORE  \n",
       "0     96.2  96.40  \n",
       "1     80.5  95.20  \n",
       "2     95.8  94.80  \n",
       "3     79.8  94.80  \n",
       "4     89.3  94.20  \n",
       "...    ...    ...  \n",
       "1519  27.3  14.35  \n",
       "1520  30.4  14.35  \n",
       "1521  17.0  14.35  \n",
       "1522  29.6  14.35  \n",
       "1523  23.1  14.35  \n",
       "\n",
       "[1524 rows x 11 columns]"
      ]
     },
     "execution_count": 2,
     "metadata": {},
     "output_type": "execute_result"
    }
   ],
   "source": [
    "CULTURE"
   ]
  },
  {
   "cell_type": "markdown",
   "id": "c51d44a0",
   "metadata": {},
   "source": [
    "### Q1"
   ]
  },
  {
   "cell_type": "markdown",
   "id": "d0527beb",
   "metadata": {},
   "source": [
    "#### Step 1-1"
   ]
  },
  {
   "cell_type": "code",
   "execution_count": 3,
   "id": "23ab132b",
   "metadata": {
    "scrolled": true
   },
   "outputs": [
    {
     "name": "stdout",
     "output_type": "stream",
     "text": [
      "['NEMP', 'NEMP_PER_HEAD', 'INT_RATIO', 'S1', 'S2', 'S3', 'S4', 'S5', 'SCORE']\n"
     ]
    },
    {
     "data": {
      "text/plain": [
       "[0.7370618875840848,\n",
       " 0.5238290399400145,\n",
       " 1.168639328294814,\n",
       " 0.4905155421227808,\n",
       " 0.7291352271443924,\n",
       " 0.5675360208579083,\n",
       " 0.3065498676138587,\n",
       " 0.47797966957986976,\n",
       " 0.4698529953171055]"
      ]
     },
     "execution_count": 3,
     "metadata": {},
     "output_type": "execute_result"
    }
   ],
   "source": [
    "df4 = CULTURE.copy()\n",
    "\n",
    "VAR241 = df4.columns[1:4].tolist() + df4.columns[5:].tolist()\n",
    "print(VAR241)\n",
    "cv = []\n",
    "for i in range(len(VAR241)):\n",
    "    sd = df4[VAR241[i]].std()\n",
    "    mean = df4[VAR241[i]].mean()\n",
    "    cv.append(sd / mean)\n",
    "cv"
   ]
  },
  {
   "cell_type": "markdown",
   "id": "3fb1c649",
   "metadata": {},
   "source": [
    "#### Step 1-2"
   ]
  },
  {
   "cell_type": "code",
   "execution_count": 4,
   "id": "06ef725a",
   "metadata": {
    "scrolled": true
   },
   "outputs": [
    {
     "name": "stdout",
     "output_type": "stream",
     "text": [
      "['NEMP', 'NEMP_PER_HEAD', 'INT_RATIO', 'S1', 'S2', 'S3', 'S4', 'S5', 'SCORE']\n"
     ]
    },
    {
     "data": {
      "text/plain": [
       "[1.382390192457803,\n",
       " 2.104192820506278,\n",
       " 1.9998139075029493,\n",
       " 2.158611057085938,\n",
       " 2.0900346437886457,\n",
       " 0.1941583021679285,\n",
       " 2.1722158194776,\n",
       " 0.7139848373283906,\n",
       " 1.0320953973736156]"
      ]
     },
     "execution_count": 4,
     "metadata": {},
     "output_type": "execute_result"
    }
   ],
   "source": [
    "from scipy.stats import skew\n",
    "\n",
    "VAR242 = df4.columns[1:4].tolist() + df4.columns[5:].tolist()\n",
    "print(VAR242)\n",
    "sk = []\n",
    "for i in range(len(VAR242)):\n",
    "    sk.append(skew(df4[VAR242[i]]))\n",
    "sk"
   ]
  },
  {
   "cell_type": "markdown",
   "id": "9cb1e0e8",
   "metadata": {},
   "source": [
    "#### Step 1-3"
   ]
  },
  {
   "cell_type": "code",
   "execution_count": 5,
   "id": "e0212437",
   "metadata": {
    "scrolled": false
   },
   "outputs": [
    {
     "name": "stdout",
     "output_type": "stream",
     "text": [
      "['NEMP', 'NEMP_PER_HEAD', 'INT_RATIO', 'S1', 'S2', 'S3', 'S4', 'S5', 'SCORE']\n"
     ]
    },
    {
     "data": {
      "text/plain": [
       "[0.0803963391413352,\n",
       " -0.039742927972600595,\n",
       " 0.5571226792404963,\n",
       " 0.8102424597188804,\n",
       " 0.8612470921614193,\n",
       " 0.8535500298348522,\n",
       " 0.42487147157165583,\n",
       " 0.6341395520101895]"
      ]
     },
     "execution_count": 5,
     "metadata": {},
     "output_type": "execute_result"
    }
   ],
   "source": [
    "VAR243 = df4.columns[1:4].tolist() + df4.columns[5:].tolist()\n",
    "print(VAR243)\n",
    "cor = df4[VAR243].corr()['SCORE'].tolist()[:-1]\n",
    "cor"
   ]
  },
  {
   "cell_type": "markdown",
   "id": "a09167dd",
   "metadata": {},
   "source": [
    "#### Step 1-4"
   ]
  },
  {
   "cell_type": "code",
   "execution_count": 6,
   "id": "ac60030e",
   "metadata": {},
   "outputs": [
    {
     "name": "stdout",
     "output_type": "stream",
     "text": [
      "2.2240447226241615\n",
      "2.224\n"
     ]
    }
   ],
   "source": [
    "res24 = max(cv) + min(sk) + max(cor)\n",
    "print(res24)\n",
    "\n",
    "ans24 = round(res24, 3)\n",
    "print(ans24)"
   ]
  },
  {
   "cell_type": "markdown",
   "id": "a948d91c",
   "metadata": {},
   "source": [
    "### Q2"
   ]
  },
  {
   "cell_type": "markdown",
   "id": "1be9c048",
   "metadata": {},
   "source": [
    "#### Step 2-1"
   ]
  },
  {
   "cell_type": "code",
   "execution_count": 7,
   "id": "c853048e",
   "metadata": {},
   "outputs": [
    {
     "data": {
      "text/plain": [
       "(1466, 11)"
      ]
     },
     "execution_count": 7,
     "metadata": {},
     "output_type": "execute_result"
    }
   ],
   "source": [
    "df5 = CULTURE.copy()\n",
    "\n",
    "df25 = df5[df5['F_RATIO'] != -999]\n",
    "df25.shape"
   ]
  },
  {
   "cell_type": "markdown",
   "id": "2f9a2c96",
   "metadata": {},
   "source": [
    "#### Step 2-2"
   ]
  },
  {
   "cell_type": "code",
   "execution_count": 8,
   "id": "f019f831",
   "metadata": {
    "scrolled": true
   },
   "outputs": [
    {
     "name": "stdout",
     "output_type": "stream",
     "text": [
      "Index(['NEMP', 'NEMP_PER_HEAD', 'INT_RATIO', 'F_RATIO', 'S1', 'S2', 'S3', 'S4',\n",
      "       'S5'],\n",
      "      dtype='object')\n"
     ]
    },
    {
     "data": {
      "text/html": [
       "<div>\n",
       "<style scoped>\n",
       "    .dataframe tbody tr th:only-of-type {\n",
       "        vertical-align: middle;\n",
       "    }\n",
       "\n",
       "    .dataframe tbody tr th {\n",
       "        vertical-align: top;\n",
       "    }\n",
       "\n",
       "    .dataframe thead th {\n",
       "        text-align: right;\n",
       "    }\n",
       "</style>\n",
       "<table border=\"1\" class=\"dataframe\">\n",
       "  <thead>\n",
       "    <tr style=\"text-align: right;\">\n",
       "      <th></th>\n",
       "      <th>NEMP_S</th>\n",
       "      <th>NEMP_PER_HEAD_S</th>\n",
       "      <th>INT_RATIO_S</th>\n",
       "      <th>F_RATIO_S</th>\n",
       "      <th>S1_S</th>\n",
       "      <th>S2_S</th>\n",
       "      <th>S3_S</th>\n",
       "      <th>S4_S</th>\n",
       "      <th>S5_S</th>\n",
       "    </tr>\n",
       "  </thead>\n",
       "  <tbody>\n",
       "    <tr>\n",
       "      <td>0</td>\n",
       "      <td>0.045785</td>\n",
       "      <td>-0.813352</td>\n",
       "      <td>2.714871</td>\n",
       "      <td>-0.224625</td>\n",
       "      <td>5.160761</td>\n",
       "      <td>4.844856</td>\n",
       "      <td>1.853440</td>\n",
       "      <td>2.173504</td>\n",
       "      <td>2.290136</td>\n",
       "    </tr>\n",
       "    <tr>\n",
       "      <td>1</td>\n",
       "      <td>0.106671</td>\n",
       "      <td>-0.917010</td>\n",
       "      <td>1.271858</td>\n",
       "      <td>-0.066649</td>\n",
       "      <td>5.356333</td>\n",
       "      <td>4.801227</td>\n",
       "      <td>1.864341</td>\n",
       "      <td>0.291133</td>\n",
       "      <td>1.574647</td>\n",
       "    </tr>\n",
       "    <tr>\n",
       "      <td>2</td>\n",
       "      <td>-0.005724</td>\n",
       "      <td>-0.740791</td>\n",
       "      <td>2.460222</td>\n",
       "      <td>-0.303612</td>\n",
       "      <td>5.051240</td>\n",
       "      <td>4.832391</td>\n",
       "      <td>1.780768</td>\n",
       "      <td>0.639446</td>\n",
       "      <td>2.271907</td>\n",
       "    </tr>\n",
       "    <tr>\n",
       "      <td>3</td>\n",
       "      <td>-0.271258</td>\n",
       "      <td>-1.176157</td>\n",
       "      <td>1.186974</td>\n",
       "      <td>-0.382600</td>\n",
       "      <td>5.309396</td>\n",
       "      <td>4.657875</td>\n",
       "      <td>1.882509</td>\n",
       "      <td>1.439824</td>\n",
       "      <td>1.542746</td>\n",
       "    </tr>\n",
       "    <tr>\n",
       "      <td>4</td>\n",
       "      <td>-0.584867</td>\n",
       "      <td>-1.062132</td>\n",
       "      <td>1.950923</td>\n",
       "      <td>-0.856527</td>\n",
       "      <td>5.035594</td>\n",
       "      <td>4.464661</td>\n",
       "      <td>1.882509</td>\n",
       "      <td>3.359250</td>\n",
       "      <td>1.975685</td>\n",
       "    </tr>\n",
       "    <tr>\n",
       "      <td>...</td>\n",
       "      <td>...</td>\n",
       "      <td>...</td>\n",
       "      <td>...</td>\n",
       "      <td>...</td>\n",
       "      <td>...</td>\n",
       "      <td>...</td>\n",
       "      <td>...</td>\n",
       "      <td>...</td>\n",
       "      <td>...</td>\n",
       "    </tr>\n",
       "    <tr>\n",
       "      <td>1461</td>\n",
       "      <td>0.223556</td>\n",
       "      <td>0.192136</td>\n",
       "      <td>-0.340922</td>\n",
       "      <td>-1.251465</td>\n",
       "      <td>-0.659483</td>\n",
       "      <td>-0.371922</td>\n",
       "      <td>-1.202441</td>\n",
       "      <td>-0.005303</td>\n",
       "      <td>-0.849813</td>\n",
       "    </tr>\n",
       "    <tr>\n",
       "      <td>1462</td>\n",
       "      <td>-0.630498</td>\n",
       "      <td>-0.761523</td>\n",
       "      <td>-0.256039</td>\n",
       "      <td>-1.014502</td>\n",
       "      <td>-0.393504</td>\n",
       "      <td>-0.602532</td>\n",
       "      <td>-1.238777</td>\n",
       "      <td>-0.131288</td>\n",
       "      <td>-0.708538</td>\n",
       "    </tr>\n",
       "    <tr>\n",
       "      <td>1463</td>\n",
       "      <td>1.213580</td>\n",
       "      <td>-0.543840</td>\n",
       "      <td>-0.765338</td>\n",
       "      <td>-0.935514</td>\n",
       "      <td>-0.714243</td>\n",
       "      <td>-0.689790</td>\n",
       "      <td>-1.078898</td>\n",
       "      <td>0.098450</td>\n",
       "      <td>-1.319211</td>\n",
       "    </tr>\n",
       "    <tr>\n",
       "      <td>1464</td>\n",
       "      <td>-0.213542</td>\n",
       "      <td>1.011038</td>\n",
       "      <td>-0.425805</td>\n",
       "      <td>0.328289</td>\n",
       "      <td>-0.589077</td>\n",
       "      <td>-0.608765</td>\n",
       "      <td>-1.362321</td>\n",
       "      <td>1.491701</td>\n",
       "      <td>-0.744996</td>\n",
       "    </tr>\n",
       "    <tr>\n",
       "      <td>1465</td>\n",
       "      <td>0.531420</td>\n",
       "      <td>0.720794</td>\n",
       "      <td>-0.171156</td>\n",
       "      <td>-0.303612</td>\n",
       "      <td>-1.027160</td>\n",
       "      <td>-0.858073</td>\n",
       "      <td>-0.889949</td>\n",
       "      <td>-0.494423</td>\n",
       "      <td>-1.041218</td>\n",
       "    </tr>\n",
       "  </tbody>\n",
       "</table>\n",
       "<p>1466 rows × 9 columns</p>\n",
       "</div>"
      ],
      "text/plain": [
       "        NEMP_S  NEMP_PER_HEAD_S  INT_RATIO_S  F_RATIO_S      S1_S      S2_S  \\\n",
       "0     0.045785        -0.813352     2.714871  -0.224625  5.160761  4.844856   \n",
       "1     0.106671        -0.917010     1.271858  -0.066649  5.356333  4.801227   \n",
       "2    -0.005724        -0.740791     2.460222  -0.303612  5.051240  4.832391   \n",
       "3    -0.271258        -1.176157     1.186974  -0.382600  5.309396  4.657875   \n",
       "4    -0.584867        -1.062132     1.950923  -0.856527  5.035594  4.464661   \n",
       "...        ...              ...          ...        ...       ...       ...   \n",
       "1461  0.223556         0.192136    -0.340922  -1.251465 -0.659483 -0.371922   \n",
       "1462 -0.630498        -0.761523    -0.256039  -1.014502 -0.393504 -0.602532   \n",
       "1463  1.213580        -0.543840    -0.765338  -0.935514 -0.714243 -0.689790   \n",
       "1464 -0.213542         1.011038    -0.425805   0.328289 -0.589077 -0.608765   \n",
       "1465  0.531420         0.720794    -0.171156  -0.303612 -1.027160 -0.858073   \n",
       "\n",
       "          S3_S      S4_S      S5_S  \n",
       "0     1.853440  2.173504  2.290136  \n",
       "1     1.864341  0.291133  1.574647  \n",
       "2     1.780768  0.639446  2.271907  \n",
       "3     1.882509  1.439824  1.542746  \n",
       "4     1.882509  3.359250  1.975685  \n",
       "...        ...       ...       ...  \n",
       "1461 -1.202441 -0.005303 -0.849813  \n",
       "1462 -1.238777 -0.131288 -0.708538  \n",
       "1463 -1.078898  0.098450 -1.319211  \n",
       "1464 -1.362321  1.491701 -0.744996  \n",
       "1465 -0.889949 -0.494423 -1.041218  \n",
       "\n",
       "[1466 rows x 9 columns]"
      ]
     },
     "execution_count": 8,
     "metadata": {},
     "output_type": "execute_result"
    }
   ],
   "source": [
    "from sklearn.preprocessing import StandardScaler\n",
    "\n",
    "VAR25 = df5.columns[1:-1]\n",
    "print(VAR25)\n",
    "VAR25s = [i+'_S' for i in VAR25]\n",
    "df252 = pd.DataFrame(StandardScaler().fit_transform(df25[VAR25]),columns=VAR25s)\n",
    "df252"
   ]
  },
  {
   "cell_type": "markdown",
   "id": "e828025b",
   "metadata": {},
   "source": [
    "#### Step 2-3, 2-4"
   ]
  },
  {
   "cell_type": "code",
   "execution_count": 9,
   "id": "4900427a",
   "metadata": {},
   "outputs": [
    {
     "name": "stdout",
     "output_type": "stream",
     "text": [
      "2 : 0.3140819970740654\n",
      "3 : 0.2210919851398328\n",
      "4 : 0.18247275828119527\n",
      "max: clst2 \n",
      "\n",
      "clst2\n",
      "0    1087\n",
      "1     379\n",
      "Name: clst2, dtype: int64\n"
     ]
    }
   ],
   "source": [
    "from sklearn.cluster import KMeans\n",
    "from sklearn.metrics import silhouette_score \n",
    "\n",
    "ks = [2,3,4]\n",
    "max_sil = 0\n",
    "max_clst = ''\n",
    "for k in ks:\n",
    "    df252['clst'+str(k)] = KMeans(n_clusters=k, random_state=1234).fit_predict(df252[VAR25s])\n",
    "    temp_sil = silhouette_score(df252[VAR25s], df252['clst'+str(k)])\n",
    "    print(k,':',temp_sil)\n",
    "    if temp_sil > max_sil:\n",
    "        max_sil = temp_sil\n",
    "        max_clst = 'clst'+str(k)\n",
    "print('max:',max_clst,'\\n')\n",
    "\n",
    "print(df252.groupby(max_clst)[max_clst].count())"
   ]
  },
  {
   "cell_type": "code",
   "execution_count": 10,
   "id": "9bd0e326",
   "metadata": {},
   "outputs": [
    {
     "name": "stdout",
     "output_type": "stream",
     "text": [
      "1087\n"
     ]
    }
   ],
   "source": [
    "ans25 = df252.groupby(max_clst)[max_clst].count().max()\n",
    "print(ans25)"
   ]
  },
  {
   "cell_type": "markdown",
   "id": "5e719e81",
   "metadata": {},
   "source": [
    "### Q3"
   ]
  },
  {
   "cell_type": "markdown",
   "id": "90f3b704",
   "metadata": {},
   "source": [
    "#### Step 3-1"
   ]
  },
  {
   "cell_type": "code",
   "execution_count": 11,
   "id": "b6960ae6",
   "metadata": {},
   "outputs": [
    {
     "data": {
      "text/plain": [
       "<AxesSubplot:>"
      ]
     },
     "execution_count": 11,
     "metadata": {},
     "output_type": "execute_result"
    },
    {
     "data": {
      "image/png": "[encoded data removed]",
      "text/plain": [
       "<Figure size 640x480 with 1 Axes>"
      ]
     },
     "metadata": {},
     "output_type": "display_data"
    }
   ],
   "source": [
    "df6 = CULTURE.copy()\n",
    "\n",
    "df6['F_RATIO'].hist()\n",
    "fratio_re = df6[df6['F_RATIO'] != -999]['F_RATIO'].mean()\n",
    "df6['F_RATIO'] = df6['F_RATIO'].apply(lambda x: fratio_re if x == -999 else x)\n",
    "df6['F_RATIO'].hist()"
   ]
  },
  {
   "cell_type": "markdown",
   "id": "d5043981",
   "metadata": {},
   "source": [
    "#### Step 3-2"
   ]
  },
  {
   "cell_type": "code",
   "execution_count": 12,
   "id": "f4ac7eca",
   "metadata": {},
   "outputs": [
    {
     "name": "stdout",
     "output_type": "stream",
     "text": [
      "(1220, 11) (304, 11)\n"
     ]
    }
   ],
   "source": [
    "TRAIN26 = df6[df6['C_ID'] % 5 != 0]\n",
    "TEST26 = df6[df6['C_ID'] % 5 == 0]\n",
    "print(TRAIN26.shape, TEST26.shape)"
   ]
  },
  {
   "cell_type": "markdown",
   "id": "426c4c0f",
   "metadata": {},
   "source": [
    "#### Step 3-3"
   ]
  },
  {
   "cell_type": "code",
   "execution_count": 13,
   "id": "c2177c7b",
   "metadata": {},
   "outputs": [
    {
     "name": "stdout",
     "output_type": "stream",
     "text": [
      "Index(['NEMP', 'NEMP_PER_HEAD', 'INT_RATIO', 'F_RATIO', 'S1', 'S2', 'S3', 'S4',\n",
      "       'S5'],\n",
      "      dtype='object')\n"
     ]
    }
   ],
   "source": [
    "from sklearn.linear_model import LinearRegression\n",
    "\n",
    "VAR26 = TRAIN26.columns[1:-1]\n",
    "print(VAR26)\n",
    "LR = LinearRegression().fit(TRAIN26[VAR26], TRAIN26['SCORE'])"
   ]
  },
  {
   "cell_type": "markdown",
   "id": "0bce2b8d",
   "metadata": {},
   "source": [
    "#### Step 3-4"
   ]
  },
  {
   "cell_type": "code",
   "execution_count": 14,
   "id": "fb2e8371",
   "metadata": {},
   "outputs": [
    {
     "name": "stdout",
     "output_type": "stream",
     "text": [
      "[ 3.43113816e-07 -4.20879496e-04 -3.89422707e-03 -4.23525525e-03\n",
      "  2.93774952e-01  3.04243435e-01  3.01783872e-01  2.31424662e-02\n",
      "  7.97170950e-02]\n",
      "0.3042434348882814\n"
     ]
    }
   ],
   "source": [
    "coef = LR.coef_\n",
    "print(coef)\n",
    "NUM26_A = abs(coef).max()\n",
    "print(NUM26_A)"
   ]
  },
  {
   "cell_type": "markdown",
   "id": "5d478750",
   "metadata": {},
   "source": [
    "#### Step 3-5"
   ]
  },
  {
   "cell_type": "code",
   "execution_count": 15,
   "id": "648ee367",
   "metadata": {
    "scrolled": true
   },
   "outputs": [
    {
     "name": "stdout",
     "output_type": "stream",
     "text": [
      "5.233174583714299\n"
     ]
    }
   ],
   "source": [
    "pred6 = LR.predict(TEST26[VAR26])\n",
    "MAPE = abs((pred6 - TEST26['SCORE']) / TEST26['SCORE']).mean() * 100\n",
    "NUM26_B = MAPE\n",
    "print(NUM26_B)"
   ]
  },
  {
   "cell_type": "code",
   "execution_count": 16,
   "id": "15469d5f",
   "metadata": {
    "scrolled": true
   },
   "outputs": [
    {
     "name": "stdout",
     "output_type": "stream",
     "text": [
      "5.5374180186025805\n",
      "5.5374\n"
     ]
    }
   ],
   "source": [
    "res26 = NUM26_A + NUM26_B\n",
    "print(res26)\n",
    "\n",
    "ans26 = round(res26, 4)\n",
    "print(ans26)"
   ]
  },
  {
   "cell_type": "markdown",
   "id": "ebd6f342",
   "metadata": {},
   "source": [
    "## Summary"
   ]
  },
  {
   "cell_type": "code",
   "execution_count": 17,
   "id": "4f67f848",
   "metadata": {},
   "outputs": [
    {
     "name": "stdout",
     "output_type": "stream",
     "text": [
      "2.224\n",
      "1087\n",
      "5.5374\n"
     ]
    }
   ],
   "source": [
    "print(ans24)\n",
    "print(ans25)\n",
    "print(ans26)"
   ]
  },
  {
   "cell_type": "code",
   "execution_count": null,
   "id": "e19f23dc",
   "metadata": {},
   "outputs": [],
   "source": []
  }
 ],
 "metadata": {
  "kernelspec": {
   "display_name": "Python 3 (ipykernel)",
   "language": "python",
   "name": "python3"
  },
  "language_info": {
   "codemirror_mode": {
    "name": "ipython",
    "version": 3
   },
   "file_extension": ".py",
   "mimetype": "text/x-python",
   "name": "python",
   "nbconvert_exporter": "python",
   "pygments_lexer": "ipython3",
   "version": "3.7.4"
  }
 },
 "nbformat": 4,
 "nbformat_minor": 5
}
