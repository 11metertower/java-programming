{
 "cells": [
  {
   "cell_type": "code",
   "execution_count": 2,
   "id": "669c050c",
   "metadata": {},
   "outputs": [],
   "source": [
    "import numpy as np\n",
    "import pandas as pd"
   ]
  },
  {
   "cell_type": "code",
   "execution_count": 3,
   "id": "201da3bf",
   "metadata": {},
   "outputs": [
    {
     "name": "stdout",
     "output_type": "stream",
     "text": [
      "<class 'pandas.core.frame.DataFrame'>\n",
      "RangeIndex: 1541 entries, 0 to 1540\n",
      "Data columns (total 13 columns):\n",
      "PROD_ID    1541 non-null int64\n",
      "P01        1541 non-null float64\n",
      "P02        1541 non-null float64\n",
      "P03        1541 non-null float64\n",
      "P04        1541 non-null float64\n",
      "P05        1541 non-null float64\n",
      "P06        1541 non-null float64\n",
      "P07        1541 non-null float64\n",
      "P08        1541 non-null float64\n",
      "P09        1541 non-null float64\n",
      "P10        1541 non-null float64\n",
      "P11        1541 non-null float64\n",
      "DEFECT     1541 non-null int64\n",
      "dtypes: float64(11), int64(2)\n",
      "memory usage: 156.6 KB\n"
     ]
    }
   ],
   "source": [
    "raw01 = pd.read_csv('lv2-2409.csv')\n",
    "raw01.info()"
   ]
  },
  {
   "cell_type": "code",
   "execution_count": 4,
   "id": "4eeeb908",
   "metadata": {},
   "outputs": [],
   "source": [
    "list_fts = ['P01','P02','P03','P04','P05','P06','P07','P08','P09','P10','P11']"
   ]
  },
  {
   "cell_type": "markdown",
   "id": "8ede28d1",
   "metadata": {},
   "source": [
    "# 1"
   ]
  },
  {
   "cell_type": "code",
   "execution_count": 5,
   "id": "e1d7f4c0",
   "metadata": {},
   "outputs": [],
   "source": [
    "df210 = raw01.copy()"
   ]
  },
  {
   "cell_type": "markdown",
   "id": "2d36411a",
   "metadata": {},
   "source": [
    "1-1"
   ]
  },
  {
   "cell_type": "code",
   "execution_count": 6,
   "id": "fa341a38",
   "metadata": {},
   "outputs": [],
   "source": [
    "list_diff = []\n",
    "for col in list_fts:\n",
    "    seq00 = df210.loc[df210['DEFECT']==0, col].copy()\n",
    "    seq01 = df210.loc[df210['DEFECT']==1, col].copy()\n",
    "    Q01 = seq00.quantile(0.25)\n",
    "    Q02 = seq00.quantile(0.5)\n",
    "    Q03 = seq00.quantile(0.75)\n",
    "    Q11 = seq01.quantile(0.25)\n",
    "    Q12 = seq01.quantile(0.5)\n",
    "    Q13 = seq01.quantile(0.75)\n",
    "    diff = np.abs(Q01-Q11) + np.abs(Q02-Q12) + np.abs(Q03-Q13)\n",
    "    list_diff.append(diff)"
   ]
  },
  {
   "cell_type": "markdown",
   "id": "9ee34ba9",
   "metadata": {},
   "source": [
    "1-2"
   ]
  },
  {
   "cell_type": "code",
   "execution_count": 7,
   "id": "84197713",
   "metadata": {},
   "outputs": [
    {
     "name": "stdout",
     "output_type": "stream",
     "text": [
      "39792.254053404155\n",
      "ans1 :  39792\n"
     ]
    }
   ],
   "source": [
    "res21 = np.max(list_diff)\n",
    "ans21 = int(round(res21, 0))\n",
    "print(res21)\n",
    "print('ans1 : ', ans21)"
   ]
  },
  {
   "cell_type": "markdown",
   "id": "7b44bd68",
   "metadata": {},
   "source": [
    "# 2"
   ]
  },
  {
   "cell_type": "code",
   "execution_count": 8,
   "id": "7a10316a",
   "metadata": {},
   "outputs": [],
   "source": [
    "df220 = raw01.copy()"
   ]
  },
  {
   "cell_type": "markdown",
   "id": "9beea694",
   "metadata": {},
   "source": [
    "2-1"
   ]
  },
  {
   "cell_type": "code",
   "execution_count": 9,
   "id": "228b55c8",
   "metadata": {},
   "outputs": [],
   "source": [
    "for col in list_fts:\n",
    "    max00 = df220[col].max()\n",
    "    min00 = df220[col].min()\n",
    "    df220[col] = (df220[col]-min00)/(max00-min00)"
   ]
  },
  {
   "cell_type": "markdown",
   "id": "254c55ff",
   "metadata": {},
   "source": [
    "2-2"
   ]
  },
  {
   "cell_type": "code",
   "execution_count": 10,
   "id": "60e57ebd",
   "metadata": {},
   "outputs": [
    {
     "data": {
      "text/plain": [
       "['P05', 'P11']"
      ]
     },
     "execution_count": 10,
     "metadata": {},
     "output_type": "execute_result"
    }
   ],
   "source": [
    "VAR2 = list(df220.loc[:, list_fts].std().sort_values(ascending=False)[:2].index)\n",
    "VAR2"
   ]
  },
  {
   "cell_type": "markdown",
   "id": "8500227d",
   "metadata": {},
   "source": [
    "2-3"
   ]
  },
  {
   "cell_type": "code",
   "execution_count": 11,
   "id": "1707d257",
   "metadata": {},
   "outputs": [
    {
     "name": "stdout",
     "output_type": "stream",
     "text": [
      "-0.12265890607171809\n",
      "0.12265890607171809\n"
     ]
    }
   ],
   "source": [
    "cor_val = df220.loc[:, VAR2].corr().iloc[0,1]\n",
    "cor_abs = np.abs(cor_val)\n",
    "print(cor_val)\n",
    "print(cor_abs)"
   ]
  },
  {
   "cell_type": "markdown",
   "id": "9af50da7",
   "metadata": {},
   "source": [
    "2-4"
   ]
  },
  {
   "cell_type": "code",
   "execution_count": 12,
   "id": "c1650689",
   "metadata": {},
   "outputs": [
    {
     "name": "stdout",
     "output_type": "stream",
     "text": [
      "0.12265890607171809\n",
      "ans2 :  0.123\n"
     ]
    }
   ],
   "source": [
    "res22 = cor_abs\n",
    "ans22 = round(res22, 3)\n",
    "print(res22)\n",
    "print('ans2 : ', ans22)"
   ]
  },
  {
   "cell_type": "markdown",
   "id": "9b603943",
   "metadata": {},
   "source": [
    "# 3"
   ]
  },
  {
   "cell_type": "code",
   "execution_count": 13,
   "id": "47a46ac3",
   "metadata": {},
   "outputs": [],
   "source": [
    "df231 = raw01.copy()"
   ]
  },
  {
   "cell_type": "markdown",
   "id": "88a7a75c",
   "metadata": {},
   "source": [
    "3-1"
   ]
  },
  {
   "cell_type": "code",
   "execution_count": 14,
   "id": "e0f1733a",
   "metadata": {},
   "outputs": [
    {
     "data": {
      "text/html": [
       "<div>\n",
       "<style scoped>\n",
       "    .dataframe tbody tr th:only-of-type {\n",
       "        vertical-align: middle;\n",
       "    }\n",
       "\n",
       "    .dataframe tbody tr th {\n",
       "        vertical-align: top;\n",
       "    }\n",
       "\n",
       "    .dataframe thead th {\n",
       "        text-align: right;\n",
       "    }\n",
       "</style>\n",
       "<table border=\"1\" class=\"dataframe\">\n",
       "  <thead>\n",
       "    <tr style=\"text-align: right;\">\n",
       "      <th></th>\n",
       "      <th>PROD_ID</th>\n",
       "      <th>DEFECT</th>\n",
       "      <th>P01</th>\n",
       "      <th>P02</th>\n",
       "      <th>P03</th>\n",
       "      <th>P04</th>\n",
       "      <th>P05</th>\n",
       "      <th>P06</th>\n",
       "      <th>P07</th>\n",
       "      <th>P08</th>\n",
       "      <th>P09</th>\n",
       "      <th>P10</th>\n",
       "      <th>P11</th>\n",
       "    </tr>\n",
       "  </thead>\n",
       "  <tbody>\n",
       "    <tr>\n",
       "      <td>0</td>\n",
       "      <td>1</td>\n",
       "      <td>1</td>\n",
       "      <td>-0.345026</td>\n",
       "      <td>-0.128324</td>\n",
       "      <td>-0.128324</td>\n",
       "      <td>0.155865</td>\n",
       "      <td>1.379296</td>\n",
       "      <td>-0.706791</td>\n",
       "      <td>-0.402089</td>\n",
       "      <td>-0.127122</td>\n",
       "      <td>-0.279032</td>\n",
       "      <td>0.375930</td>\n",
       "      <td>-2.025131</td>\n",
       "    </tr>\n",
       "    <tr>\n",
       "      <td>1</td>\n",
       "      <td>2</td>\n",
       "      <td>1</td>\n",
       "      <td>-1.231388</td>\n",
       "      <td>1.165291</td>\n",
       "      <td>1.165291</td>\n",
       "      <td>1.734877</td>\n",
       "      <td>-1.334561</td>\n",
       "      <td>-0.410250</td>\n",
       "      <td>-0.556946</td>\n",
       "      <td>-0.066122</td>\n",
       "      <td>-0.344642</td>\n",
       "      <td>0.455600</td>\n",
       "      <td>-2.077972</td>\n",
       "    </tr>\n",
       "    <tr>\n",
       "      <td>2</td>\n",
       "      <td>3</td>\n",
       "      <td>0</td>\n",
       "      <td>0.233036</td>\n",
       "      <td>-0.470819</td>\n",
       "      <td>-0.470819</td>\n",
       "      <td>-1.319912</td>\n",
       "      <td>-0.661792</td>\n",
       "      <td>1.098538</td>\n",
       "      <td>-0.164965</td>\n",
       "      <td>-0.081874</td>\n",
       "      <td>-0.328063</td>\n",
       "      <td>-0.499521</td>\n",
       "      <td>1.617660</td>\n",
       "    </tr>\n",
       "    <tr>\n",
       "      <td>3</td>\n",
       "      <td>4</td>\n",
       "      <td>1</td>\n",
       "      <td>-1.000163</td>\n",
       "      <td>0.687217</td>\n",
       "      <td>0.687217</td>\n",
       "      <td>0.919853</td>\n",
       "      <td>1.170809</td>\n",
       "      <td>-0.424050</td>\n",
       "      <td>-0.271429</td>\n",
       "      <td>-0.016537</td>\n",
       "      <td>-0.395260</td>\n",
       "      <td>-0.122011</td>\n",
       "      <td>0.409934</td>\n",
       "    </tr>\n",
       "    <tr>\n",
       "      <td>4</td>\n",
       "      <td>5</td>\n",
       "      <td>0</td>\n",
       "      <td>1.157935</td>\n",
       "      <td>-0.700994</td>\n",
       "      <td>-0.700994</td>\n",
       "      <td>0.510636</td>\n",
       "      <td>-0.651662</td>\n",
       "      <td>-0.048069</td>\n",
       "      <td>0.733527</td>\n",
       "      <td>-0.785159</td>\n",
       "      <td>0.776636</td>\n",
       "      <td>-0.981670</td>\n",
       "      <td>0.507530</td>\n",
       "    </tr>\n",
       "    <tr>\n",
       "      <td>...</td>\n",
       "      <td>...</td>\n",
       "      <td>...</td>\n",
       "      <td>...</td>\n",
       "      <td>...</td>\n",
       "      <td>...</td>\n",
       "      <td>...</td>\n",
       "      <td>...</td>\n",
       "      <td>...</td>\n",
       "      <td>...</td>\n",
       "      <td>...</td>\n",
       "      <td>...</td>\n",
       "      <td>...</td>\n",
       "      <td>...</td>\n",
       "    </tr>\n",
       "    <tr>\n",
       "      <td>1536</td>\n",
       "      <td>1537</td>\n",
       "      <td>1</td>\n",
       "      <td>-1.539688</td>\n",
       "      <td>2.047366</td>\n",
       "      <td>2.047366</td>\n",
       "      <td>1.248581</td>\n",
       "      <td>0.728406</td>\n",
       "      <td>-0.478281</td>\n",
       "      <td>-1.425596</td>\n",
       "      <td>1.717534</td>\n",
       "      <td>-1.337761</td>\n",
       "      <td>1.786116</td>\n",
       "      <td>0.313194</td>\n",
       "    </tr>\n",
       "    <tr>\n",
       "      <td>1537</td>\n",
       "      <td>1538</td>\n",
       "      <td>1</td>\n",
       "      <td>-0.923088</td>\n",
       "      <td>0.555043</td>\n",
       "      <td>0.555043</td>\n",
       "      <td>2.680705</td>\n",
       "      <td>0.810400</td>\n",
       "      <td>-0.560779</td>\n",
       "      <td>-1.907103</td>\n",
       "      <td>2.726262</td>\n",
       "      <td>-1.563691</td>\n",
       "      <td>3.104692</td>\n",
       "      <td>-0.564929</td>\n",
       "    </tr>\n",
       "    <tr>\n",
       "      <td>1538</td>\n",
       "      <td>1539</td>\n",
       "      <td>1</td>\n",
       "      <td>-1.038701</td>\n",
       "      <td>0.758012</td>\n",
       "      <td>0.758012</td>\n",
       "      <td>0.050066</td>\n",
       "      <td>0.614619</td>\n",
       "      <td>-0.452795</td>\n",
       "      <td>-0.119798</td>\n",
       "      <td>-0.203511</td>\n",
       "      <td>-0.191218</td>\n",
       "      <td>-0.082580</td>\n",
       "      <td>-0.545577</td>\n",
       "    </tr>\n",
       "    <tr>\n",
       "      <td>1539</td>\n",
       "      <td>1540</td>\n",
       "      <td>0</td>\n",
       "      <td>-0.846013</td>\n",
       "      <td>0.434499</td>\n",
       "      <td>0.434499</td>\n",
       "      <td>0.687610</td>\n",
       "      <td>1.616511</td>\n",
       "      <td>2.540728</td>\n",
       "      <td>0.733527</td>\n",
       "      <td>-0.753410</td>\n",
       "      <td>0.704971</td>\n",
       "      <td>-0.760670</td>\n",
       "      <td>-0.227307</td>\n",
       "    </tr>\n",
       "    <tr>\n",
       "      <td>1540</td>\n",
       "      <td>1541</td>\n",
       "      <td>1</td>\n",
       "      <td>-0.075264</td>\n",
       "      <td>-0.317532</td>\n",
       "      <td>-0.317532</td>\n",
       "      <td>2.335863</td>\n",
       "      <td>1.139183</td>\n",
       "      <td>-0.191723</td>\n",
       "      <td>-1.710306</td>\n",
       "      <td>2.296598</td>\n",
       "      <td>-1.481292</td>\n",
       "      <td>2.616069</td>\n",
       "      <td>-0.478583</td>\n",
       "    </tr>\n",
       "  </tbody>\n",
       "</table>\n",
       "<p>1541 rows × 13 columns</p>\n",
       "</div>"
      ],
      "text/plain": [
       "      PROD_ID  DEFECT       P01       P02       P03       P04       P05  \\\n",
       "0           1       1 -0.345026 -0.128324 -0.128324  0.155865  1.379296   \n",
       "1           2       1 -1.231388  1.165291  1.165291  1.734877 -1.334561   \n",
       "2           3       0  0.233036 -0.470819 -0.470819 -1.319912 -0.661792   \n",
       "3           4       1 -1.000163  0.687217  0.687217  0.919853  1.170809   \n",
       "4           5       0  1.157935 -0.700994 -0.700994  0.510636 -0.651662   \n",
       "...       ...     ...       ...       ...       ...       ...       ...   \n",
       "1536     1537       1 -1.539688  2.047366  2.047366  1.248581  0.728406   \n",
       "1537     1538       1 -0.923088  0.555043  0.555043  2.680705  0.810400   \n",
       "1538     1539       1 -1.038701  0.758012  0.758012  0.050066  0.614619   \n",
       "1539     1540       0 -0.846013  0.434499  0.434499  0.687610  1.616511   \n",
       "1540     1541       1 -0.075264 -0.317532 -0.317532  2.335863  1.139183   \n",
       "\n",
       "           P06       P07       P08       P09       P10       P11  \n",
       "0    -0.706791 -0.402089 -0.127122 -0.279032  0.375930 -2.025131  \n",
       "1    -0.410250 -0.556946 -0.066122 -0.344642  0.455600 -2.077972  \n",
       "2     1.098538 -0.164965 -0.081874 -0.328063 -0.499521  1.617660  \n",
       "3    -0.424050 -0.271429 -0.016537 -0.395260 -0.122011  0.409934  \n",
       "4    -0.048069  0.733527 -0.785159  0.776636 -0.981670  0.507530  \n",
       "...        ...       ...       ...       ...       ...       ...  \n",
       "1536 -0.478281 -1.425596  1.717534 -1.337761  1.786116  0.313194  \n",
       "1537 -0.560779 -1.907103  2.726262 -1.563691  3.104692 -0.564929  \n",
       "1538 -0.452795 -0.119798 -0.203511 -0.191218 -0.082580 -0.545577  \n",
       "1539  2.540728  0.733527 -0.753410  0.704971 -0.760670 -0.227307  \n",
       "1540 -0.191723 -1.710306  2.296598 -1.481292  2.616069 -0.478583  \n",
       "\n",
       "[1541 rows x 13 columns]"
      ]
     },
     "execution_count": 14,
     "metadata": {},
     "output_type": "execute_result"
    }
   ],
   "source": [
    "from sklearn.preprocessing import StandardScaler\n",
    "scl00 = StandardScaler()\n",
    "scl00.fit(df231.loc[:, list_fts])\n",
    "df_tmp = pd.DataFrame(scl00.transform(df231.loc[:, list_fts]), columns=list_fts)\n",
    "df_tmp.index = df231.index\n",
    "df232 = pd.concat([df231.loc[:, ['PROD_ID','DEFECT']], df_tmp], axis=1)\n",
    "df232"
   ]
  },
  {
   "cell_type": "markdown",
   "id": "f956fde9",
   "metadata": {},
   "source": [
    "3-2"
   ]
  },
  {
   "cell_type": "code",
   "execution_count": 15,
   "id": "65e9e61f",
   "metadata": {},
   "outputs": [
    {
     "name": "stdout",
     "output_type": "stream",
     "text": [
      "(1233, 13) (308, 13)\n"
     ]
    }
   ],
   "source": [
    "train23 = df232[df232['PROD_ID']%5!=0].copy()\n",
    "test23 = df232[df232['PROD_ID']%5 == 0].copy()\n",
    "print(train23.shape, test23.shape)"
   ]
  },
  {
   "cell_type": "markdown",
   "id": "f23e8311",
   "metadata": {},
   "source": [
    "3-3, 3-4"
   ]
  },
  {
   "cell_type": "code",
   "execution_count": 16,
   "id": "54e1f2ef",
   "metadata": {},
   "outputs": [
    {
     "data": {
      "text/plain": [
       "[0.8993506493506493, 0.9090909090909091, 0.9025974025974026]"
      ]
     },
     "execution_count": 16,
     "metadata": {},
     "output_type": "execute_result"
    }
   ],
   "source": [
    "from sklearn.neighbors import KNeighborsClassifier\n",
    "list_acc = []\n",
    "for k_ in [3, 5, 7]:\n",
    "    knn00 = KNeighborsClassifier(metric = 'euclidean', n_neighbors=k_)\n",
    "    knn00.fit(train23.loc[:, list_fts], train23['DEFECT'])\n",
    "    arr_pred = knn00.predict(test23.loc[:, list_fts])\n",
    "    arr_act = np.array(test23['DEFECT'])\n",
    "    acc = np.sum(arr_pred==arr_act)/arr_pred.shape[0]\n",
    "    list_acc.append(acc)\n",
    "list_acc"
   ]
  },
  {
   "cell_type": "markdown",
   "id": "7bef6332",
   "metadata": {},
   "source": [
    "3-5"
   ]
  },
  {
   "cell_type": "code",
   "execution_count": 17,
   "id": "60d96b3c",
   "metadata": {},
   "outputs": [
    {
     "name": "stdout",
     "output_type": "stream",
     "text": [
      "0.9036796536796537\n",
      "ans3 :  0.904\n"
     ]
    }
   ],
   "source": [
    "res23 = np.mean(list_acc)\n",
    "ans23 = round(res23, 3)\n",
    "print(res23)\n",
    "print('ans3 : ', ans23)"
   ]
  },
  {
   "cell_type": "markdown",
   "id": "fb169bed",
   "metadata": {},
   "source": [
    "# summary"
   ]
  },
  {
   "cell_type": "code",
   "execution_count": 18,
   "id": "1b156428",
   "metadata": {},
   "outputs": [
    {
     "name": "stdout",
     "output_type": "stream",
     "text": [
      "ans1 :  39792\n",
      "ans2 :  0.123\n",
      "ans3 :  0.904\n"
     ]
    }
   ],
   "source": [
    "print('ans1 : ', ans21)\n",
    "print('ans2 : ', ans22)\n",
    "print('ans3 : ', ans23)"
   ]
  },
  {
   "cell_type": "code",
   "execution_count": null,
   "id": "d4b26470",
   "metadata": {},
   "outputs": [],
   "source": []
  }
 ],
 "metadata": {
  "kernelspec": {
   "display_name": "Python 3 (ipykernel)",
   "language": "python",
   "name": "python3"
  },
  "language_info": {
   "codemirror_mode": {
    "name": "ipython",
    "version": 3
   },
   "file_extension": ".py",
   "mimetype": "text/x-python",
   "name": "python",
   "nbconvert_exporter": "python",
   "pygments_lexer": "ipython3",
   "version": "3.7.4"
  }
 },
 "nbformat": 4,
 "nbformat_minor": 5
}
