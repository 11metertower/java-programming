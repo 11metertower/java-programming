{
 "cells": [
  {
   "cell_type": "code",
   "execution_count": 1,
   "id": "0af1917e",
   "metadata": {},
   "outputs": [
    {
     "name": "stdout",
     "output_type": "stream",
     "text": [
      "<class 'pandas.core.frame.DataFrame'>\n",
      "RangeIndex: 205 entries, 0 to 204\n",
      "Data columns (total 9 columns):\n",
      "PRD_ID         205 non-null int64\n",
      "WEIGHT         205 non-null float64\n",
      "ENERGY_CONS    205 non-null float64\n",
      "WATER_CONS     205 non-null float64\n",
      "SPIN_SPEED     205 non-null float64\n",
      "NOISE          205 non-null float64\n",
      "MOTOR_TYPE     205 non-null object\n",
      "MATERIAL       205 non-null object\n",
      "SCORE          205 non-null int64\n",
      "dtypes: float64(5), int64(2), object(2)\n",
      "memory usage: 14.5+ KB\n"
     ]
    }
   ],
   "source": [
    "import pandas as pd\n",
    "import numpy as np\n",
    "\n",
    "set2 = pd.read_csv('lv2-2412.csv')\n",
    "set2.info()"
   ]
  },
  {
   "cell_type": "markdown",
   "id": "e2b15950",
   "metadata": {},
   "source": [
    "### Question 1"
   ]
  },
  {
   "cell_type": "code",
   "execution_count": 2,
   "id": "4fea82e2",
   "metadata": {},
   "outputs": [],
   "source": [
    "df240 = set2.copy()"
   ]
  },
  {
   "cell_type": "markdown",
   "id": "2d84d565",
   "metadata": {},
   "source": [
    "1-1"
   ]
  },
  {
   "cell_type": "code",
   "execution_count": 3,
   "id": "9c003df1",
   "metadata": {},
   "outputs": [],
   "source": [
    "DF40_A = df240[df240['MOTOR_TYPE']=='A'].copy()\n",
    "DF40_B = df240[df240['MOTOR_TYPE']=='B'].copy()"
   ]
  },
  {
   "cell_type": "markdown",
   "id": "930bfa12",
   "metadata": {},
   "source": [
    "1-2"
   ]
  },
  {
   "cell_type": "code",
   "execution_count": 4,
   "id": "b0080312",
   "metadata": {},
   "outputs": [],
   "source": [
    "list_diff = []\n",
    "for col in ['ENERGY_CONS','WATER_CONS','NOISE']:\n",
    "    COR_A = np.abs(DF40_A.loc[:, [col, 'SCORE']].corr().iloc[0, 1])\n",
    "    COR_B = np.abs(DF40_B.loc[:, [col, 'SCORE']].corr().iloc[0, 1])\n",
    "    diff00 = np.abs(COR_A - COR_B)\n",
    "    list_diff.append(diff00)"
   ]
  },
  {
   "cell_type": "code",
   "execution_count": 5,
   "id": "1f6edd9b",
   "metadata": {},
   "outputs": [
    {
     "data": {
      "text/plain": [
       "[0.0062077295438360824, 0.33799334516471036, 0.16717218649035495]"
      ]
     },
     "execution_count": 5,
     "metadata": {},
     "output_type": "execute_result"
    }
   ],
   "source": [
    "list_diff"
   ]
  },
  {
   "cell_type": "markdown",
   "id": "26f5a470",
   "metadata": {},
   "source": [
    "1-3"
   ]
  },
  {
   "cell_type": "code",
   "execution_count": 6,
   "id": "0b9d9088",
   "metadata": {},
   "outputs": [
    {
     "data": {
      "text/plain": [
       "0.5113732611989014"
      ]
     },
     "execution_count": 6,
     "metadata": {},
     "output_type": "execute_result"
    }
   ],
   "source": [
    "np.sum(list_diff)"
   ]
  },
  {
   "cell_type": "markdown",
   "id": "e726f18f",
   "metadata": {},
   "source": [
    "Answer 1"
   ]
  },
  {
   "cell_type": "code",
   "execution_count": 7,
   "id": "42456def",
   "metadata": {},
   "outputs": [
    {
     "name": "stdout",
     "output_type": "stream",
     "text": [
      "0.5113732611989014\n",
      "ans24 : 0.511\n"
     ]
    }
   ],
   "source": [
    "res24 = np.sum(list_diff)\n",
    "ans24 = round(res24, 3)\n",
    "print(res24)\n",
    "print('ans24 :', ans24)"
   ]
  },
  {
   "cell_type": "markdown",
   "id": "803b1685",
   "metadata": {},
   "source": [
    "### Question 2"
   ]
  },
  {
   "cell_type": "code",
   "execution_count": 8,
   "id": "88392151",
   "metadata": {},
   "outputs": [],
   "source": [
    "df250 = set2.copy()"
   ]
  },
  {
   "cell_type": "markdown",
   "id": "7c70ed97",
   "metadata": {},
   "source": [
    "2-1"
   ]
  },
  {
   "cell_type": "code",
   "execution_count": 9,
   "id": "b8c0a57f",
   "metadata": {},
   "outputs": [],
   "source": [
    "from sklearn.preprocessing import StandardScaler\n",
    "scl00 = StandardScaler()\n",
    "list_fts = ['WEIGHT','ENERGY_CONS','WATER_CONS','SPIN_SPEED','NOISE']\n",
    "list_fts_s = []\n",
    "for col in list_fts:\n",
    "    list_fts_s.append(col + '_S')\n",
    "scl00.fit(df250.loc[:, list_fts])\n",
    "df_tmp = pd.DataFrame(scl00.transform(df250.loc[:, list_fts]), \\\n",
    "            columns = list_fts_s)"
   ]
  },
  {
   "cell_type": "code",
   "execution_count": 10,
   "id": "5b4dcc8b",
   "metadata": {},
   "outputs": [
    {
     "data": {
      "text/html": [
       "<div>\n",
       "<style scoped>\n",
       "    .dataframe tbody tr th:only-of-type {\n",
       "        vertical-align: middle;\n",
       "    }\n",
       "\n",
       "    .dataframe tbody tr th {\n",
       "        vertical-align: top;\n",
       "    }\n",
       "\n",
       "    .dataframe thead th {\n",
       "        text-align: right;\n",
       "    }\n",
       "</style>\n",
       "<table border=\"1\" class=\"dataframe\">\n",
       "  <thead>\n",
       "    <tr style=\"text-align: right;\">\n",
       "      <th></th>\n",
       "      <th>PRD_ID</th>\n",
       "      <th>WEIGHT</th>\n",
       "      <th>ENERGY_CONS</th>\n",
       "      <th>WATER_CONS</th>\n",
       "      <th>SPIN_SPEED</th>\n",
       "      <th>NOISE</th>\n",
       "      <th>MOTOR_TYPE</th>\n",
       "      <th>MATERIAL</th>\n",
       "      <th>SCORE</th>\n",
       "      <th>WEIGHT_S</th>\n",
       "      <th>ENERGY_CONS_S</th>\n",
       "      <th>WATER_CONS_S</th>\n",
       "      <th>SPIN_SPEED_S</th>\n",
       "      <th>NOISE_S</th>\n",
       "    </tr>\n",
       "  </thead>\n",
       "  <tbody>\n",
       "    <tr>\n",
       "      <td>0</td>\n",
       "      <td>1</td>\n",
       "      <td>251.35</td>\n",
       "      <td>209.10</td>\n",
       "      <td>26.55</td>\n",
       "      <td>1238.97</td>\n",
       "      <td>79.68</td>\n",
       "      <td>A</td>\n",
       "      <td>A</td>\n",
       "      <td>68</td>\n",
       "      <td>-0.306208</td>\n",
       "      <td>0.262800</td>\n",
       "      <td>-0.914288</td>\n",
       "      <td>-1.852161</td>\n",
       "      <td>0.543525</td>\n",
       "    </tr>\n",
       "    <tr>\n",
       "      <td>1</td>\n",
       "      <td>2</td>\n",
       "      <td>250.84</td>\n",
       "      <td>208.93</td>\n",
       "      <td>29.32</td>\n",
       "      <td>1240.25</td>\n",
       "      <td>81.78</td>\n",
       "      <td>A</td>\n",
       "      <td>A</td>\n",
       "      <td>75</td>\n",
       "      <td>-0.355352</td>\n",
       "      <td>0.234060</td>\n",
       "      <td>0.626713</td>\n",
       "      <td>-1.823603</td>\n",
       "      <td>1.193455</td>\n",
       "    </tr>\n",
       "    <tr>\n",
       "      <td>2</td>\n",
       "      <td>3</td>\n",
       "      <td>254.01</td>\n",
       "      <td>215.46</td>\n",
       "      <td>29.28</td>\n",
       "      <td>1351.34</td>\n",
       "      <td>68.60</td>\n",
       "      <td>A</td>\n",
       "      <td>A</td>\n",
       "      <td>72</td>\n",
       "      <td>-0.049891</td>\n",
       "      <td>1.338015</td>\n",
       "      <td>0.604460</td>\n",
       "      <td>0.654864</td>\n",
       "      <td>-2.885626</td>\n",
       "    </tr>\n",
       "    <tr>\n",
       "      <td>3</td>\n",
       "      <td>4</td>\n",
       "      <td>258.55</td>\n",
       "      <td>206.91</td>\n",
       "      <td>25.93</td>\n",
       "      <td>1344.86</td>\n",
       "      <td>77.76</td>\n",
       "      <td>B</td>\n",
       "      <td>B</td>\n",
       "      <td>71</td>\n",
       "      <td>0.387583</td>\n",
       "      <td>-0.107439</td>\n",
       "      <td>-1.259206</td>\n",
       "      <td>0.510292</td>\n",
       "      <td>-0.050696</td>\n",
       "    </tr>\n",
       "    <tr>\n",
       "      <td>4</td>\n",
       "      <td>5</td>\n",
       "      <td>258.56</td>\n",
       "      <td>207.93</td>\n",
       "      <td>26.26</td>\n",
       "      <td>1343.22</td>\n",
       "      <td>76.79</td>\n",
       "      <td>C</td>\n",
       "      <td>B</td>\n",
       "      <td>75</td>\n",
       "      <td>0.388546</td>\n",
       "      <td>0.065001</td>\n",
       "      <td>-1.075621</td>\n",
       "      <td>0.473703</td>\n",
       "      <td>-0.350901</td>\n",
       "    </tr>\n",
       "    <tr>\n",
       "      <td>...</td>\n",
       "      <td>...</td>\n",
       "      <td>...</td>\n",
       "      <td>...</td>\n",
       "      <td>...</td>\n",
       "      <td>...</td>\n",
       "      <td>...</td>\n",
       "      <td>...</td>\n",
       "      <td>...</td>\n",
       "      <td>...</td>\n",
       "      <td>...</td>\n",
       "      <td>...</td>\n",
       "      <td>...</td>\n",
       "      <td>...</td>\n",
       "      <td>...</td>\n",
       "    </tr>\n",
       "    <tr>\n",
       "      <td>200</td>\n",
       "      <td>201</td>\n",
       "      <td>267.11</td>\n",
       "      <td>207.46</td>\n",
       "      <td>28.50</td>\n",
       "      <td>1306.58</td>\n",
       "      <td>84.67</td>\n",
       "      <td>A</td>\n",
       "      <td>B</td>\n",
       "      <td>71</td>\n",
       "      <td>1.212423</td>\n",
       "      <td>-0.014457</td>\n",
       "      <td>0.170532</td>\n",
       "      <td>-0.343752</td>\n",
       "      <td>2.087881</td>\n",
       "    </tr>\n",
       "    <tr>\n",
       "      <td>201</td>\n",
       "      <td>202</td>\n",
       "      <td>266.61</td>\n",
       "      <td>217.00</td>\n",
       "      <td>30.17</td>\n",
       "      <td>1307.46</td>\n",
       "      <td>80.70</td>\n",
       "      <td>A</td>\n",
       "      <td>B</td>\n",
       "      <td>78</td>\n",
       "      <td>1.164243</td>\n",
       "      <td>1.598366</td>\n",
       "      <td>1.099583</td>\n",
       "      <td>-0.324118</td>\n",
       "      <td>0.859205</td>\n",
       "    </tr>\n",
       "    <tr>\n",
       "      <td>202</td>\n",
       "      <td>203</td>\n",
       "      <td>264.43</td>\n",
       "      <td>211.90</td>\n",
       "      <td>30.08</td>\n",
       "      <td>1268.00</td>\n",
       "      <td>82.26</td>\n",
       "      <td>A</td>\n",
       "      <td>B</td>\n",
       "      <td>77</td>\n",
       "      <td>0.954179</td>\n",
       "      <td>0.736165</td>\n",
       "      <td>1.049514</td>\n",
       "      <td>-1.204488</td>\n",
       "      <td>1.342010</td>\n",
       "    </tr>\n",
       "    <tr>\n",
       "      <td>203</td>\n",
       "      <td>204</td>\n",
       "      <td>264.85</td>\n",
       "      <td>206.63</td>\n",
       "      <td>30.88</td>\n",
       "      <td>1344.79</td>\n",
       "      <td>72.09</td>\n",
       "      <td>A</td>\n",
       "      <td>B</td>\n",
       "      <td>79</td>\n",
       "      <td>0.994650</td>\n",
       "      <td>-0.154776</td>\n",
       "      <td>1.494569</td>\n",
       "      <td>0.508730</td>\n",
       "      <td>-1.805505</td>\n",
       "    </tr>\n",
       "    <tr>\n",
       "      <td>204</td>\n",
       "      <td>205</td>\n",
       "      <td>267.85</td>\n",
       "      <td>209.69</td>\n",
       "      <td>27.77</td>\n",
       "      <td>1306.33</td>\n",
       "      <td>83.03</td>\n",
       "      <td>A</td>\n",
       "      <td>B</td>\n",
       "      <td>81</td>\n",
       "      <td>1.283729</td>\n",
       "      <td>0.362545</td>\n",
       "      <td>-0.235580</td>\n",
       "      <td>-0.349329</td>\n",
       "      <td>1.580317</td>\n",
       "    </tr>\n",
       "  </tbody>\n",
       "</table>\n",
       "<p>205 rows × 14 columns</p>\n",
       "</div>"
      ],
      "text/plain": [
       "     PRD_ID  WEIGHT  ENERGY_CONS  WATER_CONS  SPIN_SPEED  NOISE MOTOR_TYPE  \\\n",
       "0         1  251.35       209.10       26.55     1238.97  79.68          A   \n",
       "1         2  250.84       208.93       29.32     1240.25  81.78          A   \n",
       "2         3  254.01       215.46       29.28     1351.34  68.60          A   \n",
       "3         4  258.55       206.91       25.93     1344.86  77.76          B   \n",
       "4         5  258.56       207.93       26.26     1343.22  76.79          C   \n",
       "..      ...     ...          ...         ...         ...    ...        ...   \n",
       "200     201  267.11       207.46       28.50     1306.58  84.67          A   \n",
       "201     202  266.61       217.00       30.17     1307.46  80.70          A   \n",
       "202     203  264.43       211.90       30.08     1268.00  82.26          A   \n",
       "203     204  264.85       206.63       30.88     1344.79  72.09          A   \n",
       "204     205  267.85       209.69       27.77     1306.33  83.03          A   \n",
       "\n",
       "    MATERIAL  SCORE  WEIGHT_S  ENERGY_CONS_S  WATER_CONS_S  SPIN_SPEED_S  \\\n",
       "0          A     68 -0.306208       0.262800     -0.914288     -1.852161   \n",
       "1          A     75 -0.355352       0.234060      0.626713     -1.823603   \n",
       "2          A     72 -0.049891       1.338015      0.604460      0.654864   \n",
       "3          B     71  0.387583      -0.107439     -1.259206      0.510292   \n",
       "4          B     75  0.388546       0.065001     -1.075621      0.473703   \n",
       "..       ...    ...       ...            ...           ...           ...   \n",
       "200        B     71  1.212423      -0.014457      0.170532     -0.343752   \n",
       "201        B     78  1.164243       1.598366      1.099583     -0.324118   \n",
       "202        B     77  0.954179       0.736165      1.049514     -1.204488   \n",
       "203        B     79  0.994650      -0.154776      1.494569      0.508730   \n",
       "204        B     81  1.283729       0.362545     -0.235580     -0.349329   \n",
       "\n",
       "      NOISE_S  \n",
       "0    0.543525  \n",
       "1    1.193455  \n",
       "2   -2.885626  \n",
       "3   -0.050696  \n",
       "4   -0.350901  \n",
       "..        ...  \n",
       "200  2.087881  \n",
       "201  0.859205  \n",
       "202  1.342010  \n",
       "203 -1.805505  \n",
       "204  1.580317  \n",
       "\n",
       "[205 rows x 14 columns]"
      ]
     },
     "execution_count": 10,
     "metadata": {},
     "output_type": "execute_result"
    }
   ],
   "source": [
    "df_tmp.index = df250.index\n",
    "df251 = pd.concat([df250, df_tmp], axis=1)\n",
    "df251"
   ]
  },
  {
   "cell_type": "markdown",
   "id": "cfd61526",
   "metadata": {},
   "source": [
    "2-2, 2-3"
   ]
  },
  {
   "cell_type": "code",
   "execution_count": 11,
   "id": "5a7e694d",
   "metadata": {
    "scrolled": true
   },
   "outputs": [
    {
     "data": {
      "text/plain": [
       "76.91025641025641"
      ]
     },
     "execution_count": 11,
     "metadata": {},
     "output_type": "execute_result"
    }
   ],
   "source": [
    "from sklearn.cluster import KMeans\n",
    "n_c = 3\n",
    "km00 = KMeans(random_state=1234, n_clusters=n_c)\n",
    "km00.fit(df251.loc[:, list_fts_s])\n",
    "srs00 = pd.Series(km00.labels_)\n",
    "srs00.index = df251.index\n",
    "list_mean = []\n",
    "for c in range(n_c):\n",
    "    list_mean.append(df251.loc[srs00==c, 'SCORE'].mean())\n",
    "    \n",
    "np.max(list_mean)"
   ]
  },
  {
   "cell_type": "markdown",
   "id": "ab638f45",
   "metadata": {},
   "source": [
    "Answer 2"
   ]
  },
  {
   "cell_type": "code",
   "execution_count": 12,
   "id": "aab57bd3",
   "metadata": {},
   "outputs": [
    {
     "name": "stdout",
     "output_type": "stream",
     "text": [
      "76.91025641025641\n",
      "ans25 :  76.91\n"
     ]
    }
   ],
   "source": [
    "res25 = np.max(list_mean)\n",
    "ans25 = round(res25, 2)\n",
    "print(res25)\n",
    "print('ans25 : ', ans25)"
   ]
  },
  {
   "cell_type": "markdown",
   "id": "4eef0cf4",
   "metadata": {},
   "source": [
    "### Question 3"
   ]
  },
  {
   "cell_type": "code",
   "execution_count": 13,
   "id": "71c9e447",
   "metadata": {},
   "outputs": [],
   "source": [
    "df260 = set2.copy()"
   ]
  },
  {
   "cell_type": "markdown",
   "id": "af994451",
   "metadata": {},
   "source": [
    "3-1"
   ]
  },
  {
   "cell_type": "code",
   "execution_count": 14,
   "id": "f1f53675",
   "metadata": {},
   "outputs": [],
   "source": [
    "df_dum = pd.get_dummies(df260.loc[:, ['MOTOR_TYPE','MATERIAL']],drop_first=True)\n",
    "list_dum = list(df_dum.columns)\n",
    "df261 = pd.concat([df260, df_dum], axis=1)"
   ]
  },
  {
   "cell_type": "markdown",
   "id": "a2d8b71e",
   "metadata": {},
   "source": [
    "3-2"
   ]
  },
  {
   "cell_type": "code",
   "execution_count": 15,
   "id": "07fb0a51",
   "metadata": {},
   "outputs": [
    {
     "name": "stdout",
     "output_type": "stream",
     "text": [
      "(164, 12) (41, 12)\n"
     ]
    }
   ],
   "source": [
    "train26 = df261[df261['PRD_ID']%5!=0].copy()\n",
    "test26 = df261[df261['PRD_ID']%5==0].copy()\n",
    "print(train26.shape, test26.shape)"
   ]
  },
  {
   "cell_type": "markdown",
   "id": "b2c6feb4",
   "metadata": {},
   "source": [
    "3-3"
   ]
  },
  {
   "cell_type": "code",
   "execution_count": 16,
   "id": "893cf006",
   "metadata": {},
   "outputs": [
    {
     "data": {
      "text/plain": [
       "LinearRegression(copy_X=True, fit_intercept=True, n_jobs=None, normalize=False)"
      ]
     },
     "execution_count": 16,
     "metadata": {},
     "output_type": "execute_result"
    }
   ],
   "source": [
    "from sklearn.linear_model import LinearRegression\n",
    "LR00 = LinearRegression()\n",
    "list_fts = ['WEIGHT','ENERGY_CONS','WATER_CONS','SPIN_SPEED','NOISE'] + list_dum\n",
    "LR00.fit(train26.loc[:, list_fts], train26['SCORE'])"
   ]
  },
  {
   "cell_type": "markdown",
   "id": "e786a391",
   "metadata": {},
   "source": [
    "3-4"
   ]
  },
  {
   "cell_type": "code",
   "execution_count": 17,
   "id": "b066bb76",
   "metadata": {},
   "outputs": [
    {
     "data": {
      "text/plain": [
       "21.632757503003123"
      ]
     },
     "execution_count": 17,
     "metadata": {},
     "output_type": "execute_result"
    }
   ],
   "source": [
    "arr_pred = LR00.predict(test26.loc[:, list_fts])\n",
    "arr_act = np.array(test26['SCORE'])\n",
    "mse = np.mean((arr_pred-arr_act)**2)\n",
    "mse"
   ]
  },
  {
   "cell_type": "markdown",
   "id": "47158314",
   "metadata": {},
   "source": [
    "Answer 3"
   ]
  },
  {
   "cell_type": "code",
   "execution_count": 18,
   "id": "a1cd034c",
   "metadata": {},
   "outputs": [
    {
     "name": "stdout",
     "output_type": "stream",
     "text": [
      "21.632757503003123\n",
      "ans26 :  21.633\n"
     ]
    }
   ],
   "source": [
    "res26 = mse\n",
    "ans26 = round(res26, 3)\n",
    "print(res26)\n",
    "print('ans26 : ', ans26)"
   ]
  },
  {
   "cell_type": "markdown",
   "id": "87d00011",
   "metadata": {},
   "source": [
    "# SUMMARY"
   ]
  },
  {
   "cell_type": "code",
   "execution_count": 19,
   "id": "fce0cf92",
   "metadata": {},
   "outputs": [
    {
     "name": "stdout",
     "output_type": "stream",
     "text": [
      "ans24 :  0.511\n",
      "ans25 :  76.91\n",
      "ans26 :  21.633\n"
     ]
    }
   ],
   "source": [
    "print('ans24 : ', ans24)\n",
    "print('ans25 : ', ans25)\n",
    "print('ans26 : ', ans26)"
   ]
  }
 ],
 "metadata": {
  "kernelspec": {
   "display_name": "Python 3 (ipykernel)",
   "language": "python",
   "name": "python3"
  },
  "language_info": {
   "codemirror_mode": {
    "name": "ipython",
    "version": 3
   },
   "file_extension": ".py",
   "mimetype": "text/x-python",
   "name": "python",
   "nbconvert_exporter": "python",
   "pygments_lexer": "ipython3",
   "version": "3.7.4"
  }
 },
 "nbformat": 4,
 "nbformat_minor": 5
}
