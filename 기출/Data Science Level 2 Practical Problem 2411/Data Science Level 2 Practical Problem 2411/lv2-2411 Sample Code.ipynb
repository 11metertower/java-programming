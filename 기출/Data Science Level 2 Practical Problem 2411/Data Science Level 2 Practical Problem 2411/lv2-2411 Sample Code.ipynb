{
 "cells": [
  {
   "cell_type": "code",
   "execution_count": 1,
   "id": "6bd452f7",
   "metadata": {},
   "outputs": [
    {
     "name": "stdout",
     "output_type": "stream",
     "text": [
      "(2295, 12)\n",
      "<class 'pandas.core.frame.DataFrame'>\n",
      "RangeIndex: 2295 entries, 0 to 2294\n",
      "Data columns (total 12 columns):\n",
      "SID      2295 non-null int64\n",
      "DT       2295 non-null object\n",
      "SALES    2295 non-null int64\n",
      "HOLI     2295 non-null int64\n",
      "MD1      2295 non-null int64\n",
      "MD2      2295 non-null int64\n",
      "MD3      2295 non-null int64\n",
      "TEMP     2295 non-null float64\n",
      "FUEL     2295 non-null float64\n",
      "CPI      2295 non-null float64\n",
      "UNEMP    2295 non-null float64\n",
      "TT       2295 non-null object\n",
      "dtypes: float64(4), int64(6), object(2)\n",
      "memory usage: 215.3+ KB\n",
      "None\n"
     ]
    }
   ],
   "source": [
    "import pandas as pd\n",
    "import numpy as np\n",
    "\n",
    "SALES = pd.read_csv('lv2-2411.csv')\n",
    "print(SALES.shape)\n",
    "print(SALES.info())"
   ]
  },
  {
   "cell_type": "markdown",
   "id": "374c0ba4",
   "metadata": {},
   "source": [
    "### Question 1"
   ]
  },
  {
   "cell_type": "code",
   "execution_count": 2,
   "id": "db69c040",
   "metadata": {},
   "outputs": [
    {
     "data": {
      "text/plain": [
       "MD1      0.323809\n",
       "MD2      0.227710\n",
       "MD3      0.305563\n",
       "TEMP     0.079040\n",
       "FUEL     0.035965\n",
       "CPI      0.071120\n",
       "UNEMP    0.104058\n",
       "Name: SALES, dtype: float64"
      ]
     },
     "execution_count": 2,
     "metadata": {},
     "output_type": "execute_result"
    }
   ],
   "source": [
    "# 1-1\n",
    "DF21 = SALES.copy()\n",
    "cor_abs = DF21[['SALES','MD1','MD2','MD3','TEMP','FUEL','CPI','UNEMP']].corr().iloc[0,1:].abs()\n",
    "cor_abs"
   ]
  },
  {
   "cell_type": "code",
   "execution_count": 3,
   "id": "6d6504fd",
   "metadata": {},
   "outputs": [
    {
     "data": {
      "text/plain": [
       "0.32380918221245447"
      ]
     },
     "execution_count": 3,
     "metadata": {},
     "output_type": "execute_result"
    }
   ],
   "source": [
    "# 1-2\n",
    "cor_abs.max()"
   ]
  },
  {
   "cell_type": "code",
   "execution_count": 4,
   "id": "66c51c2b",
   "metadata": {},
   "outputs": [
    {
     "name": "stdout",
     "output_type": "stream",
     "text": [
      "0.32380918221245447\n",
      "0.324\n"
     ]
    }
   ],
   "source": [
    "# Answer 2\n",
    "ans21f = cor_abs.max()\n",
    "ans21 = round(ans21f, 3)\n",
    "\n",
    "print(ans21f)\n",
    "print(ans21)"
   ]
  },
  {
   "cell_type": "markdown",
   "id": "0574971b",
   "metadata": {},
   "source": [
    "### Question 2"
   ]
  },
  {
   "cell_type": "code",
   "execution_count": 5,
   "id": "94416884",
   "metadata": {},
   "outputs": [
    {
     "name": "stdout",
     "output_type": "stream",
     "text": [
      "(45, 12)\n"
     ]
    }
   ],
   "source": [
    "# 2-1\n",
    "DF22 = SALES[SALES['DT']=='2024-04-22'].copy().reset_index(drop=True)\n",
    "print(DF22.shape)"
   ]
  },
  {
   "cell_type": "code",
   "execution_count": 6,
   "id": "d698e53c",
   "metadata": {},
   "outputs": [
    {
     "data": {
      "text/html": [
       "<div>\n",
       "<style scoped>\n",
       "    .dataframe tbody tr th:only-of-type {\n",
       "        vertical-align: middle;\n",
       "    }\n",
       "\n",
       "    .dataframe tbody tr th {\n",
       "        vertical-align: top;\n",
       "    }\n",
       "\n",
       "    .dataframe thead th {\n",
       "        text-align: right;\n",
       "    }\n",
       "</style>\n",
       "<table border=\"1\" class=\"dataframe\">\n",
       "  <thead>\n",
       "    <tr style=\"text-align: right;\">\n",
       "      <th></th>\n",
       "      <th>SID</th>\n",
       "      <th>DT</th>\n",
       "      <th>SALES</th>\n",
       "      <th>HOLI</th>\n",
       "      <th>MD1</th>\n",
       "      <th>MD2</th>\n",
       "      <th>MD3</th>\n",
       "      <th>TEMP</th>\n",
       "      <th>FUEL</th>\n",
       "      <th>CPI</th>\n",
       "      <th>UNEMP</th>\n",
       "      <th>TT</th>\n",
       "      <th>SALES_S</th>\n",
       "      <th>MD1_S</th>\n",
       "      <th>MD2_S</th>\n",
       "      <th>MD3_S</th>\n",
       "      <th>TEMP_S</th>\n",
       "      <th>FUEL_S</th>\n",
       "      <th>CPI_S</th>\n",
       "      <th>UNEMP_S</th>\n",
       "    </tr>\n",
       "  </thead>\n",
       "  <tbody>\n",
       "    <tr>\n",
       "      <td>0</td>\n",
       "      <td>1</td>\n",
       "      <td>2024-04-22</td>\n",
       "      <td>1493660</td>\n",
       "      <td>0</td>\n",
       "      <td>2586</td>\n",
       "      <td>1057</td>\n",
       "      <td>1305</td>\n",
       "      <td>69.16</td>\n",
       "      <td>3.506</td>\n",
       "      <td>223.444251</td>\n",
       "      <td>6.573</td>\n",
       "      <td>TRAIN</td>\n",
       "      <td>0.925886</td>\n",
       "      <td>-0.573575</td>\n",
       "      <td>0.748461</td>\n",
       "      <td>-0.322387</td>\n",
       "      <td>0.781573</td>\n",
       "      <td>-1.032914</td>\n",
       "      <td>1.134592</td>\n",
       "      <td>-0.239531</td>\n",
       "    </tr>\n",
       "    <tr>\n",
       "      <td>1</td>\n",
       "      <td>2</td>\n",
       "      <td>2024-04-22</td>\n",
       "      <td>1834458</td>\n",
       "      <td>0</td>\n",
       "      <td>6153</td>\n",
       "      <td>272</td>\n",
       "      <td>2924</td>\n",
       "      <td>69.79</td>\n",
       "      <td>3.506</td>\n",
       "      <td>223.078337</td>\n",
       "      <td>6.170</td>\n",
       "      <td>TEST</td>\n",
       "      <td>1.581120</td>\n",
       "      <td>0.410093</td>\n",
       "      <td>-0.527571</td>\n",
       "      <td>0.686657</td>\n",
       "      <td>0.842296</td>\n",
       "      <td>-1.032914</td>\n",
       "      <td>1.125720</td>\n",
       "      <td>-0.493086</td>\n",
       "    </tr>\n",
       "    <tr>\n",
       "      <td>2</td>\n",
       "      <td>3</td>\n",
       "      <td>2024-04-22</td>\n",
       "      <td>405433</td>\n",
       "      <td>0</td>\n",
       "      <td>371</td>\n",
       "      <td>6</td>\n",
       "      <td>180</td>\n",
       "      <td>74.66</td>\n",
       "      <td>3.506</td>\n",
       "      <td>226.987364</td>\n",
       "      <td>6.034</td>\n",
       "      <td>TRAIN</td>\n",
       "      <td>-1.166390</td>\n",
       "      <td>-1.184403</td>\n",
       "      <td>-0.959958</td>\n",
       "      <td>-1.023546</td>\n",
       "      <td>1.311689</td>\n",
       "      <td>-1.032914</td>\n",
       "      <td>1.220499</td>\n",
       "      <td>-0.578653</td>\n",
       "    </tr>\n",
       "    <tr>\n",
       "      <td>3</td>\n",
       "      <td>4</td>\n",
       "      <td>2024-04-22</td>\n",
       "      <td>2149594</td>\n",
       "      <td>0</td>\n",
       "      <td>1763</td>\n",
       "      <td>0</td>\n",
       "      <td>7577</td>\n",
       "      <td>63.64</td>\n",
       "      <td>3.514</td>\n",
       "      <td>131.193097</td>\n",
       "      <td>3.879</td>\n",
       "      <td>TRAIN</td>\n",
       "      <td>2.187015</td>\n",
       "      <td>-0.800533</td>\n",
       "      <td>-0.969712</td>\n",
       "      <td>3.586649</td>\n",
       "      <td>0.249529</td>\n",
       "      <td>-1.003970</td>\n",
       "      <td>-1.102141</td>\n",
       "      <td>-1.934511</td>\n",
       "    </tr>\n",
       "    <tr>\n",
       "      <td>4</td>\n",
       "      <td>5</td>\n",
       "      <td>2024-04-22</td>\n",
       "      <td>319551</td>\n",
       "      <td>0</td>\n",
       "      <td>1548</td>\n",
       "      <td>133</td>\n",
       "      <td>599</td>\n",
       "      <td>71.70</td>\n",
       "      <td>3.506</td>\n",
       "      <td>224.037814</td>\n",
       "      <td>5.422</td>\n",
       "      <td>TRAIN</td>\n",
       "      <td>-1.331510</td>\n",
       "      <td>-0.859823</td>\n",
       "      <td>-0.753518</td>\n",
       "      <td>-0.762403</td>\n",
       "      <td>1.026391</td>\n",
       "      <td>-1.032914</td>\n",
       "      <td>1.148983</td>\n",
       "      <td>-0.963704</td>\n",
       "    </tr>\n",
       "  </tbody>\n",
       "</table>\n",
       "</div>"
      ],
      "text/plain": [
       "   SID          DT    SALES  HOLI   MD1   MD2   MD3   TEMP   FUEL         CPI  \\\n",
       "0    1  2024-04-22  1493660     0  2586  1057  1305  69.16  3.506  223.444251   \n",
       "1    2  2024-04-22  1834458     0  6153   272  2924  69.79  3.506  223.078337   \n",
       "2    3  2024-04-22   405433     0   371     6   180  74.66  3.506  226.987364   \n",
       "3    4  2024-04-22  2149594     0  1763     0  7577  63.64  3.514  131.193097   \n",
       "4    5  2024-04-22   319551     0  1548   133   599  71.70  3.506  224.037814   \n",
       "\n",
       "   UNEMP     TT   SALES_S     MD1_S     MD2_S     MD3_S    TEMP_S    FUEL_S  \\\n",
       "0  6.573  TRAIN  0.925886 -0.573575  0.748461 -0.322387  0.781573 -1.032914   \n",
       "1  6.170   TEST  1.581120  0.410093 -0.527571  0.686657  0.842296 -1.032914   \n",
       "2  6.034  TRAIN -1.166390 -1.184403 -0.959958 -1.023546  1.311689 -1.032914   \n",
       "3  3.879  TRAIN  2.187015 -0.800533 -0.969712  3.586649  0.249529 -1.003970   \n",
       "4  5.422  TRAIN -1.331510 -0.859823 -0.753518 -0.762403  1.026391 -1.032914   \n",
       "\n",
       "      CPI_S   UNEMP_S  \n",
       "0  1.134592 -0.239531  \n",
       "1  1.125720 -0.493086  \n",
       "2  1.220499 -0.578653  \n",
       "3 -1.102141 -1.934511  \n",
       "4  1.148983 -0.963704  "
      ]
     },
     "execution_count": 6,
     "metadata": {},
     "output_type": "execute_result"
    }
   ],
   "source": [
    "# 2-2\n",
    "from sklearn.preprocessing import StandardScaler\n",
    "svar = ['SALES','MD1','MD2','MD3','TEMP','FUEL','CPI','UNEMP']\n",
    "svars = [f\"{x}_S\" for x in svar]\n",
    "scaler = StandardScaler()\n",
    "DF22s = scaler.fit_transform(DF22[svar])\n",
    "DF22s = pd.DataFrame(DF22s, columns = svars)\n",
    "DF22f = pd.concat([DF22, DF22s], axis = 1)\n",
    "DF22f.head()"
   ]
  },
  {
   "cell_type": "code",
   "execution_count": 7,
   "id": "4c3246ad",
   "metadata": {},
   "outputs": [],
   "source": [
    "# 2-3\n",
    "from sklearn.cluster import KMeans\n",
    "km = KMeans(n_clusters = 4, random_state = 1234, init = 'random').fit(DF22f[svars])\n",
    "DF22f['clst'] = km.labels_"
   ]
  },
  {
   "cell_type": "code",
   "execution_count": 8,
   "id": "3f98d245",
   "metadata": {},
   "outputs": [
    {
     "data": {
      "text/html": [
       "<div>\n",
       "<style scoped>\n",
       "    .dataframe tbody tr th:only-of-type {\n",
       "        vertical-align: middle;\n",
       "    }\n",
       "\n",
       "    .dataframe tbody tr th {\n",
       "        vertical-align: top;\n",
       "    }\n",
       "\n",
       "    .dataframe thead th {\n",
       "        text-align: right;\n",
       "    }\n",
       "</style>\n",
       "<table border=\"1\" class=\"dataframe\">\n",
       "  <thead>\n",
       "    <tr style=\"text-align: right;\">\n",
       "      <th></th>\n",
       "      <th>clst</th>\n",
       "      <th>SALES</th>\n",
       "      <th>UNEMP</th>\n",
       "    </tr>\n",
       "  </thead>\n",
       "  <tbody>\n",
       "    <tr>\n",
       "      <td>0</td>\n",
       "      <td>0</td>\n",
       "      <td>1.461851e+06</td>\n",
       "      <td>5.819125</td>\n",
       "    </tr>\n",
       "    <tr>\n",
       "      <td>1</td>\n",
       "      <td>1</td>\n",
       "      <td>1.589292e+06</td>\n",
       "      <td>8.201875</td>\n",
       "    </tr>\n",
       "    <tr>\n",
       "      <td>2</td>\n",
       "      <td>2</td>\n",
       "      <td>5.000801e+05</td>\n",
       "      <td>6.124875</td>\n",
       "    </tr>\n",
       "    <tr>\n",
       "      <td>3</td>\n",
       "      <td>3</td>\n",
       "      <td>8.159207e+05</td>\n",
       "      <td>7.226190</td>\n",
       "    </tr>\n",
       "  </tbody>\n",
       "</table>\n",
       "</div>"
      ],
      "text/plain": [
       "   clst         SALES     UNEMP\n",
       "0     0  1.461851e+06  5.819125\n",
       "1     1  1.589292e+06  8.201875\n",
       "2     2  5.000801e+05  6.124875\n",
       "3     3  8.159207e+05  7.226190"
      ]
     },
     "execution_count": 8,
     "metadata": {},
     "output_type": "execute_result"
    }
   ],
   "source": [
    "# 2-4\n",
    "DF22out = DF22f.groupby(['clst']).mean()[['SALES','UNEMP']].reset_index()\n",
    "unemp_maxidx = DF22out.SALES.idxmax()\n",
    "DF22out"
   ]
  },
  {
   "cell_type": "code",
   "execution_count": 9,
   "id": "4994d867",
   "metadata": {},
   "outputs": [
    {
     "name": "stdout",
     "output_type": "stream",
     "text": [
      "8.201875\n",
      "8.202\n"
     ]
    }
   ],
   "source": [
    "# Answer 2\n",
    "ans22f = DF22out.iloc[unemp_maxidx]['UNEMP']\n",
    "ans22 = round(ans22f, 3)\n",
    "\n",
    "print(ans22f)\n",
    "print(ans22)"
   ]
  },
  {
   "cell_type": "markdown",
   "id": "7c6247fe",
   "metadata": {},
   "source": [
    "### Question 3"
   ]
  },
  {
   "cell_type": "code",
   "execution_count": 10,
   "id": "5258d4a6",
   "metadata": {},
   "outputs": [],
   "source": [
    "# 3-1\n",
    "DF23 = SALES.copy()\n",
    "DF23['SEASON1'] = 1*DF23['DT'].str[5:7].isin(['03','04','05'])\n",
    "DF23['SEASON2'] = 1*DF23['DT'].str[5:7].isin(['06','07','08'])\n",
    "DF23['SEASON3'] = 1*DF23['DT'].str[5:7].isin(['09','10','11'])"
   ]
  },
  {
   "cell_type": "code",
   "execution_count": 11,
   "id": "d969902c",
   "metadata": {},
   "outputs": [
    {
     "name": "stdout",
     "output_type": "stream",
     "text": [
      "(1722, 15) (573, 15)\n"
     ]
    }
   ],
   "source": [
    "# 3-2\n",
    "TRAIN23 = DF23[DF23['TT']=='TRAIN'].copy()\n",
    "TEST23 = DF23[DF23['TT']=='TEST'].copy()\n",
    "print(TRAIN23.shape, TEST23.shape)"
   ]
  },
  {
   "cell_type": "code",
   "execution_count": 12,
   "id": "13f24281",
   "metadata": {},
   "outputs": [
    {
     "data": {
      "text/plain": [
       "LinearRegression(copy_X=True, fit_intercept=True, n_jobs=None, normalize=False)"
      ]
     },
     "execution_count": 12,
     "metadata": {},
     "output_type": "execute_result"
    }
   ],
   "source": [
    "# 3-3\n",
    "from sklearn.linear_model import LinearRegression\n",
    "FEAT23 = ['HOLI','MD1','MD2','MD3','TEMP','FUEL','CPI','UNEMP','SEASON1','SEASON2','SEASON3']\n",
    "X_train = TRAIN23[FEAT23]\n",
    "y_train = TRAIN23['SALES']\n",
    "MDL23 = LinearRegression()\n",
    "MDL23.fit(X_train, y_train)"
   ]
  },
  {
   "cell_type": "code",
   "execution_count": 13,
   "id": "555e0e5b",
   "metadata": {},
   "outputs": [
    {
     "name": "stdout",
     "output_type": "stream",
     "text": [
      "53.59237851260662\n"
     ]
    }
   ],
   "source": [
    "# 3-4\n",
    "X_test = TEST23[FEAT23]\n",
    "y_pred = MDL23.predict(X_test)\n",
    "\n",
    "MAPE = np.mean(np.abs((y_pred - TEST23['SALES'])/TEST23['SALES']))*100\n",
    "print(MAPE)"
   ]
  },
  {
   "cell_type": "code",
   "execution_count": 14,
   "id": "10581167",
   "metadata": {},
   "outputs": [
    {
     "name": "stdout",
     "output_type": "stream",
     "text": [
      "53.59237851260662\n",
      "53.59\n"
     ]
    }
   ],
   "source": [
    "# Answer 3\n",
    "ans23f = MAPE\n",
    "ans23 = round(ans23f, 2)\n",
    "\n",
    "print(ans23f)\n",
    "print(ans23)"
   ]
  },
  {
   "cell_type": "markdown",
   "id": "81835ec2",
   "metadata": {},
   "source": [
    "## Summary"
   ]
  },
  {
   "cell_type": "code",
   "execution_count": 15,
   "id": "445a86e2",
   "metadata": {},
   "outputs": [
    {
     "name": "stdout",
     "output_type": "stream",
     "text": [
      "0.324\n",
      "8.202\n",
      "53.59\n"
     ]
    }
   ],
   "source": [
    "print(ans21)\n",
    "print(ans22)\n",
    "print(ans23)"
   ]
  },
  {
   "cell_type": "code",
   "execution_count": null,
   "id": "736b4a2c",
   "metadata": {},
   "outputs": [],
   "source": []
  }
 ],
 "metadata": {
  "kernelspec": {
   "display_name": "Python 3 (ipykernel)",
   "language": "python",
   "name": "python3"
  },
  "language_info": {
   "codemirror_mode": {
    "name": "ipython",
    "version": 3
   },
   "file_extension": ".py",
   "mimetype": "text/x-python",
   "name": "python",
   "nbconvert_exporter": "python",
   "pygments_lexer": "ipython3",
   "version": "3.7.4"
  }
 },
 "nbformat": 4,
 "nbformat_minor": 5
}
