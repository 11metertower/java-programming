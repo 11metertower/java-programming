{
 "cells": [
  {
   "cell_type": "code",
   "execution_count": 1,
   "id": "7b8172a4",
   "metadata": {
    "scrolled": true
   },
   "outputs": [
    {
     "name": "stdout",
     "output_type": "stream",
     "text": [
      "(900, 11)\n",
      "<class 'pandas.core.frame.DataFrame'>\n",
      "RangeIndex: 900 entries, 0 to 899\n",
      "Data columns (total 11 columns):\n",
      "CUS_ID     900 non-null int64\n",
      "REGION     900 non-null int64\n",
      "TENURE     900 non-null int64\n",
      "AGE        900 non-null int64\n",
      "INCOME     900 non-null int64\n",
      "MARITAL    900 non-null int64\n",
      "ED         900 non-null int64\n",
      "EMPLOY     900 non-null int64\n",
      "RETIRE     900 non-null int64\n",
      "GENDER     900 non-null int64\n",
      "CUSTCAT    900 non-null object\n",
      "dtypes: int64(10), object(1)\n",
      "memory usage: 77.5+ KB\n",
      "None\n"
     ]
    }
   ],
   "source": [
    "import pandas as pd\n",
    "import numpy as np\n",
    "\n",
    "CUSTOMER = pd.read_csv('lv2-2404.csv')\n",
    "print(CUSTOMER.shape)\n",
    "print(CUSTOMER.info())"
   ]
  },
  {
   "cell_type": "markdown",
   "id": "6ca4f492",
   "metadata": {},
   "source": [
    "### Q1"
   ]
  },
  {
   "cell_type": "markdown",
   "id": "c4eea07d",
   "metadata": {},
   "source": [
    "#### Step 1-1"
   ]
  },
  {
   "cell_type": "code",
   "execution_count": 2,
   "id": "23ab132b",
   "metadata": {},
   "outputs": [
    {
     "name": "stdout",
     "output_type": "stream",
     "text": [
      "(291,) (296,) (313,)\n"
     ]
    }
   ],
   "source": [
    "df1 = CUSTOMER.copy()\n",
    "df_rg1 = df1.loc[df1['REGION']==1, 'TENURE'].copy()\n",
    "df_rg2 = df1.loc[df1['REGION']==2, 'TENURE'].copy()\n",
    "df_rg3 = df1.loc[df1['REGION']==3, 'TENURE'].copy()\n",
    "print(df_rg1.shape, df_rg2.shape, df_rg3.shape)"
   ]
  },
  {
   "cell_type": "markdown",
   "id": "bdb65d32",
   "metadata": {},
   "source": [
    "#### Step 1-2"
   ]
  },
  {
   "cell_type": "code",
   "execution_count": 3,
   "id": "3ea96518",
   "metadata": {},
   "outputs": [],
   "source": [
    "num_mean = df_rg1.mean()\n",
    "num_std = df_rg1.std()\n",
    "\n",
    "a_low = num_mean - 1.968178*num_std/np.sqrt(len(df_rg1))\n",
    "a_up = num_mean + 1.968178*num_std/np.sqrt(len(df_rg1))\n",
    "\n",
    "num_mean = df_rg2.mean()\n",
    "num_std = df_rg2.std()\n",
    "\n",
    "b_low = num_mean - 1.968038*num_std/np.sqrt(len(df_rg2))\n",
    "b_up = num_mean + 1.968038*num_std/np.sqrt(len(df_rg2))\n",
    "\n",
    "num_mean = df_rg3.mean()\n",
    "num_std = df_rg3.std()\n",
    "\n",
    "c_low = num_mean - 1.967596*num_std/np.sqrt(len(df_rg3))\n",
    "c_up = num_mean + 1.967596*num_std/np.sqrt(len(df_rg3))"
   ]
  },
  {
   "cell_type": "markdown",
   "id": "2f3e916e",
   "metadata": {},
   "source": [
    "#### Step 1-3"
   ]
  },
  {
   "cell_type": "code",
   "execution_count": 4,
   "id": "e6086899",
   "metadata": {
    "scrolled": true
   },
   "outputs": [
    {
     "name": "stdout",
     "output_type": "stream",
     "text": [
      "71.18508592024864\n"
     ]
    }
   ],
   "source": [
    "A = np.max([a_up, b_up, c_up]) + np.min([a_low, b_low, c_low])\n",
    "print(A)"
   ]
  },
  {
   "cell_type": "code",
   "execution_count": 5,
   "id": "757071da",
   "metadata": {},
   "outputs": [
    {
     "name": "stdout",
     "output_type": "stream",
     "text": [
      "ans1: 71.19\n"
     ]
    }
   ],
   "source": [
    "ans21 = round(A, 2)\n",
    "print('ans1:',ans21)"
   ]
  },
  {
   "cell_type": "markdown",
   "id": "383f0d03",
   "metadata": {},
   "source": [
    "### Q2"
   ]
  },
  {
   "cell_type": "markdown",
   "id": "c3588510",
   "metadata": {},
   "source": [
    "#### Step 2-1"
   ]
  },
  {
   "cell_type": "code",
   "execution_count": 6,
   "id": "f019f831",
   "metadata": {},
   "outputs": [
    {
     "name": "stdout",
     "output_type": "stream",
     "text": [
      "(900, 15)\n"
     ]
    }
   ],
   "source": [
    "from sklearn.preprocessing import StandardScaler\n",
    "from sklearn.cluster import KMeans\n",
    "\n",
    "df2 = CUSTOMER.copy()\n",
    "VAR2 = ['TENURE','AGE','INCOME','EMPLOY']\n",
    "VAR2s = [s+'_S' for s in VAR2]\n",
    "df2s = pd.DataFrame(StandardScaler().fit_transform(df2[VAR2]), columns = VAR2s)\n",
    "df2c = pd.concat([df2, df2s], axis=1)\n",
    "print(df2c.shape)"
   ]
  },
  {
   "cell_type": "markdown",
   "id": "3c094cac",
   "metadata": {},
   "source": [
    "#### Step 2-2"
   ]
  },
  {
   "cell_type": "code",
   "execution_count": 7,
   "id": "4ae24cd1",
   "metadata": {},
   "outputs": [
    {
     "data": {
      "text/html": [
       "<div>\n",
       "<style scoped>\n",
       "    .dataframe tbody tr th:only-of-type {\n",
       "        vertical-align: middle;\n",
       "    }\n",
       "\n",
       "    .dataframe tbody tr th {\n",
       "        vertical-align: top;\n",
       "    }\n",
       "\n",
       "    .dataframe thead th {\n",
       "        text-align: right;\n",
       "    }\n",
       "</style>\n",
       "<table border=\"1\" class=\"dataframe\">\n",
       "  <thead>\n",
       "    <tr style=\"text-align: right;\">\n",
       "      <th></th>\n",
       "      <th>CUS_ID</th>\n",
       "      <th>REGION</th>\n",
       "      <th>TENURE</th>\n",
       "      <th>AGE</th>\n",
       "      <th>INCOME</th>\n",
       "      <th>MARITAL</th>\n",
       "      <th>ED</th>\n",
       "      <th>EMPLOY</th>\n",
       "      <th>RETIRE</th>\n",
       "      <th>GENDER</th>\n",
       "      <th>CUSTCAT</th>\n",
       "      <th>TENURE_S</th>\n",
       "      <th>AGE_S</th>\n",
       "      <th>INCOME_S</th>\n",
       "      <th>EMPLOY_S</th>\n",
       "      <th>clus</th>\n",
       "    </tr>\n",
       "  </thead>\n",
       "  <tbody>\n",
       "    <tr>\n",
       "      <td>0</td>\n",
       "      <td>1</td>\n",
       "      <td>1</td>\n",
       "      <td>67</td>\n",
       "      <td>40</td>\n",
       "      <td>59</td>\n",
       "      <td>1</td>\n",
       "      <td>3</td>\n",
       "      <td>11</td>\n",
       "      <td>0</td>\n",
       "      <td>0</td>\n",
       "      <td>Class C</td>\n",
       "      <td>1.472498</td>\n",
       "      <td>-0.128495</td>\n",
       "      <td>-0.160074</td>\n",
       "      <td>0.009789</td>\n",
       "      <td>0</td>\n",
       "    </tr>\n",
       "    <tr>\n",
       "      <td>1</td>\n",
       "      <td>2</td>\n",
       "      <td>1</td>\n",
       "      <td>50</td>\n",
       "      <td>43</td>\n",
       "      <td>27</td>\n",
       "      <td>0</td>\n",
       "      <td>3</td>\n",
       "      <td>4</td>\n",
       "      <td>0</td>\n",
       "      <td>0</td>\n",
       "      <td>Class C</td>\n",
       "      <td>0.677340</td>\n",
       "      <td>0.109296</td>\n",
       "      <td>-0.454744</td>\n",
       "      <td>-0.683155</td>\n",
       "      <td>0</td>\n",
       "    </tr>\n",
       "    <tr>\n",
       "      <td>2</td>\n",
       "      <td>3</td>\n",
       "      <td>1</td>\n",
       "      <td>3</td>\n",
       "      <td>24</td>\n",
       "      <td>20</td>\n",
       "      <td>1</td>\n",
       "      <td>2</td>\n",
       "      <td>3</td>\n",
       "      <td>0</td>\n",
       "      <td>1</td>\n",
       "      <td>Class C</td>\n",
       "      <td>-1.521039</td>\n",
       "      <td>-1.396714</td>\n",
       "      <td>-0.519203</td>\n",
       "      <td>-0.782147</td>\n",
       "      <td>2</td>\n",
       "    </tr>\n",
       "    <tr>\n",
       "      <td>3</td>\n",
       "      <td>4</td>\n",
       "      <td>1</td>\n",
       "      <td>40</td>\n",
       "      <td>42</td>\n",
       "      <td>108</td>\n",
       "      <td>1</td>\n",
       "      <td>3</td>\n",
       "      <td>17</td>\n",
       "      <td>0</td>\n",
       "      <td>0</td>\n",
       "      <td>Class B</td>\n",
       "      <td>0.209600</td>\n",
       "      <td>0.030032</td>\n",
       "      <td>0.291141</td>\n",
       "      <td>0.603741</td>\n",
       "      <td>0</td>\n",
       "    </tr>\n",
       "    <tr>\n",
       "      <td>4</td>\n",
       "      <td>5</td>\n",
       "      <td>2</td>\n",
       "      <td>48</td>\n",
       "      <td>35</td>\n",
       "      <td>50</td>\n",
       "      <td>0</td>\n",
       "      <td>1</td>\n",
       "      <td>16</td>\n",
       "      <td>0</td>\n",
       "      <td>0</td>\n",
       "      <td>Class C</td>\n",
       "      <td>0.583792</td>\n",
       "      <td>-0.524814</td>\n",
       "      <td>-0.242950</td>\n",
       "      <td>0.504749</td>\n",
       "      <td>0</td>\n",
       "    </tr>\n",
       "    <tr>\n",
       "      <td>...</td>\n",
       "      <td>...</td>\n",
       "      <td>...</td>\n",
       "      <td>...</td>\n",
       "      <td>...</td>\n",
       "      <td>...</td>\n",
       "      <td>...</td>\n",
       "      <td>...</td>\n",
       "      <td>...</td>\n",
       "      <td>...</td>\n",
       "      <td>...</td>\n",
       "      <td>...</td>\n",
       "      <td>...</td>\n",
       "      <td>...</td>\n",
       "      <td>...</td>\n",
       "      <td>...</td>\n",
       "      <td>...</td>\n",
       "    </tr>\n",
       "    <tr>\n",
       "      <td>895</td>\n",
       "      <td>896</td>\n",
       "      <td>1</td>\n",
       "      <td>45</td>\n",
       "      <td>52</td>\n",
       "      <td>46</td>\n",
       "      <td>0</td>\n",
       "      <td>5</td>\n",
       "      <td>8</td>\n",
       "      <td>0</td>\n",
       "      <td>1</td>\n",
       "      <td>Class B</td>\n",
       "      <td>0.443470</td>\n",
       "      <td>0.822669</td>\n",
       "      <td>-0.279784</td>\n",
       "      <td>-0.287187</td>\n",
       "      <td>0</td>\n",
       "    </tr>\n",
       "    <tr>\n",
       "      <td>896</td>\n",
       "      <td>897</td>\n",
       "      <td>1</td>\n",
       "      <td>8</td>\n",
       "      <td>29</td>\n",
       "      <td>21</td>\n",
       "      <td>1</td>\n",
       "      <td>5</td>\n",
       "      <td>0</td>\n",
       "      <td>0</td>\n",
       "      <td>0</td>\n",
       "      <td>Class A</td>\n",
       "      <td>-1.287169</td>\n",
       "      <td>-1.000396</td>\n",
       "      <td>-0.509995</td>\n",
       "      <td>-1.079123</td>\n",
       "      <td>2</td>\n",
       "    </tr>\n",
       "    <tr>\n",
       "      <td>897</td>\n",
       "      <td>898</td>\n",
       "      <td>1</td>\n",
       "      <td>29</td>\n",
       "      <td>32</td>\n",
       "      <td>49</td>\n",
       "      <td>1</td>\n",
       "      <td>4</td>\n",
       "      <td>3</td>\n",
       "      <td>0</td>\n",
       "      <td>1</td>\n",
       "      <td>Class B</td>\n",
       "      <td>-0.304915</td>\n",
       "      <td>-0.762605</td>\n",
       "      <td>-0.252158</td>\n",
       "      <td>-0.782147</td>\n",
       "      <td>2</td>\n",
       "    </tr>\n",
       "    <tr>\n",
       "      <td>898</td>\n",
       "      <td>899</td>\n",
       "      <td>3</td>\n",
       "      <td>20</td>\n",
       "      <td>48</td>\n",
       "      <td>24</td>\n",
       "      <td>1</td>\n",
       "      <td>2</td>\n",
       "      <td>3</td>\n",
       "      <td>0</td>\n",
       "      <td>0</td>\n",
       "      <td>Class D</td>\n",
       "      <td>-0.725881</td>\n",
       "      <td>0.505614</td>\n",
       "      <td>-0.482370</td>\n",
       "      <td>-0.782147</td>\n",
       "      <td>2</td>\n",
       "    </tr>\n",
       "    <tr>\n",
       "      <td>899</td>\n",
       "      <td>900</td>\n",
       "      <td>2</td>\n",
       "      <td>23</td>\n",
       "      <td>30</td>\n",
       "      <td>30</td>\n",
       "      <td>1</td>\n",
       "      <td>1</td>\n",
       "      <td>2</td>\n",
       "      <td>0</td>\n",
       "      <td>0</td>\n",
       "      <td>Class C</td>\n",
       "      <td>-0.585559</td>\n",
       "      <td>-0.921132</td>\n",
       "      <td>-0.427119</td>\n",
       "      <td>-0.881139</td>\n",
       "      <td>2</td>\n",
       "    </tr>\n",
       "  </tbody>\n",
       "</table>\n",
       "<p>900 rows × 16 columns</p>\n",
       "</div>"
      ],
      "text/plain": [
       "     CUS_ID  REGION  TENURE  AGE  INCOME  MARITAL  ED  EMPLOY  RETIRE  GENDER  \\\n",
       "0         1       1      67   40      59        1   3      11       0       0   \n",
       "1         2       1      50   43      27        0   3       4       0       0   \n",
       "2         3       1       3   24      20        1   2       3       0       1   \n",
       "3         4       1      40   42     108        1   3      17       0       0   \n",
       "4         5       2      48   35      50        0   1      16       0       0   \n",
       "..      ...     ...     ...  ...     ...      ...  ..     ...     ...     ...   \n",
       "895     896       1      45   52      46        0   5       8       0       1   \n",
       "896     897       1       8   29      21        1   5       0       0       0   \n",
       "897     898       1      29   32      49        1   4       3       0       1   \n",
       "898     899       3      20   48      24        1   2       3       0       0   \n",
       "899     900       2      23   30      30        1   1       2       0       0   \n",
       "\n",
       "     CUSTCAT  TENURE_S     AGE_S  INCOME_S  EMPLOY_S  clus  \n",
       "0    Class C  1.472498 -0.128495 -0.160074  0.009789     0  \n",
       "1    Class C  0.677340  0.109296 -0.454744 -0.683155     0  \n",
       "2    Class C -1.521039 -1.396714 -0.519203 -0.782147     2  \n",
       "3    Class B  0.209600  0.030032  0.291141  0.603741     0  \n",
       "4    Class C  0.583792 -0.524814 -0.242950  0.504749     0  \n",
       "..       ...       ...       ...       ...       ...   ...  \n",
       "895  Class B  0.443470  0.822669 -0.279784 -0.287187     0  \n",
       "896  Class A -1.287169 -1.000396 -0.509995 -1.079123     2  \n",
       "897  Class B -0.304915 -0.762605 -0.252158 -0.782147     2  \n",
       "898  Class D -0.725881  0.505614 -0.482370 -0.782147     2  \n",
       "899  Class C -0.585559 -0.921132 -0.427119 -0.881139     2  \n",
       "\n",
       "[900 rows x 16 columns]"
      ]
     },
     "execution_count": 7,
     "metadata": {},
     "output_type": "execute_result"
    }
   ],
   "source": [
    "df2c['clus'] = KMeans(random_state = 1234, n_clusters=4).fit_predict(df2c[VAR2s])\n",
    "df2c"
   ]
  },
  {
   "cell_type": "markdown",
   "id": "28bce9d3",
   "metadata": {},
   "source": [
    "#### Step 2-3"
   ]
  },
  {
   "cell_type": "code",
   "execution_count": 8,
   "id": "8d910416",
   "metadata": {},
   "outputs": [],
   "source": [
    "cnt1 = df2c[df2c['clus']==0][VAR2s].mean(axis=0)\n",
    "cnt2 = df2c[df2c['clus']==1][VAR2s].mean(axis=0)\n",
    "cnt3 = df2c[df2c['clus']==2][VAR2s].mean(axis=0)\n",
    "cnt4 = df2c[df2c['clus']==3][VAR2s].mean(axis=0)"
   ]
  },
  {
   "cell_type": "markdown",
   "id": "567a5b68",
   "metadata": {},
   "source": [
    "#### Step 2-4"
   ]
  },
  {
   "cell_type": "code",
   "execution_count": 9,
   "id": "b6ce9392",
   "metadata": {},
   "outputs": [
    {
     "data": {
      "text/plain": [
       "array([0.43974249, 0.60146725, 0.3949086 , 1.99563486])"
      ]
     },
     "execution_count": 9,
     "metadata": {},
     "output_type": "execute_result"
    }
   ],
   "source": [
    "arr_std = np.zeros(4)\n",
    "for i in [0, 1, 2, 3]:\n",
    "    df_tmp = df2c[df2c['clus']==i][VAR2s].copy()\n",
    "    cnti = df2c[df2c['clus']==i][VAR2s].mean(axis=0)\n",
    "    udis2 = (df_tmp['TENURE_S'] - cnti['TENURE_S'])**2 +\\\n",
    "    (df_tmp['AGE_S'] - cnti['AGE_S'])**2 +\\\n",
    "    (df_tmp['INCOME_S'] - cnti['INCOME_S'])**2 +\\\n",
    "    (df_tmp['EMPLOY_S'] - cnti['EMPLOY_S'])**2\n",
    "    arr_std[i] = udis2.map(lambda x: np.sqrt(x)).std()\n",
    "arr_std"
   ]
  },
  {
   "cell_type": "markdown",
   "id": "36e046de",
   "metadata": {},
   "source": [
    "#### Step 2-5"
   ]
  },
  {
   "cell_type": "code",
   "execution_count": 10,
   "id": "da94e15a",
   "metadata": {},
   "outputs": [
    {
     "name": "stdout",
     "output_type": "stream",
     "text": [
      "0.39490860093944474\n"
     ]
    }
   ],
   "source": [
    "std_min = arr_std.min()\n",
    "print(std_min)"
   ]
  },
  {
   "cell_type": "code",
   "execution_count": 11,
   "id": "f3bbe3f5",
   "metadata": {},
   "outputs": [
    {
     "name": "stdout",
     "output_type": "stream",
     "text": [
      "ans2: 0.395\n"
     ]
    }
   ],
   "source": [
    "ans22 = round(std_min, 3)\n",
    "print('ans2:',ans22)"
   ]
  },
  {
   "cell_type": "markdown",
   "id": "67ab41bf",
   "metadata": {},
   "source": [
    "### Q3"
   ]
  },
  {
   "cell_type": "markdown",
   "id": "bd05bb40",
   "metadata": {},
   "source": [
    "#### Step 3-1"
   ]
  },
  {
   "cell_type": "code",
   "execution_count": 12,
   "id": "6ec7d62d",
   "metadata": {},
   "outputs": [],
   "source": [
    "df3 = CUSTOMER.copy()\n",
    "df23 = df3[df3['CUSTCAT'].isin(['Class A','Class D'])].copy()"
   ]
  },
  {
   "cell_type": "markdown",
   "id": "e91641e8",
   "metadata": {},
   "source": [
    "#### Step 3-2"
   ]
  },
  {
   "cell_type": "code",
   "execution_count": 13,
   "id": "22c12e2a",
   "metadata": {},
   "outputs": [
    {
     "data": {
      "text/plain": [
       "AGE_30    136\n",
       "AGE_40    106\n",
       "AGE_20    104\n",
       "AGE_50    103\n",
       "Name: AGE_GROUP, dtype: int64"
      ]
     },
     "execution_count": 13,
     "metadata": {},
     "output_type": "execute_result"
    }
   ],
   "source": [
    "df23['AGE_GROUP'] = 'AGE_50'\n",
    "df23.loc[df23['AGE']<50, 'AGE_GROUP'] = 'AGE_40'\n",
    "df23.loc[df23['AGE']<40, 'AGE_GROUP'] = 'AGE_30'\n",
    "df23.loc[df23['AGE']<30, 'AGE_GROUP'] = 'AGE_20'\n",
    "df23['AGE_GROUP'].value_counts()"
   ]
  },
  {
   "cell_type": "markdown",
   "id": "ccfd3fc9",
   "metadata": {},
   "source": [
    "#### Step 3-3"
   ]
  },
  {
   "cell_type": "code",
   "execution_count": 14,
   "id": "16153952",
   "metadata": {},
   "outputs": [],
   "source": [
    "list_fts = ['REGION','ED','AGE_GROUP']\n",
    "df_dum = pd.get_dummies(df23.loc[:, list_fts].astype(str), drop_first=True)\n",
    "df23d = pd.concat([df23, df_dum], axis=1)"
   ]
  },
  {
   "cell_type": "markdown",
   "id": "cc0d5e5f",
   "metadata": {},
   "source": [
    "#### Step 3-4"
   ]
  },
  {
   "cell_type": "code",
   "execution_count": 15,
   "id": "7051be33",
   "metadata": {},
   "outputs": [
    {
     "name": "stdout",
     "output_type": "stream",
     "text": [
      "(356, 21) (93, 21)\n"
     ]
    }
   ],
   "source": [
    "train23 = df23d[df23d['CUS_ID']%5 != 0].copy()\n",
    "test23 = df23d[df23d['CUS_ID']%5 == 0].copy()\n",
    "print(train23.shape, test23.shape)"
   ]
  },
  {
   "cell_type": "markdown",
   "id": "668ecb9f",
   "metadata": {},
   "source": [
    "#### Step 3-5"
   ]
  },
  {
   "cell_type": "code",
   "execution_count": 16,
   "id": "5f778148",
   "metadata": {},
   "outputs": [
    {
     "data": {
      "text/plain": [
       "DecisionTreeClassifier(class_weight=None, criterion='gini', max_depth=3,\n",
       "                       max_features=None, max_leaf_nodes=None,\n",
       "                       min_impurity_decrease=0.0, min_impurity_split=None,\n",
       "                       min_samples_leaf=1, min_samples_split=2,\n",
       "                       min_weight_fraction_leaf=0.0, presort=False,\n",
       "                       random_state=1234, splitter='best')"
      ]
     },
     "execution_count": 16,
     "metadata": {},
     "output_type": "execute_result"
    }
   ],
   "source": [
    "from sklearn.tree import DecisionTreeClassifier\n",
    "\n",
    "DT00 = DecisionTreeClassifier(random_state=1234, max_depth=3)\n",
    "list_fts = ['TENURE','INCOME','MARITAL','EMPLOY','RETIRE','GENDER'] + list(df_dum.columns)\n",
    "DT00.fit(train23.loc[:, list_fts], train23['CUSTCAT'])"
   ]
  },
  {
   "cell_type": "markdown",
   "id": "06986d47",
   "metadata": {},
   "source": [
    "#### Step 3-6"
   ]
  },
  {
   "cell_type": "code",
   "execution_count": 17,
   "id": "104d01ad",
   "metadata": {},
   "outputs": [
    {
     "name": "stdout",
     "output_type": "stream",
     "text": [
      "0.578125\n"
     ]
    }
   ],
   "source": [
    "arr_pred = DT00.predict(test23.loc[:, list_fts])\n",
    "arr_act = np.array(test23['CUSTCAT'])\n",
    "precision = ((arr_pred=='Class A') & (arr_act=='Class A')).sum()/(arr_pred=='Class A').sum()\n",
    "print(precision)"
   ]
  },
  {
   "cell_type": "code",
   "execution_count": 18,
   "id": "ecdc0955",
   "metadata": {},
   "outputs": [
    {
     "name": "stdout",
     "output_type": "stream",
     "text": [
      "ans3: 0.578\n"
     ]
    }
   ],
   "source": [
    "ans23 = round(precision, 3)\n",
    "print('ans3:',ans23)"
   ]
  },
  {
   "cell_type": "code",
   "execution_count": 19,
   "id": "4f67f848",
   "metadata": {},
   "outputs": [
    {
     "name": "stdout",
     "output_type": "stream",
     "text": [
      "71.19\n",
      "0.395\n",
      "0.578\n"
     ]
    }
   ],
   "source": [
    "print(ans21)\n",
    "print(ans22)\n",
    "print(ans23)"
   ]
  },
  {
   "cell_type": "code",
   "execution_count": null,
   "id": "ea937116",
   "metadata": {},
   "outputs": [],
   "source": []
  }
 ],
 "metadata": {
  "kernelspec": {
   "display_name": "Python 3 (ipykernel)",
   "language": "python",
   "name": "python3"
  },
  "language_info": {
   "codemirror_mode": {
    "name": "ipython",
    "version": 3
   },
   "file_extension": ".py",
   "mimetype": "text/x-python",
   "name": "python",
   "nbconvert_exporter": "python",
   "pygments_lexer": "ipython3",
   "version": "3.7.4"
  }
 },
 "nbformat": 4,
 "nbformat_minor": 5
}
