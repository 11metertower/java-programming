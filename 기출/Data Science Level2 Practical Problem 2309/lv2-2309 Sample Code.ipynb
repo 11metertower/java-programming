{
 "cells": [
  {
   "cell_type": "code",
   "execution_count": null,
   "id": "7921d0f9",
   "metadata": {},
   "outputs": [],
   "source": [
    "import pandas as pd\n",
    "import numpy as np"
   ]
  },
  {
   "cell_type": "code",
   "execution_count": null,
   "id": "b30808a7",
   "metadata": {},
   "outputs": [],
   "source": [
    "set1 = pd.read_csv('lv2-2309.csv')"
   ]
  },
  {
   "cell_type": "code",
   "execution_count": null,
   "id": "6d66bba4",
   "metadata": {},
   "outputs": [],
   "source": [
    "#### Q1"
   ]
  },
  {
   "cell_type": "code",
   "execution_count": null,
   "id": "eeccdc26",
   "metadata": {},
   "outputs": [],
   "source": [
    "df1 = set1.copy()\n",
    "\n",
    "job_list = df1['JOB_CODE'].unique().tolist()\n",
    "city_list = df1['CITY_CATEGORY'].unique().tolist()\n",
    "len(job_list) * len(city_list)"
   ]
  },
  {
   "cell_type": "code",
   "execution_count": null,
   "id": "7af50082",
   "metadata": {},
   "outputs": [],
   "source": [
    "from scipy import stats\n",
    "\n",
    "max_cor = 0\n",
    "max_job = ''\n",
    "max_city = ''\n",
    "for job in job_list:\n",
    "    temp = df1[df1['JOB_CODE'] == job]\n",
    "    for city in city_list:\n",
    "        temp_c = temp[temp['CITY_CATEGORY'] == city]\n",
    "        tmp_cor, a = stats.pearsonr(temp_c['STAY_YEARS'], temp_c['PURCHASE'])\n",
    "        if max_cor < abs(tmp_cor):\n",
    "            max_cor = abs(tmp_cor)\n",
    "            max_job = job\n",
    "            max_city = city\n",
    "\n",
    "A = max_cor\n",
    "B = df1[df1['JOB_CODE'] == max_job]['PURCHASE'].mean()\n",
    "\n",
    "ans21 = A * B"
   ]
  },
  {
   "cell_type": "code",
   "execution_count": null,
   "id": "569e26bb",
   "metadata": {},
   "outputs": [],
   "source": [
    "print('Q1 Result: ', ans21)\n",
    "print('Q1 Answer: ', round(ans21, 3))"
   ]
  },
  {
   "cell_type": "code",
   "execution_count": null,
   "id": "58743242",
   "metadata": {},
   "outputs": [],
   "source": [
    "#### Q2"
   ]
  },
  {
   "cell_type": "code",
   "execution_count": null,
   "id": "a3a85a2a",
   "metadata": {},
   "outputs": [],
   "source": [
    "df2 = set1.copy()\n",
    "\n",
    "df2_1 = df2.groupby(['GENDER','JOB_CODE','CITY_CATEGORY', 'MARITAL_STATUS'])['USER_ID'].count().reset_index()\n",
    "df2_2 = df2_1.sort_values(['USER_ID'], ascending=False).reset_index(drop=True)[:20]"
   ]
  },
  {
   "cell_type": "code",
   "execution_count": null,
   "id": "61ce5718",
   "metadata": {},
   "outputs": [],
   "source": [
    "outlier_list = []\n",
    "for i in range(20):\n",
    "    tmp = df2[(df2['GENDER'] == df2_2.loc[i, 'GENDER']) & (df2['JOB_CODE'] == df2_2.loc[i, 'JOB_CODE']) \n",
    "        & (df2['CITY_CATEGORY'] == df2_2.loc[i, 'CITY_CATEGORY']) & (df2['MARITAL_STATUS'] == df2_2.loc[i, 'MARITAL_STATUS'])]\n",
    "    q1 = tmp['PURCHASE'].quantile(0.25)\n",
    "    q3 = tmp['PURCHASE'].quantile(0.75)\n",
    "    iqr = q3-q1\n",
    "    total_len = len(tmp)\n",
    "    outlier = len(tmp[(tmp['PURCHASE'] < q1 - iqr) | (tmp['PURCHASE'] > q3 + iqr)])    \n",
    "    outlier_list.append(outlier/total_len)\n",
    "ans22 = max(outlier_list)"
   ]
  },
  {
   "cell_type": "code",
   "execution_count": null,
   "id": "ef649dde",
   "metadata": {},
   "outputs": [],
   "source": [
    "print('Q2 Result: ', ans22)\n",
    "print('Q2 Answer: ', round(ans22, 3))"
   ]
  },
  {
   "cell_type": "code",
   "execution_count": null,
   "id": "505b91a6",
   "metadata": {},
   "outputs": [],
   "source": [
    "#### Q3"
   ]
  },
  {
   "cell_type": "code",
   "execution_count": null,
   "id": "b0761e90",
   "metadata": {},
   "outputs": [],
   "source": [
    "df3 = set1.copy()\n",
    "\n",
    "df3['VIP'] = df3['PURCHASE'].apply(lambda x : 1 if x >= 20000 else 0)\n",
    "\n",
    "test = pd.DataFrame({'GENDER':['M'], 'USER_AGE':['36-45'], 'JOB_CODE':['G'], \n",
    "                     'CITY_CATEGORY':['B'], 'STAY_YEARS': [3], 'MARITAL_STATUS':['Yes']})\n",
    "df3_1 = df3.drop(columns = ['USER_ID','PURCHASE','VIP'])\n",
    "df3_1 = pd.concat([df3_1, test])\n",
    "df3_1.reset_index(drop=True,inplace=True)\n",
    "\n",
    "g_dum = pd.get_dummies(df3_1['GENDER'], drop_first=True)\n",
    "a_dum = pd.get_dummies(df3_1['USER_AGE'], drop_first=True)\n",
    "j_dum = pd.get_dummies(df3_1['JOB_CODE'], drop_first=True)\n",
    "c_dum = pd.get_dummies(df3_1['CITY_CATEGORY'], drop_first=True)\n",
    "m_dum = pd.get_dummies(df3_1['MARITAL_STATUS'], drop_first=True)\n",
    "df3_2 = pd.concat([df3_1[['STAY_YEARS']],g_dum, a_dum, j_dum, c_dum,  m_dum],axis=1)"
   ]
  },
  {
   "cell_type": "code",
   "execution_count": null,
   "id": "3e054c60",
   "metadata": {},
   "outputs": [],
   "source": [
    "from sklearn.linear_model import LogisticRegression\n",
    "\n",
    "lr = LogisticRegression(solver='saga', C = 100000, random_state=1234, max_iter = 4)\n",
    "test_x = pd.DataFrame(df3_2.iloc[-1][:]).T\n",
    "train_x = df3_2.iloc[:-1]\n",
    "lr.fit(train_x, df3[['VIP']])\n",
    "\n",
    "ans23 = lr.predict_proba(test_x)[0][1]"
   ]
  },
  {
   "cell_type": "code",
   "execution_count": null,
   "id": "77d8e9e3",
   "metadata": {},
   "outputs": [],
   "source": [
    "print('Q3 Result: ', ans23)\n",
    "print('Q3 Answer: ', round(ans23, 4))"
   ]
  },
  {
   "cell_type": "code",
   "execution_count": null,
   "id": "af52b5ae",
   "metadata": {},
   "outputs": [],
   "source": []
  }
 ],
 "metadata": {
  "kernelspec": {
   "display_name": "Python 3 (ipykernel)",
   "language": "python",
   "name": "python3"
  },
  "language_info": {
   "codemirror_mode": {
    "name": "ipython",
    "version": 3
   },
   "file_extension": ".py",
   "mimetype": "text/x-python",
   "name": "python",
   "nbconvert_exporter": "python",
   "pygments_lexer": "ipython3",
   "version": "3.7.4"
  }
 },
 "nbformat": 4,
 "nbformat_minor": 5
}
