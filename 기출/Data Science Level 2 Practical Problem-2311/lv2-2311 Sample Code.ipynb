{
 "cells": [
  {
   "cell_type": "code",
   "execution_count": 4,
   "id": "5cc64552",
   "metadata": {},
   "outputs": [],
   "source": [
    "import pandas as pd \n",
    "import numpy as np"
   ]
  },
  {
   "cell_type": "code",
   "execution_count": 5,
   "id": "a8738b28",
   "metadata": {},
   "outputs": [],
   "source": [
    "set2 = pd.read_csv('lv2-2311.csv')"
   ]
  },
  {
   "cell_type": "code",
   "execution_count": 6,
   "id": "d1bac3b5",
   "metadata": {},
   "outputs": [
    {
     "name": "stdout",
     "output_type": "stream",
     "text": [
      "<class 'pandas.core.frame.DataFrame'>\n",
      "RangeIndex: 1000 entries, 0 to 999\n",
      "Data columns (total 12 columns):\n",
      "SCM_NO                1000 non-null int64\n",
      "PRODUCT_SOLD          1000 non-null int64\n",
      "REVENUE               1000 non-null float64\n",
      "SHIPPING_TIME         1000 non-null int64\n",
      "SHIPPING_COST         1000 non-null float64\n",
      "PRODUCT_VOL           1000 non-null int64\n",
      "MANUFACTURING_TIME    1000 non-null int64\n",
      "MANUFACTURING_COST    1000 non-null float64\n",
      "DEFECT_RATE           1000 non-null float64\n",
      "PRODUCT_TYPE          1000 non-null object\n",
      "ROUTE                 1000 non-null object\n",
      "TOTAL_COST            1000 non-null float64\n",
      "dtypes: float64(5), int64(5), object(2)\n",
      "memory usage: 93.9+ KB\n"
     ]
    }
   ],
   "source": [
    "set2.info()"
   ]
  },
  {
   "cell_type": "markdown",
   "id": "4320d317",
   "metadata": {},
   "source": [
    "# 1"
   ]
  },
  {
   "cell_type": "code",
   "execution_count": 7,
   "id": "f7463a23",
   "metadata": {},
   "outputs": [],
   "source": [
    "df1 = set2.copy()"
   ]
  },
  {
   "cell_type": "code",
   "execution_count": 8,
   "id": "f8cfabac",
   "metadata": {},
   "outputs": [],
   "source": [
    "p_list = df1['PRODUCT_TYPE'].unique().tolist()"
   ]
  },
  {
   "cell_type": "code",
   "execution_count": 9,
   "id": "344e1606",
   "metadata": {},
   "outputs": [],
   "source": [
    "res = pd.DataFrame(columns = df1.columns)\n",
    "for p in p_list:\n",
    "    tmp = df1[df1['PRODUCT_TYPE'] == p]\n",
    "    q1_t = tmp['SHIPPING_TIME'].quantile(.25)\n",
    "    q3_t = tmp['SHIPPING_TIME'].quantile(.75)\n",
    "    iqr_t = q3_t - q1_t\n",
    "    q1_c = tmp['SHIPPING_COST'].quantile(.25)\n",
    "    q3_c = tmp['SHIPPING_COST'].quantile(.75)\n",
    "    iqr_c = q3_c - q1_c\n",
    "\n",
    "    tmp1 = tmp[(tmp['SHIPPING_TIME'] >= q1_t -  iqr_t) & (tmp['SHIPPING_TIME'] <= q3_t +iqr_t)]\n",
    "    tmp2 = tmp1[(tmp1['SHIPPING_COST'] >= q1_c -  iqr_c) & (tmp1['SHIPPING_COST'] <= q3_c + iqr_c)]\n",
    "    res = res.append(tmp2)\n",
    "        "
   ]
  },
  {
   "cell_type": "code",
   "execution_count": 10,
   "id": "4e51cc68",
   "metadata": {},
   "outputs": [],
   "source": [
    "res['SHIPPING_TIME'] = res['SHIPPING_TIME'].astype(int)\n",
    "\n",
    "A = res.groupby(['PRODUCT_TYPE'])['SHIPPING_COST'].mean().reset_index()\n",
    "\n",
    "B = res.groupby(['PRODUCT_TYPE'])['SHIPPING_TIME'].mean().reset_index()\n",
    "\n",
    "A['SHIPPING_TIME'] = B['SHIPPING_TIME']\n",
    "\n",
    "A['RATIO'] = A['SHIPPING_COST'] / A['SHIPPING_TIME']\n"
   ]
  },
  {
   "cell_type": "code",
   "execution_count": 11,
   "id": "cbf87026",
   "metadata": {},
   "outputs": [],
   "source": [
    "ans24 = A['RATIO'].min()"
   ]
  },
  {
   "cell_type": "code",
   "execution_count": 13,
   "id": "1b57a9e0",
   "metadata": {},
   "outputs": [
    {
     "name": "stdout",
     "output_type": "stream",
     "text": [
      "Q1 Result: 0.9480963473110875\n",
      "Q1 Answer: 0.948\n"
     ]
    }
   ],
   "source": [
    "print('Q1 Result:', ans24)\n",
    "print('Q1 Answer:', round(ans24,3))"
   ]
  },
  {
   "cell_type": "markdown",
   "id": "dc12f10a",
   "metadata": {},
   "source": [
    "# 2"
   ]
  },
  {
   "cell_type": "code",
   "execution_count": 14,
   "id": "69f5a002",
   "metadata": {},
   "outputs": [],
   "source": [
    "df2 = set2.copy()"
   ]
  },
  {
   "cell_type": "code",
   "execution_count": 15,
   "id": "9c690c22",
   "metadata": {},
   "outputs": [],
   "source": [
    "from sklearn.preprocessing import MinMaxScaler, StandardScaler"
   ]
  },
  {
   "cell_type": "code",
   "execution_count": 16,
   "id": "6fa0ba85",
   "metadata": {},
   "outputs": [],
   "source": [
    "mm = MinMaxScaler()\n",
    "sc = StandardScaler()"
   ]
  },
  {
   "cell_type": "code",
   "execution_count": 17,
   "id": "2ca0fb09",
   "metadata": {},
   "outputs": [],
   "source": [
    "m_df = mm.fit_transform(df2[['PRODUCT_SOLD', 'REVENUE', 'PRODUCT_VOL','MANUFACTURING_TIME','MANUFACTURING_COST' ]])\n",
    "sc_df = sc.fit_transform(df2[['PRODUCT_SOLD', 'REVENUE', 'PRODUCT_VOL','MANUFACTURING_TIME','MANUFACTURING_COST' ]])"
   ]
  },
  {
   "cell_type": "code",
   "execution_count": 18,
   "id": "e85e226d",
   "metadata": {},
   "outputs": [],
   "source": [
    "from sklearn.cluster import KMeans"
   ]
  },
  {
   "cell_type": "code",
   "execution_count": 19,
   "id": "c080e45d",
   "metadata": {},
   "outputs": [],
   "source": [
    "km1 = KMeans(init='random',random_state = 100, n_clusters=3, n_init = 100)\n",
    "km2 = KMeans(init='random',random_state = 101, n_clusters=3, n_init = 100)"
   ]
  },
  {
   "cell_type": "code",
   "execution_count": 20,
   "id": "2f6927fe",
   "metadata": {},
   "outputs": [],
   "source": [
    "df2['sc_cluster'] = km1.fit(sc_df).predict(sc_df)\n",
    "df2['m_cluster'] = km2.fit(m_df).predict(m_df)"
   ]
  },
  {
   "cell_type": "code",
   "execution_count": 21,
   "id": "ef653e77",
   "metadata": {},
   "outputs": [
    {
     "name": "stdout",
     "output_type": "stream",
     "text": [
      "2\n"
     ]
    }
   ],
   "source": [
    "s_agg = df2.groupby(['sc_cluster'])['SCM_NO'].count().reset_index()\n",
    "s_agg['Max'] = s_agg['SCM_NO'].max()\n",
    "smax = s_agg[s_agg['SCM_NO'] == s_agg['Max']]['sc_cluster'].values[0]\n",
    "print(smax)"
   ]
  },
  {
   "cell_type": "code",
   "execution_count": 22,
   "id": "73d3ccf1",
   "metadata": {},
   "outputs": [
    {
     "name": "stdout",
     "output_type": "stream",
     "text": [
      "1\n"
     ]
    }
   ],
   "source": [
    "m_agg = df2.groupby(['m_cluster'])['SCM_NO'].count().reset_index()\n",
    "m_agg['Max'] = m_agg['SCM_NO'].max()\n",
    "mmax = m_agg[m_agg['SCM_NO'] == m_agg['Max']]['m_cluster'].values[0]\n",
    "print(mmax)"
   ]
  },
  {
   "cell_type": "code",
   "execution_count": 23,
   "id": "234e477d",
   "metadata": {},
   "outputs": [],
   "source": [
    "tmp1 = df2[(df2['m_cluster'] == mmax) & (df2['sc_cluster'] == smax)]"
   ]
  },
  {
   "cell_type": "code",
   "execution_count": 24,
   "id": "899ece33",
   "metadata": {},
   "outputs": [],
   "source": [
    "A = len(tmp1[tmp1['PRODUCT_TYPE'] == 'PC'])/ len(tmp1)\n",
    "ans25 = A"
   ]
  },
  {
   "cell_type": "code",
   "execution_count": 25,
   "id": "93daa704",
   "metadata": {},
   "outputs": [
    {
     "name": "stdout",
     "output_type": "stream",
     "text": [
      "Q2 Result: 0.4634146341463415\n",
      "Q2 Answer: 0.463\n"
     ]
    }
   ],
   "source": [
    "print('Q2 Result:', ans25)\n",
    "print('Q2 Answer:', round(ans25,3))"
   ]
  },
  {
   "cell_type": "markdown",
   "id": "25016f3b",
   "metadata": {},
   "source": [
    "# 3"
   ]
  },
  {
   "cell_type": "code",
   "execution_count": 26,
   "id": "81dd80ec",
   "metadata": {},
   "outputs": [],
   "source": [
    "df3 = set2.copy()"
   ]
  },
  {
   "cell_type": "code",
   "execution_count": 27,
   "id": "bb868d7d",
   "metadata": {},
   "outputs": [],
   "source": [
    "train = df3[df3['SCM_NO']% 5 != 0]\n",
    "test = df3[df3['SCM_NO']% 5 == 0]"
   ]
  },
  {
   "cell_type": "code",
   "execution_count": 28,
   "id": "9c5199cb",
   "metadata": {},
   "outputs": [],
   "source": [
    "train_x = train[['PRODUCT_SOLD', 'SHIPPING_TIME', 'SHIPPING_COST', 'PRODUCT_VOL', 'MANUFACTURING_TIME', 'MANUFACTURING_COST']]\n",
    "test_x = test[['PRODUCT_SOLD', 'SHIPPING_TIME', 'SHIPPING_COST', 'PRODUCT_VOL', 'MANUFACTURING_TIME', 'MANUFACTURING_COST']]"
   ]
  },
  {
   "cell_type": "code",
   "execution_count": 29,
   "id": "0deb9529",
   "metadata": {},
   "outputs": [],
   "source": [
    "train_y = train[['TOTAL_COST']]\n",
    "test_y = test[['TOTAL_COST']]"
   ]
  },
  {
   "cell_type": "code",
   "execution_count": 30,
   "id": "6a1745b2",
   "metadata": {},
   "outputs": [
    {
     "name": "stderr",
     "output_type": "stream",
     "text": [
      "c:\\dstest\\python374\\lib\\site-packages\\numpy\\core\\fromnumeric.py:2542: FutureWarning: Method .ptp is deprecated and will be removed in a future version. Use numpy.ptp instead.\n",
      "  return ptp(axis=axis, out=out, **kwargs)\n"
     ]
    },
    {
     "data": {
      "text/html": [
       "<table class=\"simpletable\">\n",
       "<caption>OLS Regression Results</caption>\n",
       "<tr>\n",
       "  <th>Dep. Variable:</th>       <td>TOTAL_COST</td>    <th>  R-squared:         </th> <td>   0.018</td> \n",
       "</tr>\n",
       "<tr>\n",
       "  <th>Model:</th>                   <td>OLS</td>       <th>  Adj. R-squared:    </th> <td>   0.010</td> \n",
       "</tr>\n",
       "<tr>\n",
       "  <th>Method:</th>             <td>Least Squares</td>  <th>  F-statistic:       </th> <td>   2.388</td> \n",
       "</tr>\n",
       "<tr>\n",
       "  <th>Date:</th>             <td>Tue, 21 Nov 2023</td> <th>  Prob (F-statistic):</th>  <td>0.0271</td>  \n",
       "</tr>\n",
       "<tr>\n",
       "  <th>Time:</th>                 <td>15:10:34</td>     <th>  Log-Likelihood:    </th> <td> -5575.9</td> \n",
       "</tr>\n",
       "<tr>\n",
       "  <th>No. Observations:</th>      <td>   800</td>      <th>  AIC:               </th> <td>1.117e+04</td>\n",
       "</tr>\n",
       "<tr>\n",
       "  <th>Df Residuals:</th>          <td>   793</td>      <th>  BIC:               </th> <td>1.120e+04</td>\n",
       "</tr>\n",
       "<tr>\n",
       "  <th>Df Model:</th>              <td>     6</td>      <th>                     </th>     <td> </td>    \n",
       "</tr>\n",
       "<tr>\n",
       "  <th>Covariance Type:</th>      <td>nonrobust</td>    <th>                     </th>     <td> </td>    \n",
       "</tr>\n",
       "</table>\n",
       "<table class=\"simpletable\">\n",
       "<tr>\n",
       "           <td></td>             <th>coef</th>     <th>std err</th>      <th>t</th>      <th>P>|t|</th>  <th>[0.025</th>    <th>0.975]</th>  \n",
       "</tr>\n",
       "<tr>\n",
       "  <th>const</th>              <td>  583.9214</td> <td>   41.470</td> <td>   14.080</td> <td> 0.000</td> <td>  502.517</td> <td>  665.326</td>\n",
       "</tr>\n",
       "<tr>\n",
       "  <th>PRODUCT_SOLD</th>       <td>   -0.0430</td> <td>    0.031</td> <td>   -1.397</td> <td> 0.163</td> <td>   -0.103</td> <td>    0.017</td>\n",
       "</tr>\n",
       "<tr>\n",
       "  <th>SHIPPING_TIME</th>      <td>    0.2932</td> <td>    3.207</td> <td>    0.091</td> <td> 0.927</td> <td>   -6.001</td> <td>    6.588</td>\n",
       "</tr>\n",
       "<tr>\n",
       "  <th>SHIPPING_COST</th>      <td>    6.0453</td> <td>    3.279</td> <td>    1.844</td> <td> 0.066</td> <td>   -0.390</td> <td>   12.481</td>\n",
       "</tr>\n",
       "<tr>\n",
       "  <th>PRODUCT_VOL</th>        <td>   -0.0605</td> <td>    0.037</td> <td>   -1.655</td> <td> 0.098</td> <td>   -0.132</td> <td>    0.011</td>\n",
       "</tr>\n",
       "<tr>\n",
       "  <th>MANUFACTURING_TIME</th> <td>    0.4055</td> <td>    1.078</td> <td>    0.376</td> <td> 0.707</td> <td>   -1.711</td> <td>    2.522</td>\n",
       "</tr>\n",
       "<tr>\n",
       "  <th>MANUFACTURING_COST</th> <td>   -0.6942</td> <td>    0.331</td> <td>   -2.095</td> <td> 0.037</td> <td>   -1.345</td> <td>   -0.044</td>\n",
       "</tr>\n",
       "</table>\n",
       "<table class=\"simpletable\">\n",
       "<tr>\n",
       "  <th>Omnibus:</th>       <td>250.829</td> <th>  Durbin-Watson:     </th> <td>   2.071</td>\n",
       "</tr>\n",
       "<tr>\n",
       "  <th>Prob(Omnibus):</th> <td> 0.000</td>  <th>  Jarque-Bera (JB):  </th> <td>  38.547</td>\n",
       "</tr>\n",
       "<tr>\n",
       "  <th>Skew:</th>          <td> 0.015</td>  <th>  Prob(JB):          </th> <td>4.26e-09</td>\n",
       "</tr>\n",
       "<tr>\n",
       "  <th>Kurtosis:</th>      <td> 1.925</td>  <th>  Cond. No.          </th> <td>3.64e+03</td>\n",
       "</tr>\n",
       "</table><br/><br/>Warnings:<br/>[1] Standard Errors assume that the covariance matrix of the errors is correctly specified.<br/>[2] The condition number is large, 3.64e+03. This might indicate that there are<br/>strong multicollinearity or other numerical problems."
      ],
      "text/plain": [
       "<class 'statsmodels.iolib.summary.Summary'>\n",
       "\"\"\"\n",
       "                            OLS Regression Results                            \n",
       "==============================================================================\n",
       "Dep. Variable:             TOTAL_COST   R-squared:                       0.018\n",
       "Model:                            OLS   Adj. R-squared:                  0.010\n",
       "Method:                 Least Squares   F-statistic:                     2.388\n",
       "Date:                Tue, 21 Nov 2023   Prob (F-statistic):             0.0271\n",
       "Time:                        15:10:34   Log-Likelihood:                -5575.9\n",
       "No. Observations:                 800   AIC:                         1.117e+04\n",
       "Df Residuals:                     793   BIC:                         1.120e+04\n",
       "Df Model:                           6                                         \n",
       "Covariance Type:            nonrobust                                         \n",
       "======================================================================================\n",
       "                         coef    std err          t      P>|t|      [0.025      0.975]\n",
       "--------------------------------------------------------------------------------------\n",
       "const                583.9214     41.470     14.080      0.000     502.517     665.326\n",
       "PRODUCT_SOLD          -0.0430      0.031     -1.397      0.163      -0.103       0.017\n",
       "SHIPPING_TIME          0.2932      3.207      0.091      0.927      -6.001       6.588\n",
       "SHIPPING_COST          6.0453      3.279      1.844      0.066      -0.390      12.481\n",
       "PRODUCT_VOL           -0.0605      0.037     -1.655      0.098      -0.132       0.011\n",
       "MANUFACTURING_TIME     0.4055      1.078      0.376      0.707      -1.711       2.522\n",
       "MANUFACTURING_COST    -0.6942      0.331     -2.095      0.037      -1.345      -0.044\n",
       "==============================================================================\n",
       "Omnibus:                      250.829   Durbin-Watson:                   2.071\n",
       "Prob(Omnibus):                  0.000   Jarque-Bera (JB):               38.547\n",
       "Skew:                           0.015   Prob(JB):                     4.26e-09\n",
       "Kurtosis:                       1.925   Cond. No.                     3.64e+03\n",
       "==============================================================================\n",
       "\n",
       "Warnings:\n",
       "[1] Standard Errors assume that the covariance matrix of the errors is correctly specified.\n",
       "[2] The condition number is large, 3.64e+03. This might indicate that there are\n",
       "strong multicollinearity or other numerical problems.\n",
       "\"\"\""
      ]
     },
     "execution_count": 30,
     "metadata": {},
     "output_type": "execute_result"
    }
   ],
   "source": [
    "from statsmodels.api import add_constant, OLS\n",
    "train_x_const = add_constant(train_x)\n",
    "model = OLS(train_y, train_x_const).fit()\n",
    "model.summary()"
   ]
  },
  {
   "cell_type": "code",
   "execution_count": 31,
   "id": "62587fb3",
   "metadata": {},
   "outputs": [
    {
     "data": {
      "text/html": [
       "<div>\n",
       "<style scoped>\n",
       "    .dataframe tbody tr th:only-of-type {\n",
       "        vertical-align: middle;\n",
       "    }\n",
       "\n",
       "    .dataframe tbody tr th {\n",
       "        vertical-align: top;\n",
       "    }\n",
       "\n",
       "    .dataframe thead th {\n",
       "        text-align: right;\n",
       "    }\n",
       "</style>\n",
       "<table border=\"1\" class=\"dataframe\">\n",
       "  <thead>\n",
       "    <tr style=\"text-align: right;\">\n",
       "      <th></th>\n",
       "      <th>index</th>\n",
       "      <th>0</th>\n",
       "      <th>1</th>\n",
       "    </tr>\n",
       "  </thead>\n",
       "  <tbody>\n",
       "    <tr>\n",
       "      <td>3</td>\n",
       "      <td>SHIPPING_COST</td>\n",
       "      <td>-0.390491</td>\n",
       "      <td>12.481131</td>\n",
       "    </tr>\n",
       "  </tbody>\n",
       "</table>\n",
       "</div>"
      ],
      "text/plain": [
       "           index         0          1\n",
       "3  SHIPPING_COST -0.390491  12.481131"
      ]
     },
     "execution_count": 31,
     "metadata": {},
     "output_type": "execute_result"
    }
   ],
   "source": [
    "conf = model.conf_int(alpha=0.05).reset_index()\n",
    "C = conf[conf['index']=='SHIPPING_COST'][0].values[0]\n",
    "D = conf[conf['index']=='SHIPPING_COST'][1].values[0]\n",
    "conf[conf['index']=='SHIPPING_COST']"
   ]
  },
  {
   "cell_type": "code",
   "execution_count": 32,
   "id": "cfc31d62",
   "metadata": {},
   "outputs": [],
   "source": [
    "test1 = test[test['SCM_NO'] == 870]"
   ]
  },
  {
   "cell_type": "code",
   "execution_count": 33,
   "id": "0a3ea118",
   "metadata": {},
   "outputs": [],
   "source": [
    "test_x1 = test1[['PRODUCT_SOLD', 'SHIPPING_TIME', 'SHIPPING_COST', 'PRODUCT_VOL', 'MANUFACTURING_TIME', 'MANUFACTURING_COST']]"
   ]
  },
  {
   "cell_type": "code",
   "execution_count": 34,
   "id": "b63ea90f",
   "metadata": {},
   "outputs": [],
   "source": [
    "E = model.predict(add_constant(test_x))[test1.index.tolist()[0]]"
   ]
  },
  {
   "cell_type": "code",
   "execution_count": 35,
   "id": "c6f3608d",
   "metadata": {},
   "outputs": [],
   "source": [
    "ans26 = abs(C) + abs(D) + abs(E)"
   ]
  },
  {
   "cell_type": "code",
   "execution_count": 36,
   "id": "bbcd4fe5",
   "metadata": {},
   "outputs": [
    {
     "name": "stdout",
     "output_type": "stream",
     "text": [
      "Q3 Result: 580.3946496852564\n",
      "Q3 Answer: 580.4\n"
     ]
    }
   ],
   "source": [
    "print('Q3 Result:', ans26)\n",
    "print('Q3 Answer:', round(ans26,1))"
   ]
  },
  {
   "cell_type": "markdown",
   "id": "fe500174",
   "metadata": {},
   "source": [
    "### Summary"
   ]
  },
  {
   "cell_type": "code",
   "execution_count": 37,
   "id": "736d1d45",
   "metadata": {},
   "outputs": [
    {
     "name": "stdout",
     "output_type": "stream",
     "text": [
      "Q1 Result: 0.9480963473110875\n",
      "Q1 Answer: 0.948\n",
      "Q2 Result: 0.4634146341463415\n",
      "Q2 Answer: 0.463\n",
      "Q3 Result: 580.3946496852564\n",
      "Q3 Answer: 580.4\n"
     ]
    }
   ],
   "source": [
    "print('Q1 Result:', ans24)\n",
    "print('Q1 Answer:', round(ans24,3))\n",
    "print('Q2 Result:', ans25)\n",
    "print('Q2 Answer:', round(ans25,3))\n",
    "print('Q3 Result:', ans26)\n",
    "print('Q3 Answer:', round(ans26,1))"
   ]
  },
  {
   "cell_type": "code",
   "execution_count": null,
   "id": "e25e12a9",
   "metadata": {},
   "outputs": [],
   "source": []
  }
 ],
 "metadata": {
  "kernelspec": {
   "display_name": "Python 3 (ipykernel)",
   "language": "python",
   "name": "python3"
  },
  "language_info": {
   "codemirror_mode": {
    "name": "ipython",
    "version": 3
   },
   "file_extension": ".py",
   "mimetype": "text/x-python",
   "name": "python",
   "nbconvert_exporter": "python",
   "pygments_lexer": "ipython3",
   "version": "3.7.4"
  }
 },
 "nbformat": 4,
 "nbformat_minor": 5
}
